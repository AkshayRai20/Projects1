{
  "nbformat": 4,
  "nbformat_minor": 0,
  "metadata": {
    "kernelspec": {
      "display_name": "Python 3",
      "language": "python",
      "name": "python3"
    },
    "language_info": {
      "codemirror_mode": {
        "name": "ipython",
        "version": 3
      },
      "file_extension": ".py",
      "mimetype": "text/x-python",
      "name": "python",
      "nbconvert_exporter": "python",
      "pygments_lexer": "ipython3",
      "version": "3.6.6"
    },
    "colab": {
      "name": "Akshay -Team 6 - Capstone Project.ipynb",
      "provenance": [],
      "collapsed_sections": [],
      "include_colab_link": true
    }
  },
  "cells": [
    {
      "cell_type": "markdown",
      "metadata": {
        "id": "view-in-github",
        "colab_type": "text"
      },
      "source": [
        "<a href=\"https://colab.research.google.com/github/AkshayRai20/Projects1/blob/main/Akshay_Team_6_Capstone_Project.ipynb\" target=\"_parent\"><img src=\"https://colab.research.google.com/assets/colab-badge.svg\" alt=\"Open In Colab\"/></a>"
      ]
    },
    {
      "cell_type": "markdown",
      "metadata": {
        "id": "Y06xIdG26kRF"
      },
      "source": [
        "## <b> Have you ever wondered when the best time of year to book a hotel room is? Or the optimal length of stay in order to get the best daily rate? What if you wanted to predict whether or not a hotel was likely to receive a disproportionately high number of special requests? This hotel booking dataset can help you explore those questions!\n",
        "\n",
        "## <b>This data set contains booking information for a city hotel and a resort hotel, and includes information such as when the booking was made, length of stay, the number of adults, children, and/or babies, and the number of available parking spaces, among other things. All personally identifying information has been removed from the data. </b>\n",
        "\n",
        "## <b> Explore and analyze the data to discover important factors that govern the bookings. </b>"
      ]
    },
    {
      "cell_type": "code",
      "metadata": {
        "id": "dByMsuzT8Tnw",
        "outputId": "9ae5eb0b-be48-4d67-8dae-f0e57c6974c7",
        "colab": {
          "base_uri": "https://localhost:8080/"
        }
      },
      "source": [
        "from google.colab import drive\n",
        "drive.mount('/content/drive')"
      ],
      "execution_count": 1,
      "outputs": [
        {
          "output_type": "stream",
          "text": [
            "Mounted at /content/drive\n"
          ],
          "name": "stdout"
        }
      ]
    },
    {
      "cell_type": "markdown",
      "metadata": {
        "id": "2cMu0Ggi0ql8"
      },
      "source": [
        "**Structure**\n",
        "1. Introduction to the data\n",
        "2. Assumptions made\n",
        "3. The four dimensions we have explored\n",
        "4. Codes \n",
        "5. Conclusions\n"
      ]
    },
    {
      "cell_type": "markdown",
      "metadata": {
        "id": "jqjNtvhk2Z29"
      },
      "source": [
        "**Assumptions Box**\n",
        "1. Rows where the ADR reads zero but the status reads 'check-out' have been ignored\n",
        "\n",
        "2. Rows where the number of people sums up to zero, including adults, babies and children have not been considered\n",
        "\n",
        "3. ADR has been kept flat even for larger groups for simplicity\n",
        "\n"
      ]
    },
    {
      "cell_type": "markdown",
      "metadata": {
        "id": "-Huhw9ErI-8_"
      },
      "source": [
        ""
      ]
    },
    {
      "cell_type": "markdown",
      "metadata": {
        "id": "QhvRSzohzJbd"
      },
      "source": [
        "# The Four Dimensions \n",
        "\n",
        "NOTE: Codes might not follow the sequence of questions as the final set is still being finalized\n",
        "\n",
        "\n",
        "**Bookings**\n",
        "1. What is the percentage of booking for each year?\n",
        "2. Most booked accomodation type?\n",
        "3. Distribution of ADR?\n",
        "4. How much do guests pay for a room per night?\n",
        "5. How long do people stay at the hotels\n",
        "6. Bookings by market segment?\n",
        "7. What do the weekend vs. weekday look like for resort hotels?\n",
        "8. Does parking have an impact on bookings for resort hotels?\n",
        "\n",
        "**Cancellations**\n",
        "1. How many booking were cancelled?\n",
        "2. Effect of lead time on cancellations?\n",
        "3. Effect of deposit type on cancellations?\n",
        "4. Effect of ADR on cancellations?\n",
        "\n",
        "**Demography**\n",
        "1. From which country most guest are coming?\n",
        "2. Which country brings in the most revenue?\n",
        "\n",
        "**Seasonality**\n",
        "1. Which month has the least traffic?\n",
        "2. How does the price per night vary over the year?\n",
        "3. Which month have the highest number of cancelations?\n",
        "\n",
        "**Others**\n",
        "1. Which category has the highest number of special requests?\n",
        "2. Does children have an impact on the number of special requests made?\n",
        "\n",
        "\n",
        "\n",
        "\n",
        "\n",
        "\n"
      ]
    },
    {
      "cell_type": "markdown",
      "metadata": {
        "id": "u6eKJnB53NlN"
      },
      "source": [
        "**Preparing and exploration of data**\n"
      ]
    },
    {
      "cell_type": "code",
      "metadata": {
        "id": "4YieyBCAlKBb"
      },
      "source": [
        "#Initialization##\n",
        "import numpy as np\n",
        "import pandas as pd"
      ],
      "execution_count": 6,
      "outputs": []
    },
    {
      "cell_type": "code",
      "metadata": {
        "id": "V-rrW2IGkYj1"
      },
      "source": [
        "df=pd.read_csv(\"/content/drive/My Drive/Cohort Aravali/CohortAravali-201005-153433.zip (Unzipped Files)/AlmaBetter/Module 2/Week 1/hotel_bookings.csv\")"
      ],
      "execution_count": 7,
      "outputs": []
    },
    {
      "cell_type": "markdown",
      "metadata": {
        "id": "a_IOVx7rmpkn"
      },
      "source": [
        "df.head(3)"
      ]
    },
    {
      "cell_type": "code",
      "metadata": {
        "id": "zzy1x_cfvhXr",
        "outputId": "69485b61-1a95-4fc2-88d1-fefb224005a7",
        "colab": {
          "base_uri": "https://localhost:8080/",
          "height": 419
        }
      },
      "source": [
        "###Checking for relation between 'is_cancelled' and 'reservation_status'###\n",
        "df[['is_canceled','reservation_status']][0:150] "
      ],
      "execution_count": 8,
      "outputs": [
        {
          "output_type": "execute_result",
          "data": {
            "text/html": [
              "<div>\n",
              "<style scoped>\n",
              "    .dataframe tbody tr th:only-of-type {\n",
              "        vertical-align: middle;\n",
              "    }\n",
              "\n",
              "    .dataframe tbody tr th {\n",
              "        vertical-align: top;\n",
              "    }\n",
              "\n",
              "    .dataframe thead th {\n",
              "        text-align: right;\n",
              "    }\n",
              "</style>\n",
              "<table border=\"1\" class=\"dataframe\">\n",
              "  <thead>\n",
              "    <tr style=\"text-align: right;\">\n",
              "      <th></th>\n",
              "      <th>is_canceled</th>\n",
              "      <th>reservation_status</th>\n",
              "    </tr>\n",
              "  </thead>\n",
              "  <tbody>\n",
              "    <tr>\n",
              "      <th>0</th>\n",
              "      <td>0</td>\n",
              "      <td>Check-Out</td>\n",
              "    </tr>\n",
              "    <tr>\n",
              "      <th>1</th>\n",
              "      <td>0</td>\n",
              "      <td>Check-Out</td>\n",
              "    </tr>\n",
              "    <tr>\n",
              "      <th>2</th>\n",
              "      <td>0</td>\n",
              "      <td>Check-Out</td>\n",
              "    </tr>\n",
              "    <tr>\n",
              "      <th>3</th>\n",
              "      <td>0</td>\n",
              "      <td>Check-Out</td>\n",
              "    </tr>\n",
              "    <tr>\n",
              "      <th>4</th>\n",
              "      <td>0</td>\n",
              "      <td>Check-Out</td>\n",
              "    </tr>\n",
              "    <tr>\n",
              "      <th>...</th>\n",
              "      <td>...</td>\n",
              "      <td>...</td>\n",
              "    </tr>\n",
              "    <tr>\n",
              "      <th>145</th>\n",
              "      <td>0</td>\n",
              "      <td>Check-Out</td>\n",
              "    </tr>\n",
              "    <tr>\n",
              "      <th>146</th>\n",
              "      <td>0</td>\n",
              "      <td>Check-Out</td>\n",
              "    </tr>\n",
              "    <tr>\n",
              "      <th>147</th>\n",
              "      <td>0</td>\n",
              "      <td>Check-Out</td>\n",
              "    </tr>\n",
              "    <tr>\n",
              "      <th>148</th>\n",
              "      <td>1</td>\n",
              "      <td>Canceled</td>\n",
              "    </tr>\n",
              "    <tr>\n",
              "      <th>149</th>\n",
              "      <td>1</td>\n",
              "      <td>Canceled</td>\n",
              "    </tr>\n",
              "  </tbody>\n",
              "</table>\n",
              "<p>150 rows × 2 columns</p>\n",
              "</div>"
            ],
            "text/plain": [
              "     is_canceled reservation_status\n",
              "0              0          Check-Out\n",
              "1              0          Check-Out\n",
              "2              0          Check-Out\n",
              "3              0          Check-Out\n",
              "4              0          Check-Out\n",
              "..           ...                ...\n",
              "145            0          Check-Out\n",
              "146            0          Check-Out\n",
              "147            0          Check-Out\n",
              "148            1           Canceled\n",
              "149            1           Canceled\n",
              "\n",
              "[150 rows x 2 columns]"
            ]
          },
          "metadata": {
            "tags": []
          },
          "execution_count": 8
        }
      ]
    },
    {
      "cell_type": "code",
      "metadata": {
        "id": "Fl7-hAfbvhv2",
        "outputId": "87751405-cd56-4b1d-f29a-9444534d5a3e",
        "colab": {
          "base_uri": "https://localhost:8080/"
        }
      },
      "source": [
        "###Countries###\n",
        "df['country'].unique() "
      ],
      "execution_count": 9,
      "outputs": [
        {
          "output_type": "execute_result",
          "data": {
            "text/plain": [
              "array(['PRT', 'GBR', 'USA', 'ESP', 'IRL', 'FRA', nan, 'ROU', 'NOR', 'OMN',\n",
              "       'ARG', 'POL', 'DEU', 'BEL', 'CHE', 'CN', 'GRC', 'ITA', 'NLD',\n",
              "       'DNK', 'RUS', 'SWE', 'AUS', 'EST', 'CZE', 'BRA', 'FIN', 'MOZ',\n",
              "       'BWA', 'LUX', 'SVN', 'ALB', 'IND', 'CHN', 'MEX', 'MAR', 'UKR',\n",
              "       'SMR', 'LVA', 'PRI', 'SRB', 'CHL', 'AUT', 'BLR', 'LTU', 'TUR',\n",
              "       'ZAF', 'AGO', 'ISR', 'CYM', 'ZMB', 'CPV', 'ZWE', 'DZA', 'KOR',\n",
              "       'CRI', 'HUN', 'ARE', 'TUN', 'JAM', 'HRV', 'HKG', 'IRN', 'GEO',\n",
              "       'AND', 'GIB', 'URY', 'JEY', 'CAF', 'CYP', 'COL', 'GGY', 'KWT',\n",
              "       'NGA', 'MDV', 'VEN', 'SVK', 'FJI', 'KAZ', 'PAK', 'IDN', 'LBN',\n",
              "       'PHL', 'SEN', 'SYC', 'AZE', 'BHR', 'NZL', 'THA', 'DOM', 'MKD',\n",
              "       'MYS', 'ARM', 'JPN', 'LKA', 'CUB', 'CMR', 'BIH', 'MUS', 'COM',\n",
              "       'SUR', 'UGA', 'BGR', 'CIV', 'JOR', 'SYR', 'SGP', 'BDI', 'SAU',\n",
              "       'VNM', 'PLW', 'QAT', 'EGY', 'PER', 'MLT', 'MWI', 'ECU', 'MDG',\n",
              "       'ISL', 'UZB', 'NPL', 'BHS', 'MAC', 'TGO', 'TWN', 'DJI', 'STP',\n",
              "       'KNA', 'ETH', 'IRQ', 'HND', 'RWA', 'KHM', 'MCO', 'BGD', 'IMN',\n",
              "       'TJK', 'NIC', 'BEN', 'VGB', 'TZA', 'GAB', 'GHA', 'TMP', 'GLP',\n",
              "       'KEN', 'LIE', 'GNB', 'MNE', 'UMI', 'MYT', 'FRO', 'MMR', 'PAN',\n",
              "       'BFA', 'LBY', 'MLI', 'NAM', 'BOL', 'PRY', 'BRB', 'ABW', 'AIA',\n",
              "       'SLV', 'DMA', 'PYF', 'GUY', 'LCA', 'ATA', 'GTM', 'ASM', 'MRT',\n",
              "       'NCL', 'KIR', 'SDN', 'ATF', 'SLE', 'LAO'], dtype=object)"
            ]
          },
          "metadata": {
            "tags": []
          },
          "execution_count": 9
        }
      ]
    },
    {
      "cell_type": "code",
      "metadata": {
        "id": "zB3j1jwfviGQ",
        "outputId": "26c9d010-17a4-4c86-e3d5-be65642bb428",
        "colab": {
          "base_uri": "https://localhost:8080/"
        }
      },
      "source": [
        "##Types of meals##\n",
        "df['meal'].unique()  "
      ],
      "execution_count": 10,
      "outputs": [
        {
          "output_type": "execute_result",
          "data": {
            "text/plain": [
              "array(['BB', 'FB', 'HB', 'SC', 'Undefined'], dtype=object)"
            ]
          },
          "metadata": {
            "tags": []
          },
          "execution_count": 10
        }
      ]
    },
    {
      "cell_type": "code",
      "metadata": {
        "id": "a6Kw93epviVM",
        "outputId": "e04ce8e6-bc56-4ff1-f61a-069b42e8ce82",
        "colab": {
          "base_uri": "https://localhost:8080/"
        }
      },
      "source": [
        "##Different market segments##\n",
        "df['market_segment'].unique()"
      ],
      "execution_count": 11,
      "outputs": [
        {
          "output_type": "execute_result",
          "data": {
            "text/plain": [
              "array(['Direct', 'Corporate', 'Online TA', 'Offline TA/TO',\n",
              "       'Complementary', 'Groups', 'Undefined', 'Aviation'], dtype=object)"
            ]
          },
          "metadata": {
            "tags": []
          },
          "execution_count": 11
        }
      ]
    },
    {
      "cell_type": "code",
      "metadata": {
        "id": "vyAsuSStwivd",
        "outputId": "13b0edd8-ea2e-4091-947a-bb8703c8436f",
        "colab": {
          "base_uri": "https://localhost:8080/"
        }
      },
      "source": [
        "##Different distribution channels##\n",
        "df['distribution_channel'].unique()"
      ],
      "execution_count": 12,
      "outputs": [
        {
          "output_type": "execute_result",
          "data": {
            "text/plain": [
              "array(['Direct', 'Corporate', 'TA/TO', 'Undefined', 'GDS'], dtype=object)"
            ]
          },
          "metadata": {
            "tags": []
          },
          "execution_count": 12
        }
      ]
    },
    {
      "cell_type": "code",
      "metadata": {
        "id": "YyLQoRQ5wsHK",
        "outputId": "d75063d5-04cb-43c0-a839-087b56e8c83c",
        "colab": {
          "base_uri": "https://localhost:8080/"
        }
      },
      "source": [
        "##Values of repeated guests##\n",
        "df['is_repeated_guest'].unique()"
      ],
      "execution_count": 13,
      "outputs": [
        {
          "output_type": "execute_result",
          "data": {
            "text/plain": [
              "array([0, 1])"
            ]
          },
          "metadata": {
            "tags": []
          },
          "execution_count": 13
        }
      ]
    },
    {
      "cell_type": "code",
      "metadata": {
        "id": "BpzdPf2lwxf3",
        "outputId": "eabf4d9d-9f9b-4dc3-8d60-ebd65176d9a1",
        "colab": {
          "base_uri": "https://localhost:8080/",
          "height": 213
        }
      },
      "source": [
        "df.head(3)"
      ],
      "execution_count": 14,
      "outputs": [
        {
          "output_type": "execute_result",
          "data": {
            "text/html": [
              "<div>\n",
              "<style scoped>\n",
              "    .dataframe tbody tr th:only-of-type {\n",
              "        vertical-align: middle;\n",
              "    }\n",
              "\n",
              "    .dataframe tbody tr th {\n",
              "        vertical-align: top;\n",
              "    }\n",
              "\n",
              "    .dataframe thead th {\n",
              "        text-align: right;\n",
              "    }\n",
              "</style>\n",
              "<table border=\"1\" class=\"dataframe\">\n",
              "  <thead>\n",
              "    <tr style=\"text-align: right;\">\n",
              "      <th></th>\n",
              "      <th>hotel</th>\n",
              "      <th>is_canceled</th>\n",
              "      <th>lead_time</th>\n",
              "      <th>arrival_date_year</th>\n",
              "      <th>arrival_date_month</th>\n",
              "      <th>arrival_date_week_number</th>\n",
              "      <th>arrival_date_day_of_month</th>\n",
              "      <th>stays_in_weekend_nights</th>\n",
              "      <th>stays_in_week_nights</th>\n",
              "      <th>adults</th>\n",
              "      <th>children</th>\n",
              "      <th>babies</th>\n",
              "      <th>meal</th>\n",
              "      <th>country</th>\n",
              "      <th>market_segment</th>\n",
              "      <th>distribution_channel</th>\n",
              "      <th>is_repeated_guest</th>\n",
              "      <th>previous_cancellations</th>\n",
              "      <th>previous_bookings_not_canceled</th>\n",
              "      <th>reserved_room_type</th>\n",
              "      <th>assigned_room_type</th>\n",
              "      <th>booking_changes</th>\n",
              "      <th>deposit_type</th>\n",
              "      <th>agent</th>\n",
              "      <th>company</th>\n",
              "      <th>days_in_waiting_list</th>\n",
              "      <th>customer_type</th>\n",
              "      <th>adr</th>\n",
              "      <th>required_car_parking_spaces</th>\n",
              "      <th>total_of_special_requests</th>\n",
              "      <th>reservation_status</th>\n",
              "      <th>reservation_status_date</th>\n",
              "    </tr>\n",
              "  </thead>\n",
              "  <tbody>\n",
              "    <tr>\n",
              "      <th>0</th>\n",
              "      <td>Resort Hotel</td>\n",
              "      <td>0</td>\n",
              "      <td>342</td>\n",
              "      <td>2015</td>\n",
              "      <td>July</td>\n",
              "      <td>27</td>\n",
              "      <td>1</td>\n",
              "      <td>0</td>\n",
              "      <td>0</td>\n",
              "      <td>2</td>\n",
              "      <td>0.0</td>\n",
              "      <td>0</td>\n",
              "      <td>BB</td>\n",
              "      <td>PRT</td>\n",
              "      <td>Direct</td>\n",
              "      <td>Direct</td>\n",
              "      <td>0</td>\n",
              "      <td>0</td>\n",
              "      <td>0</td>\n",
              "      <td>C</td>\n",
              "      <td>C</td>\n",
              "      <td>3</td>\n",
              "      <td>No Deposit</td>\n",
              "      <td>NaN</td>\n",
              "      <td>NaN</td>\n",
              "      <td>0</td>\n",
              "      <td>Transient</td>\n",
              "      <td>0.0</td>\n",
              "      <td>0</td>\n",
              "      <td>0</td>\n",
              "      <td>Check-Out</td>\n",
              "      <td>2015-07-01</td>\n",
              "    </tr>\n",
              "    <tr>\n",
              "      <th>1</th>\n",
              "      <td>Resort Hotel</td>\n",
              "      <td>0</td>\n",
              "      <td>737</td>\n",
              "      <td>2015</td>\n",
              "      <td>July</td>\n",
              "      <td>27</td>\n",
              "      <td>1</td>\n",
              "      <td>0</td>\n",
              "      <td>0</td>\n",
              "      <td>2</td>\n",
              "      <td>0.0</td>\n",
              "      <td>0</td>\n",
              "      <td>BB</td>\n",
              "      <td>PRT</td>\n",
              "      <td>Direct</td>\n",
              "      <td>Direct</td>\n",
              "      <td>0</td>\n",
              "      <td>0</td>\n",
              "      <td>0</td>\n",
              "      <td>C</td>\n",
              "      <td>C</td>\n",
              "      <td>4</td>\n",
              "      <td>No Deposit</td>\n",
              "      <td>NaN</td>\n",
              "      <td>NaN</td>\n",
              "      <td>0</td>\n",
              "      <td>Transient</td>\n",
              "      <td>0.0</td>\n",
              "      <td>0</td>\n",
              "      <td>0</td>\n",
              "      <td>Check-Out</td>\n",
              "      <td>2015-07-01</td>\n",
              "    </tr>\n",
              "    <tr>\n",
              "      <th>2</th>\n",
              "      <td>Resort Hotel</td>\n",
              "      <td>0</td>\n",
              "      <td>7</td>\n",
              "      <td>2015</td>\n",
              "      <td>July</td>\n",
              "      <td>27</td>\n",
              "      <td>1</td>\n",
              "      <td>0</td>\n",
              "      <td>1</td>\n",
              "      <td>1</td>\n",
              "      <td>0.0</td>\n",
              "      <td>0</td>\n",
              "      <td>BB</td>\n",
              "      <td>GBR</td>\n",
              "      <td>Direct</td>\n",
              "      <td>Direct</td>\n",
              "      <td>0</td>\n",
              "      <td>0</td>\n",
              "      <td>0</td>\n",
              "      <td>A</td>\n",
              "      <td>C</td>\n",
              "      <td>0</td>\n",
              "      <td>No Deposit</td>\n",
              "      <td>NaN</td>\n",
              "      <td>NaN</td>\n",
              "      <td>0</td>\n",
              "      <td>Transient</td>\n",
              "      <td>75.0</td>\n",
              "      <td>0</td>\n",
              "      <td>0</td>\n",
              "      <td>Check-Out</td>\n",
              "      <td>2015-07-02</td>\n",
              "    </tr>\n",
              "  </tbody>\n",
              "</table>\n",
              "</div>"
            ],
            "text/plain": [
              "          hotel  is_canceled  ...  reservation_status  reservation_status_date\n",
              "0  Resort Hotel            0  ...           Check-Out               2015-07-01\n",
              "1  Resort Hotel            0  ...           Check-Out               2015-07-01\n",
              "2  Resort Hotel            0  ...           Check-Out               2015-07-02\n",
              "\n",
              "[3 rows x 32 columns]"
            ]
          },
          "metadata": {
            "tags": []
          },
          "execution_count": 14
        }
      ]
    },
    {
      "cell_type": "code",
      "metadata": {
        "id": "iDWN4r77wzNI",
        "outputId": "73cc7a0d-71bb-4913-8962-b4d923c21e6a",
        "colab": {
          "base_uri": "https://localhost:8080/"
        }
      },
      "source": [
        "##Different types of rooms##\n",
        "df['assigned_room_type'].unique()"
      ],
      "execution_count": 15,
      "outputs": [
        {
          "output_type": "execute_result",
          "data": {
            "text/plain": [
              "array(['C', 'A', 'D', 'E', 'G', 'F', 'I', 'B', 'H', 'P', 'L', 'K'],\n",
              "      dtype=object)"
            ]
          },
          "metadata": {
            "tags": []
          },
          "execution_count": 15
        }
      ]
    },
    {
      "cell_type": "code",
      "metadata": {
        "id": "ZYGVhsx90N2u",
        "outputId": "086e240c-5eba-4006-c700-37e222b90e6e",
        "colab": {
          "base_uri": "https://localhost:8080/",
          "height": 419
        }
      },
      "source": [
        "###Checking for relation between ADR and room types###\n",
        "df[['reserved_room_type','assigned_room_type','adr']] "
      ],
      "execution_count": 16,
      "outputs": [
        {
          "output_type": "execute_result",
          "data": {
            "text/html": [
              "<div>\n",
              "<style scoped>\n",
              "    .dataframe tbody tr th:only-of-type {\n",
              "        vertical-align: middle;\n",
              "    }\n",
              "\n",
              "    .dataframe tbody tr th {\n",
              "        vertical-align: top;\n",
              "    }\n",
              "\n",
              "    .dataframe thead th {\n",
              "        text-align: right;\n",
              "    }\n",
              "</style>\n",
              "<table border=\"1\" class=\"dataframe\">\n",
              "  <thead>\n",
              "    <tr style=\"text-align: right;\">\n",
              "      <th></th>\n",
              "      <th>reserved_room_type</th>\n",
              "      <th>assigned_room_type</th>\n",
              "      <th>adr</th>\n",
              "    </tr>\n",
              "  </thead>\n",
              "  <tbody>\n",
              "    <tr>\n",
              "      <th>0</th>\n",
              "      <td>C</td>\n",
              "      <td>C</td>\n",
              "      <td>0.00</td>\n",
              "    </tr>\n",
              "    <tr>\n",
              "      <th>1</th>\n",
              "      <td>C</td>\n",
              "      <td>C</td>\n",
              "      <td>0.00</td>\n",
              "    </tr>\n",
              "    <tr>\n",
              "      <th>2</th>\n",
              "      <td>A</td>\n",
              "      <td>C</td>\n",
              "      <td>75.00</td>\n",
              "    </tr>\n",
              "    <tr>\n",
              "      <th>3</th>\n",
              "      <td>A</td>\n",
              "      <td>A</td>\n",
              "      <td>75.00</td>\n",
              "    </tr>\n",
              "    <tr>\n",
              "      <th>4</th>\n",
              "      <td>A</td>\n",
              "      <td>A</td>\n",
              "      <td>98.00</td>\n",
              "    </tr>\n",
              "    <tr>\n",
              "      <th>...</th>\n",
              "      <td>...</td>\n",
              "      <td>...</td>\n",
              "      <td>...</td>\n",
              "    </tr>\n",
              "    <tr>\n",
              "      <th>119385</th>\n",
              "      <td>A</td>\n",
              "      <td>A</td>\n",
              "      <td>96.14</td>\n",
              "    </tr>\n",
              "    <tr>\n",
              "      <th>119386</th>\n",
              "      <td>E</td>\n",
              "      <td>E</td>\n",
              "      <td>225.43</td>\n",
              "    </tr>\n",
              "    <tr>\n",
              "      <th>119387</th>\n",
              "      <td>D</td>\n",
              "      <td>D</td>\n",
              "      <td>157.71</td>\n",
              "    </tr>\n",
              "    <tr>\n",
              "      <th>119388</th>\n",
              "      <td>A</td>\n",
              "      <td>A</td>\n",
              "      <td>104.40</td>\n",
              "    </tr>\n",
              "    <tr>\n",
              "      <th>119389</th>\n",
              "      <td>A</td>\n",
              "      <td>A</td>\n",
              "      <td>151.20</td>\n",
              "    </tr>\n",
              "  </tbody>\n",
              "</table>\n",
              "<p>119390 rows × 3 columns</p>\n",
              "</div>"
            ],
            "text/plain": [
              "       reserved_room_type assigned_room_type     adr\n",
              "0                       C                  C    0.00\n",
              "1                       C                  C    0.00\n",
              "2                       A                  C   75.00\n",
              "3                       A                  A   75.00\n",
              "4                       A                  A   98.00\n",
              "...                   ...                ...     ...\n",
              "119385                  A                  A   96.14\n",
              "119386                  E                  E  225.43\n",
              "119387                  D                  D  157.71\n",
              "119388                  A                  A  104.40\n",
              "119389                  A                  A  151.20\n",
              "\n",
              "[119390 rows x 3 columns]"
            ]
          },
          "metadata": {
            "tags": []
          },
          "execution_count": 16
        }
      ]
    },
    {
      "cell_type": "code",
      "metadata": {
        "id": "BxXeIlZx0OVM",
        "outputId": "08a837cd-ee10-461c-982f-5aab72636714",
        "colab": {
          "base_uri": "https://localhost:8080/",
          "height": 419
        }
      },
      "source": [
        "###Checking for relation between agents and companies####\n",
        "df[['agent','company','market_segment']]"
      ],
      "execution_count": 17,
      "outputs": [
        {
          "output_type": "execute_result",
          "data": {
            "text/html": [
              "<div>\n",
              "<style scoped>\n",
              "    .dataframe tbody tr th:only-of-type {\n",
              "        vertical-align: middle;\n",
              "    }\n",
              "\n",
              "    .dataframe tbody tr th {\n",
              "        vertical-align: top;\n",
              "    }\n",
              "\n",
              "    .dataframe thead th {\n",
              "        text-align: right;\n",
              "    }\n",
              "</style>\n",
              "<table border=\"1\" class=\"dataframe\">\n",
              "  <thead>\n",
              "    <tr style=\"text-align: right;\">\n",
              "      <th></th>\n",
              "      <th>agent</th>\n",
              "      <th>company</th>\n",
              "      <th>market_segment</th>\n",
              "    </tr>\n",
              "  </thead>\n",
              "  <tbody>\n",
              "    <tr>\n",
              "      <th>0</th>\n",
              "      <td>NaN</td>\n",
              "      <td>NaN</td>\n",
              "      <td>Direct</td>\n",
              "    </tr>\n",
              "    <tr>\n",
              "      <th>1</th>\n",
              "      <td>NaN</td>\n",
              "      <td>NaN</td>\n",
              "      <td>Direct</td>\n",
              "    </tr>\n",
              "    <tr>\n",
              "      <th>2</th>\n",
              "      <td>NaN</td>\n",
              "      <td>NaN</td>\n",
              "      <td>Direct</td>\n",
              "    </tr>\n",
              "    <tr>\n",
              "      <th>3</th>\n",
              "      <td>304.0</td>\n",
              "      <td>NaN</td>\n",
              "      <td>Corporate</td>\n",
              "    </tr>\n",
              "    <tr>\n",
              "      <th>4</th>\n",
              "      <td>240.0</td>\n",
              "      <td>NaN</td>\n",
              "      <td>Online TA</td>\n",
              "    </tr>\n",
              "    <tr>\n",
              "      <th>...</th>\n",
              "      <td>...</td>\n",
              "      <td>...</td>\n",
              "      <td>...</td>\n",
              "    </tr>\n",
              "    <tr>\n",
              "      <th>119385</th>\n",
              "      <td>394.0</td>\n",
              "      <td>NaN</td>\n",
              "      <td>Offline TA/TO</td>\n",
              "    </tr>\n",
              "    <tr>\n",
              "      <th>119386</th>\n",
              "      <td>9.0</td>\n",
              "      <td>NaN</td>\n",
              "      <td>Online TA</td>\n",
              "    </tr>\n",
              "    <tr>\n",
              "      <th>119387</th>\n",
              "      <td>9.0</td>\n",
              "      <td>NaN</td>\n",
              "      <td>Online TA</td>\n",
              "    </tr>\n",
              "    <tr>\n",
              "      <th>119388</th>\n",
              "      <td>89.0</td>\n",
              "      <td>NaN</td>\n",
              "      <td>Online TA</td>\n",
              "    </tr>\n",
              "    <tr>\n",
              "      <th>119389</th>\n",
              "      <td>9.0</td>\n",
              "      <td>NaN</td>\n",
              "      <td>Online TA</td>\n",
              "    </tr>\n",
              "  </tbody>\n",
              "</table>\n",
              "<p>119390 rows × 3 columns</p>\n",
              "</div>"
            ],
            "text/plain": [
              "        agent  company market_segment\n",
              "0         NaN      NaN         Direct\n",
              "1         NaN      NaN         Direct\n",
              "2         NaN      NaN         Direct\n",
              "3       304.0      NaN      Corporate\n",
              "4       240.0      NaN      Online TA\n",
              "...       ...      ...            ...\n",
              "119385  394.0      NaN  Offline TA/TO\n",
              "119386    9.0      NaN      Online TA\n",
              "119387    9.0      NaN      Online TA\n",
              "119388   89.0      NaN      Online TA\n",
              "119389    9.0      NaN      Online TA\n",
              "\n",
              "[119390 rows x 3 columns]"
            ]
          },
          "metadata": {
            "tags": []
          },
          "execution_count": 17
        }
      ]
    },
    {
      "cell_type": "code",
      "metadata": {
        "id": "2iYetcVj0Oen",
        "outputId": "776aab37-81a6-4d78-c19a-b3d1ac75adf5",
        "colab": {
          "base_uri": "https://localhost:8080/",
          "height": 419
        }
      },
      "source": [
        "###Checking for relation between kids and special requests####\n",
        "df[['babies','children','total_of_special_requests']]  "
      ],
      "execution_count": 18,
      "outputs": [
        {
          "output_type": "execute_result",
          "data": {
            "text/html": [
              "<div>\n",
              "<style scoped>\n",
              "    .dataframe tbody tr th:only-of-type {\n",
              "        vertical-align: middle;\n",
              "    }\n",
              "\n",
              "    .dataframe tbody tr th {\n",
              "        vertical-align: top;\n",
              "    }\n",
              "\n",
              "    .dataframe thead th {\n",
              "        text-align: right;\n",
              "    }\n",
              "</style>\n",
              "<table border=\"1\" class=\"dataframe\">\n",
              "  <thead>\n",
              "    <tr style=\"text-align: right;\">\n",
              "      <th></th>\n",
              "      <th>babies</th>\n",
              "      <th>children</th>\n",
              "      <th>total_of_special_requests</th>\n",
              "    </tr>\n",
              "  </thead>\n",
              "  <tbody>\n",
              "    <tr>\n",
              "      <th>0</th>\n",
              "      <td>0</td>\n",
              "      <td>0.0</td>\n",
              "      <td>0</td>\n",
              "    </tr>\n",
              "    <tr>\n",
              "      <th>1</th>\n",
              "      <td>0</td>\n",
              "      <td>0.0</td>\n",
              "      <td>0</td>\n",
              "    </tr>\n",
              "    <tr>\n",
              "      <th>2</th>\n",
              "      <td>0</td>\n",
              "      <td>0.0</td>\n",
              "      <td>0</td>\n",
              "    </tr>\n",
              "    <tr>\n",
              "      <th>3</th>\n",
              "      <td>0</td>\n",
              "      <td>0.0</td>\n",
              "      <td>0</td>\n",
              "    </tr>\n",
              "    <tr>\n",
              "      <th>4</th>\n",
              "      <td>0</td>\n",
              "      <td>0.0</td>\n",
              "      <td>1</td>\n",
              "    </tr>\n",
              "    <tr>\n",
              "      <th>...</th>\n",
              "      <td>...</td>\n",
              "      <td>...</td>\n",
              "      <td>...</td>\n",
              "    </tr>\n",
              "    <tr>\n",
              "      <th>119385</th>\n",
              "      <td>0</td>\n",
              "      <td>0.0</td>\n",
              "      <td>0</td>\n",
              "    </tr>\n",
              "    <tr>\n",
              "      <th>119386</th>\n",
              "      <td>0</td>\n",
              "      <td>0.0</td>\n",
              "      <td>2</td>\n",
              "    </tr>\n",
              "    <tr>\n",
              "      <th>119387</th>\n",
              "      <td>0</td>\n",
              "      <td>0.0</td>\n",
              "      <td>4</td>\n",
              "    </tr>\n",
              "    <tr>\n",
              "      <th>119388</th>\n",
              "      <td>0</td>\n",
              "      <td>0.0</td>\n",
              "      <td>0</td>\n",
              "    </tr>\n",
              "    <tr>\n",
              "      <th>119389</th>\n",
              "      <td>0</td>\n",
              "      <td>0.0</td>\n",
              "      <td>2</td>\n",
              "    </tr>\n",
              "  </tbody>\n",
              "</table>\n",
              "<p>119390 rows × 3 columns</p>\n",
              "</div>"
            ],
            "text/plain": [
              "        babies  children  total_of_special_requests\n",
              "0            0       0.0                          0\n",
              "1            0       0.0                          0\n",
              "2            0       0.0                          0\n",
              "3            0       0.0                          0\n",
              "4            0       0.0                          1\n",
              "...        ...       ...                        ...\n",
              "119385       0       0.0                          0\n",
              "119386       0       0.0                          2\n",
              "119387       0       0.0                          4\n",
              "119388       0       0.0                          0\n",
              "119389       0       0.0                          2\n",
              "\n",
              "[119390 rows x 3 columns]"
            ]
          },
          "metadata": {
            "tags": []
          },
          "execution_count": 18
        }
      ]
    },
    {
      "cell_type": "code",
      "metadata": {
        "id": "ac1zNopj0OoF",
        "outputId": "484cdf60-500c-4f90-8600-5d29d996d5ee",
        "colab": {
          "base_uri": "https://localhost:8080/"
        }
      },
      "source": [
        "df.iloc[119387]"
      ],
      "execution_count": 19,
      "outputs": [
        {
          "output_type": "execute_result",
          "data": {
            "text/plain": [
              "hotel                             City Hotel\n",
              "is_canceled                                0\n",
              "lead_time                                 34\n",
              "arrival_date_year                       2017\n",
              "arrival_date_month                    August\n",
              "arrival_date_week_number                  35\n",
              "arrival_date_day_of_month                 31\n",
              "stays_in_weekend_nights                    2\n",
              "stays_in_week_nights                       5\n",
              "adults                                     2\n",
              "children                                   0\n",
              "babies                                     0\n",
              "meal                                      BB\n",
              "country                                  DEU\n",
              "market_segment                     Online TA\n",
              "distribution_channel                   TA/TO\n",
              "is_repeated_guest                          0\n",
              "previous_cancellations                     0\n",
              "previous_bookings_not_canceled             0\n",
              "reserved_room_type                         D\n",
              "assigned_room_type                         D\n",
              "booking_changes                            0\n",
              "deposit_type                      No Deposit\n",
              "agent                                      9\n",
              "company                                  NaN\n",
              "days_in_waiting_list                       0\n",
              "customer_type                      Transient\n",
              "adr                                   157.71\n",
              "required_car_parking_spaces                0\n",
              "total_of_special_requests                  4\n",
              "reservation_status                 Check-Out\n",
              "reservation_status_date           2017-09-07\n",
              "Name: 119387, dtype: object"
            ]
          },
          "metadata": {
            "tags": []
          },
          "execution_count": 19
        }
      ]
    },
    {
      "cell_type": "code",
      "metadata": {
        "id": "nWoyFHmVxT6n",
        "outputId": "8fabc767-4d3d-45b5-eb66-d726387346ef",
        "colab": {
          "base_uri": "https://localhost:8080/"
        }
      },
      "source": [
        "###Checking for null values in the dataframe###\n",
        "df.isnull().sum().sort_values(ascending=False)"
      ],
      "execution_count": null,
      "outputs": [
        {
          "output_type": "execute_result",
          "data": {
            "text/plain": [
              "company                           112593\n",
              "agent                              16340\n",
              "country                              488\n",
              "children                               4\n",
              "lead_time                              0\n",
              "arrival_date_year                      0\n",
              "arrival_date_month                     0\n",
              "arrival_date_week_number               0\n",
              "is_canceled                            0\n",
              "market_segment                         0\n",
              "arrival_date_day_of_month              0\n",
              "stays_in_weekend_nights                0\n",
              "stays_in_week_nights                   0\n",
              "adults                                 0\n",
              "babies                                 0\n",
              "meal                                   0\n",
              "reservation_status_date                0\n",
              "distribution_channel                   0\n",
              "reservation_status                     0\n",
              "is_repeated_guest                      0\n",
              "previous_cancellations                 0\n",
              "previous_bookings_not_canceled         0\n",
              "reserved_room_type                     0\n",
              "assigned_room_type                     0\n",
              "booking_changes                        0\n",
              "deposit_type                           0\n",
              "days_in_waiting_list                   0\n",
              "customer_type                          0\n",
              "adr                                    0\n",
              "required_car_parking_spaces            0\n",
              "total_of_special_requests              0\n",
              "hotel                                  0\n",
              "dtype: int64"
            ]
          },
          "metadata": {
            "tags": []
          },
          "execution_count": 17
        }
      ]
    },
    {
      "cell_type": "code",
      "metadata": {
        "id": "xpLGCzBRxXlb"
      },
      "source": [
        "#Removal of null values#\n",
        "new_df=df.dropna(subset=['children', 'adults','babies'])"
      ],
      "execution_count": 25,
      "outputs": []
    },
    {
      "cell_type": "markdown",
      "metadata": {
        "id": "KoJI9B9nxadL"
      },
      "source": [
        "1. How many bookings were cancelled? and cancellation factor over the years?"
      ]
    },
    {
      "cell_type": "code",
      "metadata": {
        "id": "dRrHDLwfBwzp",
        "outputId": "f9b40e45-8b10-49de-eb23-a0e181cbe236",
        "colab": {
          "base_uri": "https://localhost:8080/"
        }
      },
      "source": [
        "##Hotel cancellation over two years##\n",
        "grouped=new_df.groupby('arrival_date_year')\n",
        "grouped1=grouped['is_canceled'].agg(np.count_nonzero)\n",
        "grouped2=grouped['is_canceled'].count()\n",
        "grouped3=grouped1,grouped2\n",
        "grouped3"
      ],
      "execution_count": 50,
      "outputs": [
        {
          "output_type": "execute_result",
          "data": {
            "text/plain": [
              "(arrival_date_year\n",
              " 2015     8138\n",
              " 2016    20337\n",
              " 2017    15745\n",
              " Name: is_canceled, dtype: int64, arrival_date_year\n",
              " 2015    21992\n",
              " 2016    56707\n",
              " 2017    40687\n",
              " Name: is_canceled, dtype: int64)"
            ]
          },
          "metadata": {
            "tags": []
          },
          "execution_count": 50
        }
      ]
    },
    {
      "cell_type": "code",
      "metadata": {
        "id": "A-rEM6Mb6v6V"
      },
      "source": [
        ""
      ],
      "execution_count": null,
      "outputs": []
    },
    {
      "cell_type": "code",
      "metadata": {
        "id": "L0ce3MOA_Bx8",
        "outputId": "ec63d29a-5464-438d-cc6e-f1cc948f9e65",
        "colab": {
          "base_uri": "https://localhost:8080/"
        }
      },
      "source": [
        "new_df['arrival_date_year'].unique()"
      ],
      "execution_count": null,
      "outputs": [
        {
          "output_type": "execute_result",
          "data": {
            "text/plain": [
              "array([2015, 2016, 2017])"
            ]
          },
          "metadata": {
            "tags": []
          },
          "execution_count": 39
        }
      ]
    },
    {
      "cell_type": "code",
      "metadata": {
        "id": "YQzXoObtGZtN"
      },
      "source": [
        "sns.set_context('paper')"
      ],
      "execution_count": null,
      "outputs": []
    },
    {
      "cell_type": "code",
      "metadata": {
        "id": "8YDZG2c4G5tH"
      },
      "source": [
        "yr_percent_df = (new_df['arrival_date_year'].value_counts(normalize=True).mul(100).reset_index()).rename(columns ={'index':'Year','arrival_date_year':'booking_percent'})"
      ],
      "execution_count": null,
      "outputs": []
    },
    {
      "cell_type": "code",
      "metadata": {
        "id": "qyyI324FHvyR",
        "outputId": "4e79c2fa-b619-4f88-db51-6dc6419f2dcc",
        "colab": {
          "base_uri": "https://localhost:8080/",
          "height": 142
        }
      },
      "source": [
        "yr_percent_df"
      ],
      "execution_count": null,
      "outputs": [
        {
          "output_type": "execute_result",
          "data": {
            "text/html": [
              "<div>\n",
              "<style scoped>\n",
              "    .dataframe tbody tr th:only-of-type {\n",
              "        vertical-align: middle;\n",
              "    }\n",
              "\n",
              "    .dataframe tbody tr th {\n",
              "        vertical-align: top;\n",
              "    }\n",
              "\n",
              "    .dataframe thead th {\n",
              "        text-align: right;\n",
              "    }\n",
              "</style>\n",
              "<table border=\"1\" class=\"dataframe\">\n",
              "  <thead>\n",
              "    <tr style=\"text-align: right;\">\n",
              "      <th></th>\n",
              "      <th>Year</th>\n",
              "      <th>booking_percent</th>\n",
              "    </tr>\n",
              "  </thead>\n",
              "  <tbody>\n",
              "    <tr>\n",
              "      <th>0</th>\n",
              "      <td>2016</td>\n",
              "      <td>47.498869</td>\n",
              "    </tr>\n",
              "    <tr>\n",
              "      <th>1</th>\n",
              "      <td>2017</td>\n",
              "      <td>34.080210</td>\n",
              "    </tr>\n",
              "    <tr>\n",
              "      <th>2</th>\n",
              "      <td>2015</td>\n",
              "      <td>18.420920</td>\n",
              "    </tr>\n",
              "  </tbody>\n",
              "</table>\n",
              "</div>"
            ],
            "text/plain": [
              "   Year  booking_percent\n",
              "0  2016        47.498869\n",
              "1  2017        34.080210\n",
              "2  2015        18.420920"
            ]
          },
          "metadata": {
            "tags": []
          },
          "execution_count": 53
        }
      ]
    },
    {
      "cell_type": "code",
      "metadata": {
        "id": "W-10w-WsIhGs",
        "outputId": "0e382c7e-8eaf-4270-91fe-fcc7511c0b01",
        "colab": {
          "base_uri": "https://localhost:8080/"
        }
      },
      "source": [
        "new_df.corr().loc['children','total_of_special_requests']"
      ],
      "execution_count": null,
      "outputs": [
        {
          "output_type": "execute_result",
          "data": {
            "text/plain": [
              "0.08174482206809368"
            ]
          },
          "metadata": {
            "tags": []
          },
          "execution_count": 57
        }
      ]
    },
    {
      "cell_type": "code",
      "metadata": {
        "id": "SBpCIF_OP_D4",
        "outputId": "90c57b4c-361a-41a6-c31d-aa6d5567cd6a",
        "colab": {
          "base_uri": "https://localhost:8080/",
          "height": 285
        }
      },
      "source": [
        "ax = sns.barplot(x=\"Year\", y=\"booking_percent\", data=yr_percent_df)"
      ],
      "execution_count": null,
      "outputs": [
        {
          "output_type": "display_data",
          "data": {
            "image/png": "[encoded data removed]",
            "text/plain": [
              "<Figure size 432x288 with 1 Axes>"
            ]
          },
          "metadata": {
            "tags": []
          }
        }
      ]
    },
    {
      "cell_type": "code",
      "metadata": {
        "id": "uGGerShNQinS"
      },
      "source": [
        ""
      ],
      "execution_count": null,
      "outputs": []
    },
    {
      "cell_type": "markdown",
      "metadata": {
        "id": "PesC1CwfQLw1"
      },
      "source": [
        "3. Correlation between no. of children and special request"
      ]
    },
    {
      "cell_type": "code",
      "metadata": {
        "id": "SXDlILg5QlAb",
        "outputId": "3848a4dd-d2c5-4440-a575-93c95311fbd4",
        "colab": {
          "base_uri": "https://localhost:8080/"
        }
      },
      "source": [
        "new_df.corr().loc['children','total_of_special_requests']"
      ],
      "execution_count": null,
      "outputs": [
        {
          "output_type": "execute_result",
          "data": {
            "text/plain": [
              "0.08174482206809368"
            ]
          },
          "metadata": {
            "tags": []
          },
          "execution_count": 70
        }
      ]
    },
    {
      "cell_type": "code",
      "metadata": {
        "id": "jhpu3mNyIN11",
        "outputId": "9752fc3f-82f3-4a9a-d90c-67f23fd71f9c",
        "colab": {
          "base_uri": "https://localhost:8080/",
          "height": 399
        }
      },
      "source": [
        "sns.relplot(x=\"children\", y=\"total_of_special_requests\", data=new_df)"
      ],
      "execution_count": null,
      "outputs": [
        {
          "output_type": "execute_result",
          "data": {
            "text/plain": [
              "<seaborn.axisgrid.FacetGrid at 0x7fcab7cf48d0>"
            ]
          },
          "metadata": {
            "tags": []
          },
          "execution_count": 56
        },
        {
          "output_type": "display_data",
          "data": {
            "image/png": "[encoded data removed]",
            "text/plain": [
              "<Figure size 360x360 with 1 Axes>"
            ]
          },
          "metadata": {
            "tags": []
          }
        }
      ]
    },
    {
      "cell_type": "code",
      "metadata": {
        "id": "HWgP0uP_Qd0E"
      },
      "source": [
        ""
      ],
      "execution_count": null,
      "outputs": []
    },
    {
      "cell_type": "markdown",
      "metadata": {
        "id": "s4KWWspNQX-3"
      },
      "source": [
        "# 4. From which country most guests are coming?"
      ]
    },
    {
      "cell_type": "code",
      "metadata": {
        "id": "GBe2pFLONeR4",
        "outputId": "144d707c-4ce7-413b-b427-9a72178ab3a1",
        "colab": {
          "base_uri": "https://localhost:8080/",
          "height": 359
        }
      },
      "source": [
        "top10_countries = new_df[new_df['is_canceled']==0]['country'].value_counts()[0:10]\n",
        "top10_countries_new = top10_countries.reset_index().rename(columns = {'index':'country','country':'number_of_bookings'})\n",
        "top10_countries_new"
      ],
      "execution_count": null,
      "outputs": [
        {
          "output_type": "execute_result",
          "data": {
            "text/html": [
              "<div>\n",
              "<style scoped>\n",
              "    .dataframe tbody tr th:only-of-type {\n",
              "        vertical-align: middle;\n",
              "    }\n",
              "\n",
              "    .dataframe tbody tr th {\n",
              "        vertical-align: top;\n",
              "    }\n",
              "\n",
              "    .dataframe thead th {\n",
              "        text-align: right;\n",
              "    }\n",
              "</style>\n",
              "<table border=\"1\" class=\"dataframe\">\n",
              "  <thead>\n",
              "    <tr style=\"text-align: right;\">\n",
              "      <th></th>\n",
              "      <th>country</th>\n",
              "      <th>number_of_bookings</th>\n",
              "    </tr>\n",
              "  </thead>\n",
              "  <tbody>\n",
              "    <tr>\n",
              "      <th>0</th>\n",
              "      <td>PRT</td>\n",
              "      <td>21071</td>\n",
              "    </tr>\n",
              "    <tr>\n",
              "      <th>1</th>\n",
              "      <td>GBR</td>\n",
              "      <td>9676</td>\n",
              "    </tr>\n",
              "    <tr>\n",
              "      <th>2</th>\n",
              "      <td>FRA</td>\n",
              "      <td>8481</td>\n",
              "    </tr>\n",
              "    <tr>\n",
              "      <th>3</th>\n",
              "      <td>ESP</td>\n",
              "      <td>6391</td>\n",
              "    </tr>\n",
              "    <tr>\n",
              "      <th>4</th>\n",
              "      <td>DEU</td>\n",
              "      <td>6069</td>\n",
              "    </tr>\n",
              "    <tr>\n",
              "      <th>5</th>\n",
              "      <td>IRL</td>\n",
              "      <td>2543</td>\n",
              "    </tr>\n",
              "    <tr>\n",
              "      <th>6</th>\n",
              "      <td>ITA</td>\n",
              "      <td>2433</td>\n",
              "    </tr>\n",
              "    <tr>\n",
              "      <th>7</th>\n",
              "      <td>BEL</td>\n",
              "      <td>1868</td>\n",
              "    </tr>\n",
              "    <tr>\n",
              "      <th>8</th>\n",
              "      <td>NLD</td>\n",
              "      <td>1717</td>\n",
              "    </tr>\n",
              "    <tr>\n",
              "      <th>9</th>\n",
              "      <td>USA</td>\n",
              "      <td>1596</td>\n",
              "    </tr>\n",
              "  </tbody>\n",
              "</table>\n",
              "</div>"
            ],
            "text/plain": [
              "  country  number_of_bookings\n",
              "0     PRT               21071\n",
              "1     GBR                9676\n",
              "2     FRA                8481\n",
              "3     ESP                6391\n",
              "4     DEU                6069\n",
              "5     IRL                2543\n",
              "6     ITA                2433\n",
              "7     BEL                1868\n",
              "8     NLD                1717\n",
              "9     USA                1596"
            ]
          },
          "metadata": {
            "tags": []
          },
          "execution_count": 66
        }
      ]
    },
    {
      "cell_type": "code",
      "metadata": {
        "id": "yfF7nnr9OHvB",
        "outputId": "a67cfe05-a054-4682-d9c6-e9336374c640",
        "colab": {
          "base_uri": "https://localhost:8080/",
          "height": 611
        }
      },
      "source": [
        "plt.figure(figsize=(10,10))\n",
        "ax = sns.barplot(x=\"country\", y=\"number_of_bookings\", data=top10_countries_new)"
      ],
      "execution_count": null,
      "outputs": [
        {
          "output_type": "display_data",
          "data": {
            "image/png": "[encoded data removed]",
            "text/plain": [
              "<Figure size 720x720 with 1 Axes>"
            ]
          },
          "metadata": {
            "tags": []
          }
        }
      ]
    },
    {
      "cell_type": "code",
      "metadata": {
        "id": "DGFqxzYiQplo"
      },
      "source": [
        ""
      ],
      "execution_count": null,
      "outputs": []
    },
    {
      "cell_type": "markdown",
      "metadata": {
        "id": "3vgpvdNfQqh-"
      },
      "source": [
        "5. Months with least traffic and break "
      ]
    },
    {
      "cell_type": "code",
      "metadata": {
        "id": "qYXAdGX_RBtM",
        "outputId": "25809d29-5da8-42cc-e01e-0465e295c218",
        "colab": {
          "base_uri": "https://localhost:8080/",
          "height": 359
        }
      },
      "source": [
        "month_df = new_df[new_df['is_canceled']==0]['arrival_date_month'].value_counts()[0:10].reset_index().rename(columns = {'index':'month','arrival_date_month':'number_of_bookings'})\n",
        "month_df"
      ],
      "execution_count": null,
      "outputs": [
        {
          "output_type": "execute_result",
          "data": {
            "text/html": [
              "<div>\n",
              "<style scoped>\n",
              "    .dataframe tbody tr th:only-of-type {\n",
              "        vertical-align: middle;\n",
              "    }\n",
              "\n",
              "    .dataframe tbody tr th {\n",
              "        vertical-align: top;\n",
              "    }\n",
              "\n",
              "    .dataframe thead th {\n",
              "        text-align: right;\n",
              "    }\n",
              "</style>\n",
              "<table border=\"1\" class=\"dataframe\">\n",
              "  <thead>\n",
              "    <tr style=\"text-align: right;\">\n",
              "      <th></th>\n",
              "      <th>month</th>\n",
              "      <th>number_of_bookings</th>\n",
              "    </tr>\n",
              "  </thead>\n",
              "  <tbody>\n",
              "    <tr>\n",
              "      <th>0</th>\n",
              "      <td>August</td>\n",
              "      <td>8638</td>\n",
              "    </tr>\n",
              "    <tr>\n",
              "      <th>1</th>\n",
              "      <td>July</td>\n",
              "      <td>7919</td>\n",
              "    </tr>\n",
              "    <tr>\n",
              "      <th>2</th>\n",
              "      <td>May</td>\n",
              "      <td>7114</td>\n",
              "    </tr>\n",
              "    <tr>\n",
              "      <th>3</th>\n",
              "      <td>October</td>\n",
              "      <td>6914</td>\n",
              "    </tr>\n",
              "    <tr>\n",
              "      <th>4</th>\n",
              "      <td>March</td>\n",
              "      <td>6645</td>\n",
              "    </tr>\n",
              "    <tr>\n",
              "      <th>5</th>\n",
              "      <td>April</td>\n",
              "      <td>6565</td>\n",
              "    </tr>\n",
              "    <tr>\n",
              "      <th>6</th>\n",
              "      <td>June</td>\n",
              "      <td>6404</td>\n",
              "    </tr>\n",
              "    <tr>\n",
              "      <th>7</th>\n",
              "      <td>September</td>\n",
              "      <td>6392</td>\n",
              "    </tr>\n",
              "    <tr>\n",
              "      <th>8</th>\n",
              "      <td>February</td>\n",
              "      <td>5372</td>\n",
              "    </tr>\n",
              "    <tr>\n",
              "      <th>9</th>\n",
              "      <td>November</td>\n",
              "      <td>4672</td>\n",
              "    </tr>\n",
              "  </tbody>\n",
              "</table>\n",
              "</div>"
            ],
            "text/plain": [
              "       month  number_of_bookings\n",
              "0     August                8638\n",
              "1       July                7919\n",
              "2        May                7114\n",
              "3    October                6914\n",
              "4      March                6645\n",
              "5      April                6565\n",
              "6       June                6404\n",
              "7  September                6392\n",
              "8   February                5372\n",
              "9   November                4672"
            ]
          },
          "metadata": {
            "tags": []
          },
          "execution_count": 74
        }
      ]
    },
    {
      "cell_type": "code",
      "metadata": {
        "id": "c8d3e7qQSt8d",
        "outputId": "f29c7a12-14cb-4974-f54a-2d323f64f955",
        "colab": {
          "base_uri": "https://localhost:8080/",
          "height": 611
        }
      },
      "source": [
        "plt.figure(figsize=(10,10))\n",
        "ax = sns.barplot(x=\"month\", y=\"number_of_bookings\", data = month_df)"
      ],
      "execution_count": null,
      "outputs": [
        {
          "output_type": "display_data",
          "data": {
            "image/png": "[encoded data removed]",
            "text/plain": [
              "<Figure size 720x720 with 1 Axes>"
            ]
          },
          "metadata": {
            "tags": []
          }
        }
      ]
    },
    {
      "cell_type": "code",
      "metadata": {
        "id": "G_9hvUegJIga",
        "outputId": "17cc0ddc-2ea7-4a7d-ff09-b0fe0a4a3bb0",
        "colab": {
          "base_uri": "https://localhost:8080/",
          "height": 393
        }
      },
      "source": [
        "#Distribution of ADR to check for outliers\n",
        "plt.figure(figsize=(10,5))\n",
        "ax = sns.distplot(new_df['adr'])\n"
      ],
      "execution_count": 51,
      "outputs": [
        {
          "output_type": "stream",
          "text": [
            "/usr/local/lib/python3.6/dist-packages/seaborn/distributions.py:2551: FutureWarning: `distplot` is a deprecated function and will be removed in a future version. Please adapt your code to use either `displot` (a figure-level function with similar flexibility) or `histplot` (an axes-level function for histograms).\n",
            "  warnings.warn(msg, FutureWarning)\n"
          ],
          "name": "stderr"
        },
        {
          "output_type": "display_data",
          "data": {
            "image/png": "[encoded data removed]",
            "text/plain": [
              "<Figure size 720x360 with 1 Axes>"
            ]
          },
          "metadata": {
            "tags": []
          }
        }
      ]
    },
    {
      "cell_type": "code",
      "metadata": {
        "id": "TnL3DkFFKNwO"
      },
      "source": [
        "#Calculate IQR and remove the outlier\n",
        "# Computing IQR\n",
        "Q1 = new_df['adr'].quantile(0.25)\n",
        "Q3 = new_df['adr'].quantile(0.75)\n",
        "IQR = Q3 - Q1\n",
        "lower_limit=Q1-(1.5*IQR)\n",
        "higher_limit=Q3+(1.5*IQR)\n",
        "new_df2=new_df[new_df.adr<=higher_limit]\n"
      ],
      "execution_count": 70,
      "outputs": []
    },
    {
      "cell_type": "code",
      "metadata": {
        "id": "Izka-lkLOUAs",
        "outputId": "23adaff7-c02d-4f0f-cf3f-13974fa62b6e",
        "colab": {
          "base_uri": "https://localhost:8080/"
        }
      },
      "source": [
        "higher_limit"
      ],
      "execution_count": 73,
      "outputs": [
        {
          "output_type": "execute_result",
          "data": {
            "text/plain": [
              "211.065"
            ]
          },
          "metadata": {
            "tags": []
          },
          "execution_count": 73
        }
      ]
    },
    {
      "cell_type": "code",
      "metadata": {
        "id": "a5alY0p5NbsA",
        "outputId": "f3ea7f8c-715e-4249-fb38-4e26f84dba44",
        "colab": {
          "base_uri": "https://localhost:8080/",
          "height": 393
        }
      },
      "source": [
        "plt.figure(figsize=(10,5))\n",
        "ax = sns.distplot(new_df2['adr'])"
      ],
      "execution_count": 71,
      "outputs": [
        {
          "output_type": "stream",
          "text": [
            "/usr/local/lib/python3.6/dist-packages/seaborn/distributions.py:2551: FutureWarning: `distplot` is a deprecated function and will be removed in a future version. Please adapt your code to use either `displot` (a figure-level function with similar flexibility) or `histplot` (an axes-level function for histograms).\n",
            "  warnings.warn(msg, FutureWarning)\n"
          ],
          "name": "stderr"
        },
        {
          "output_type": "display_data",
          "data": {
            "image/png": "[encoded data removed]",
            "text/plain": [
              "<Figure size 720x360 with 1 Axes>"
            ]
          },
          "metadata": {
            "tags": []
          }
        }
      ]
    },
    {
      "cell_type": "markdown",
      "metadata": {
        "id": "YeE3tmRmPDw0"
      },
      "source": [
        "Most booked accomodation type\n"
      ]
    },
    {
      "cell_type": "code",
      "metadata": {
        "id": "rTN1EZGxPIRS",
        "outputId": "f2100954-fb10-4e90-c957-33bd3dd9883c",
        "colab": {
          "base_uri": "https://localhost:8080/"
        }
      },
      "source": [
        "type(grouped)"
      ],
      "execution_count": 75,
      "outputs": [
        {
          "output_type": "execute_result",
          "data": {
            "text/plain": [
              "pandas.core.groupby.generic.DataFrameGroupBy"
            ]
          },
          "metadata": {
            "tags": []
          },
          "execution_count": 75
        }
      ]
    },
    {
      "cell_type": "code",
      "metadata": {
        "id": "Ie3mKnjuPoGa",
        "outputId": "d098b057-4e3e-41f7-df22-6b7b15ae91e1",
        "colab": {
          "base_uri": "https://localhost:8080/"
        }
      },
      "source": [
        "\n",
        "grouped_acc=new_df.groupby('reserved_room_type')\n",
        "for acc, acc_df in grouped_acc:\n",
        "  print(acc_df)\n",
        "\n",
        "\n"
      ],
      "execution_count": 81,
      "outputs": [
        {
          "output_type": "stream",
          "text": [
            "               hotel  is_canceled  ...  reservation_status  reservation_status_date\n",
            "2       Resort Hotel            0  ...           Check-Out               2015-07-02\n",
            "3       Resort Hotel            0  ...           Check-Out               2015-07-02\n",
            "4       Resort Hotel            0  ...           Check-Out               2015-07-03\n",
            "5       Resort Hotel            0  ...           Check-Out               2015-07-03\n",
            "8       Resort Hotel            1  ...            Canceled               2015-05-06\n",
            "...              ...          ...  ...                 ...                      ...\n",
            "119383    City Hotel            0  ...           Check-Out               2017-09-06\n",
            "119384    City Hotel            0  ...           Check-Out               2017-09-06\n",
            "119385    City Hotel            0  ...           Check-Out               2017-09-06\n",
            "119388    City Hotel            0  ...           Check-Out               2017-09-07\n",
            "119389    City Hotel            0  ...           Check-Out               2017-09-07\n",
            "\n",
            "[85994 rows x 32 columns]\n",
            "               hotel  is_canceled  ...  reservation_status  reservation_status_date\n",
            "15796   Resort Hotel            0  ...           Check-Out               2015-08-02\n",
            "35668   Resort Hotel            0  ...           Check-Out               2017-04-29\n",
            "35893   Resort Hotel            0  ...           Check-Out               2017-05-04\n",
            "40110     City Hotel            1  ...            Canceled               2015-07-07\n",
            "40111     City Hotel            1  ...            Canceled               2015-07-07\n",
            "...              ...          ...  ...                 ...                      ...\n",
            "118795    City Hotel            0  ...           Check-Out               2017-08-26\n",
            "119042    City Hotel            0  ...           Check-Out               2017-08-28\n",
            "119044    City Hotel            0  ...           Check-Out               2017-08-28\n",
            "119059    City Hotel            0  ...           Check-Out               2017-08-29\n",
            "119060    City Hotel            0  ...           Check-Out               2017-08-29\n",
            "\n",
            "[1114 rows x 32 columns]\n",
            "               hotel  is_canceled  ...  reservation_status  reservation_status_date\n",
            "0       Resort Hotel            0  ...           Check-Out               2015-07-01\n",
            "1       Resort Hotel            0  ...           Check-Out               2015-07-01\n",
            "6       Resort Hotel            0  ...           Check-Out               2015-07-03\n",
            "7       Resort Hotel            0  ...           Check-Out               2015-07-03\n",
            "55      Resort Hotel            0  ...           Check-Out               2015-07-03\n",
            "...              ...          ...  ...                 ...                      ...\n",
            "99431     City Hotel            0  ...           Check-Out               2016-10-13\n",
            "99432     City Hotel            0  ...           Check-Out               2016-10-15\n",
            "101137    City Hotel            0  ...           Check-Out               2016-11-07\n",
            "111027    City Hotel            0  ...           Check-Out               2017-05-05\n",
            "119278    City Hotel            0  ...           Check-Out               2017-09-01\n",
            "\n",
            "[932 rows x 32 columns]\n",
            "               hotel  is_canceled  ...  reservation_status  reservation_status_date\n",
            "9       Resort Hotel            1  ...            Canceled               2015-04-22\n",
            "11      Resort Hotel            0  ...           Check-Out               2015-07-05\n",
            "12      Resort Hotel            0  ...           Check-Out               2015-07-05\n",
            "15      Resort Hotel            0  ...           Check-Out               2015-07-05\n",
            "23      Resort Hotel            0  ...           Check-Out               2015-07-07\n",
            "...              ...          ...  ...                 ...                      ...\n",
            "119361    City Hotel            0  ...           Check-Out               2017-09-04\n",
            "119363    City Hotel            0  ...           Check-Out               2017-09-04\n",
            "119364    City Hotel            0  ...           Check-Out               2017-09-04\n",
            "119379    City Hotel            0  ...           Check-Out               2017-09-04\n",
            "119387    City Hotel            0  ...           Check-Out               2017-09-07\n",
            "\n",
            "[19201 rows x 32 columns]\n",
            "               hotel  is_canceled  ...  reservation_status  reservation_status_date\n",
            "10      Resort Hotel            1  ...            Canceled               2015-06-23\n",
            "14      Resort Hotel            0  ...           Check-Out               2015-07-05\n",
            "16      Resort Hotel            0  ...           Check-Out               2015-07-05\n",
            "27      Resort Hotel            1  ...            Canceled               2015-05-11\n",
            "32      Resort Hotel            1  ...            Canceled               2015-05-29\n",
            "...              ...          ...  ...                 ...                      ...\n",
            "119314    City Hotel            0  ...           Check-Out               2017-09-03\n",
            "119315    City Hotel            0  ...           Check-Out               2017-09-03\n",
            "119316    City Hotel            0  ...           Check-Out               2017-09-03\n",
            "119376    City Hotel            0  ...           Check-Out               2017-09-04\n",
            "119386    City Hotel            0  ...           Check-Out               2017-09-07\n",
            "\n",
            "[6535 rows x 32 columns]\n",
            "               hotel  is_canceled  ...  reservation_status  reservation_status_date\n",
            "20      Resort Hotel            0  ...           Check-Out               2015-07-06\n",
            "42      Resort Hotel            0  ...           Check-Out               2015-07-07\n",
            "62      Resort Hotel            0  ...           Check-Out               2015-07-05\n",
            "86      Resort Hotel            0  ...           Check-Out               2015-07-17\n",
            "96      Resort Hotel            1  ...            Canceled               2015-05-13\n",
            "...              ...          ...  ...                 ...                      ...\n",
            "119223    City Hotel            0  ...           Check-Out               2017-09-01\n",
            "119247    City Hotel            0  ...           Check-Out               2017-09-01\n",
            "119251    City Hotel            0  ...           Check-Out               2017-09-01\n",
            "119293    City Hotel            0  ...           Check-Out               2017-09-02\n",
            "119319    City Hotel            0  ...           Check-Out               2017-09-03\n",
            "\n",
            "[2897 rows x 32 columns]\n",
            "               hotel  is_canceled  ...  reservation_status  reservation_status_date\n",
            "13      Resort Hotel            0  ...           Check-Out               2015-07-05\n",
            "19      Resort Hotel            0  ...           Check-Out               2015-07-05\n",
            "40      Resort Hotel            1  ...            Canceled               2015-05-18\n",
            "45      Resort Hotel            1  ...            Canceled               2015-06-02\n",
            "58      Resort Hotel            0  ...           Check-Out               2015-07-03\n",
            "...              ...          ...  ...                 ...                      ...\n",
            "119070    City Hotel            0  ...           Check-Out               2017-08-30\n",
            "119126    City Hotel            0  ...           Check-Out               2017-08-30\n",
            "119151    City Hotel            0  ...           Check-Out               2017-08-30\n",
            "119365    City Hotel            0  ...           Check-Out               2017-09-04\n",
            "119382    City Hotel            0  ...           Check-Out               2017-09-05\n",
            "\n",
            "[2094 rows x 32 columns]\n",
            "              hotel  is_canceled  ...  reservation_status  reservation_status_date\n",
            "54     Resort Hotel            0  ...           Check-Out               2015-07-03\n",
            "56     Resort Hotel            0  ...           Check-Out               2015-07-03\n",
            "105    Resort Hotel            1  ...            Canceled               2015-06-09\n",
            "119    Resort Hotel            0  ...           Check-Out               2015-07-05\n",
            "125    Resort Hotel            0  ...           Check-Out               2015-07-05\n",
            "...             ...          ...  ...                 ...                      ...\n",
            "39741  Resort Hotel            0  ...           Check-Out               2017-08-27\n",
            "39761  Resort Hotel            0  ...           Check-Out               2017-08-28\n",
            "39808  Resort Hotel            0  ...           Check-Out               2017-08-29\n",
            "39931  Resort Hotel            0  ...           Check-Out               2017-09-02\n",
            "39960  Resort Hotel            0  ...           Check-Out               2017-09-03\n",
            "\n",
            "[601 rows x 32 columns]\n",
            "              hotel  is_canceled  ...  reservation_status  reservation_status_date\n",
            "354    Resort Hotel            0  ...           Check-Out               2015-07-15\n",
            "504    Resort Hotel            1  ...            Canceled               2015-07-17\n",
            "911    Resort Hotel            0  ...           Check-Out               2015-08-06\n",
            "14381  Resort Hotel            1  ...            Canceled               2015-07-17\n",
            "14570  Resort Hotel            0  ...           Check-Out               2015-07-10\n",
            "15855  Resort Hotel            0  ...           Check-Out               2015-08-05\n",
            "\n",
            "[6 rows x 32 columns]\n",
            "              hotel  is_canceled  ...  reservation_status  reservation_status_date\n",
            "4127   Resort Hotel            1  ...            Canceled               2016-02-15\n",
            "9376   Resort Hotel            1  ...            Canceled               2016-11-21\n",
            "60651    City Hotel            1  ...            Canceled               2016-11-17\n",
            "61244    City Hotel            1  ...            Canceled               2016-12-06\n",
            "61245    City Hotel            1  ...            Canceled               2016-12-06\n",
            "61249    City Hotel            1  ...            Canceled               2016-12-06\n",
            "65907    City Hotel            1  ...            Canceled               2017-04-10\n",
            "65908    City Hotel            1  ...            Canceled               2017-04-10\n",
            "65909    City Hotel            1  ...            Canceled               2017-04-10\n",
            "65910    City Hotel            1  ...            Canceled               2017-04-10\n",
            "72967    City Hotel            1  ...            Canceled               2017-08-11\n",
            "72968    City Hotel            1  ...            Canceled               2017-08-11\n",
            "\n",
            "[12 rows x 32 columns]\n"
          ],
          "name": "stdout"
        }
      ]
    },
    {
      "cell_type": "code",
      "metadata": {
        "id": "1hufCASQUbYJ",
        "outputId": "a0d29562-c25f-41a1-f7e1-461387fbb9e5",
        "colab": {
          "base_uri": "https://localhost:8080/"
        }
      },
      "source": [
        "grouped_acc_count=grouped_acc['reserved_room_type'].count()\n",
        "grouped_acc_count\n",
        "\n",
        "\n"
      ],
      "execution_count": 86,
      "outputs": [
        {
          "output_type": "execute_result",
          "data": {
            "text/plain": [
              "reserved_room_type\n",
              "A    85994\n",
              "B     1114\n",
              "C      932\n",
              "D    19201\n",
              "E     6535\n",
              "F     2897\n",
              "G     2094\n",
              "H      601\n",
              "L        6\n",
              "P       12\n",
              "Name: reserved_room_type, dtype: int64"
            ]
          },
          "metadata": {
            "tags": []
          },
          "execution_count": 86
        }
      ]
    }
  ]
}