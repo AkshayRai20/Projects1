{
  "nbformat": 4,
  "nbformat_minor": 0,
  "metadata": {
    "kernelspec": {
      "display_name": "Python 3",
      "language": "python",
      "name": "python3"
    },
    "language_info": {
      "codemirror_mode": {
        "name": "ipython",
        "version": 3
      },
      "file_extension": ".py",
      "mimetype": "text/x-python",
      "name": "python",
      "nbconvert_exporter": "python",
      "pygments_lexer": "ipython3",
      "version": "3.6.6"
    },
    "colab": {
      "name": "Akshay -Team 6 - Capstone Project.ipynb",
      "provenance": [],
      "collapsed_sections": [],
      "include_colab_link": true
    }
  },
  "cells": [
    {
      "cell_type": "markdown",
      "metadata": {
        "id": "view-in-github",
        "colab_type": "text"
      },
      "source": [
        "<a href=\"https://colab.research.google.com/github/AkshayRai20/Projects1/blob/main/Akshay_Team_6_Capstone_Project.ipynb\" target=\"_parent\"><img src=\"https://colab.research.google.com/assets/colab-badge.svg\" alt=\"Open In Colab\"/></a>"
      ]
    },
    {
      "cell_type": "markdown",
      "metadata": {
        "id": "Y06xIdG26kRF"
      },
      "source": [
        "## <b> Have you ever wondered when the best time of year to book a hotel room is? Or the optimal length of stay in order to get the best daily rate? What if you wanted to predict whether or not a hotel was likely to receive a disproportionately high number of special requests? This hotel booking dataset can help you explore those questions!\n",
        "\n",
        "## <b>This data set contains booking information for a city hotel and a resort hotel, and includes information such as when the booking was made, length of stay, the number of adults, children, and/or babies, and the number of available parking spaces, among other things. All personally identifying information has been removed from the data. </b>\n",
        "\n",
        "## <b> Explore and analyze the data to discover important factors that govern the bookings. </b>"
      ]
    },
    {
      "cell_type": "code",
      "metadata": {
        "id": "dByMsuzT8Tnw"
      },
      "source": [
        "from google.colab import drive\n",
        "drive.mount('/content/drive')"
      ],
      "execution_count": null,
      "outputs": []
    },
    {
      "cell_type": "markdown",
      "metadata": {
        "id": "2cMu0Ggi0ql8"
      },
      "source": [
        "**Structure**\n",
        "1. Background\n",
        "2. Introduction to the data\n",
        "3. Assumptions made\n",
        "4. The four dimensions we have explored\n",
        "5. Codes \n",
        "6. Conclusions\n"
      ]
    },
    {
      "cell_type": "markdown",
      "metadata": {
        "id": "xVXvDKaNS0GK"
      },
      "source": [
        "**Background**\n",
        "\n",
        "We are living in unprecedented times. Every doomsayer out there is predicting the end of the hospitality industry, which in recent weeks has shown immense resilience. Case in point, employment in U.S. leisure and hospitality segment increased by 271K in October with the segment adding 4.8 million jobs since April. However, employment in the industry is down by 3.5 million since February.\n",
        "\n",
        "Ergo, hospitality is down, but not out. \n",
        "\n",
        "The primary driver of this trend is humans are social animals and animals love to roam. With the advent of the travel apps and websites, booking a nice place to stay takes only a click. A win-win for all the three entities involved, the customer, the facilitator and the hotel owner. \n",
        "\n",
        "This is a double-edged sword as it is a level playing field for customers and hotel owners. For the customers, there is competition to book a good place while for hotel owners, cancellations are bound to happen owing to the customer finding a 'better' place. So the smart customer needs to do his research to get his booking and a good deal at that while the hotel owner needs to do his research and market to the right customer, hire the right amount of labor and optimize his operating costs while also having a reasonable occupancy rate. And that brings us here. \n",
        "\n",
        "We have a dataset spanning over three years of bookings. The goal is to extract insights that will benefit the XXXXXXX. The XXXXXX, of course, will need to do \n",
        "his own research. "
      ]
    },
    {
      "cell_type": "markdown",
      "metadata": {
        "id": "__h7jIF-WWOE"
      },
      "source": [
        "**Introduction to the data**\n",
        "\n",
        "1. 'Hotel': Denotes the type of hotel - Resort hotel or city hotel\n",
        "2. 'Canceled': Denoted by '1' if booking was cancelled or '0' otherwise 3. 3. 3. 'Lead Time': Period between time of booking and checkin (considered in hours here)\n",
        "4. 'Market Segment': The channel used for booking - 'Direct', 'Corporate', 'Online TA', 'Offline TA/TO', 'Complementary', 'Groups', 'Undefined', 'Aviation'"
      ]
    },
    {
      "cell_type": "markdown",
      "metadata": {
        "id": "jqjNtvhk2Z29"
      },
      "source": [
        "**Assumptions Box**\n",
        "1. Rows where the ADR reads zero but the status reads 'check-out' have been ignored\n",
        "\n",
        "2. Rows where the number of people sums up to zero, including adults, babies and children have not been considered\n",
        "\n",
        "3. ADR has been kept flat even for larger groups for simplicity\n",
        "\n",
        "4. Market segments are considered distribution channels\n",
        "\n"
      ]
    },
    {
      "cell_type": "markdown",
      "metadata": {
        "id": "QhvRSzohzJbd"
      },
      "source": [
        "# The Four Dimensions \n",
        "\n",
        "NOTE: Codes might not follow the sequence of questions as the final set is still being finalized\n",
        "\n",
        "\n",
        "**Bookings**\n",
        "1. What is the percentage of booking for each year?\n",
        "2. Most booked accomodation type?\n",
        "3. Distribution of ADR?\n",
        "4. How much do guests pay for a room per night?\n",
        "5. How long do people stay at the hotels\n",
        "6. Bookings by market segment?\n",
        "7. What do the weekend vs. weekday look like for resort hotels?\n",
        "8. Does parking have an impact on bookings for resort hotels?\n",
        "\n",
        "**Cancellations**\n",
        "1. How many booking were cancelled?\n",
        "2. Effect of lead time on cancellations?\n",
        "3. Effect of deposit type on cancellations?\n",
        "4. Effect of ADR on cancellations?\n",
        "\n",
        "**Demography**\n",
        "1. From which country most guest are coming?\n",
        "2. Which country brings in the most revenue?\n",
        "\n",
        "**Seasonality**\n",
        "1. Which month has the least traffic?\n",
        "2. How does the price per night vary over the year?\n",
        "3. Which month have the highest number of cancelations?\n",
        "\n",
        "**Others**\n",
        "1. Which category has the highest number of special requests?\n",
        "2. Does children have an impact on the number of special requests made?\n",
        "\n",
        "\n",
        "\n",
        "\n",
        "\n",
        "\n"
      ]
    },
    {
      "cell_type": "markdown",
      "metadata": {
        "id": "u6eKJnB53NlN"
      },
      "source": [
        "**Preparing and exploration of data**\n"
      ]
    },
    {
      "cell_type": "code",
      "metadata": {
        "id": "4YieyBCAlKBb"
      },
      "source": [
        "#Initialization##\n",
        "import numpy as np\n",
        "import pandas as pd\n",
        "import matplotlib.pyplot as plt\n",
        "import seaborn as sns"
      ],
      "execution_count": 51,
      "outputs": []
    },
    {
      "cell_type": "code",
      "metadata": {
        "id": "V-rrW2IGkYj1"
      },
      "source": [
        "df=pd.read_csv(\"/content/drive/My Drive/Cohort Aravali/CohortAravali-201005-153433.zip (Unzipped Files)/AlmaBetter/Module 2/Week 1/hotel_bookings.csv\")"
      ],
      "execution_count": 5,
      "outputs": []
    },
    {
      "cell_type": "code",
      "metadata": {
        "id": "FfVhqKRh61jq",
        "outputId": "4142b55e-a16a-47aa-9c20-859702cf4061",
        "colab": {
          "base_uri": "https://localhost:8080/",
          "height": 638
        }
      },
      "source": [
        "##Types of hotels##\n",
        "plt.figure(figsize=(10,10))\n",
        "sns.countplot(x='hotel', data = df, palette='cool')\n",
        "plt.title('Types of hotels')\n",
        "plt.xlabel('Hotel')\n",
        "plt.ylabel('Count')"
      ],
      "execution_count": 50,
      "outputs": [
        {
          "output_type": "execute_result",
          "data": {
            "text/plain": [
              "Text(0, 0.5, 'Count')"
            ]
          },
          "metadata": {
            "tags": []
          },
          "execution_count": 50
        },
        {
          "output_type": "display_data",
          "data": {
            "image/png": "[encoded data removed]",
            "text/plain": [
              "<Figure size 720x720 with 1 Axes>"
            ]
          },
          "metadata": {
            "tags": [],
            "needs_background": "light"
          }
        }
      ]
    },
    {
      "cell_type": "markdown",
      "metadata": {
        "id": "a_IOVx7rmpkn"
      },
      "source": [
        "df.head(3)"
      ]
    },
    {
      "cell_type": "code",
      "metadata": {
        "id": "zzy1x_cfvhXr",
        "outputId": "af459d23-afe1-42cc-c387-787881423f89",
        "colab": {
          "base_uri": "https://localhost:8080/",
          "height": 419
        }
      },
      "source": [
        "###Checking for relation between 'is_cancelled' and 'reservation_status'###\n",
        "df[['is_canceled','reservation_status']][0:150] "
      ],
      "execution_count": 6,
      "outputs": [
        {
          "output_type": "execute_result",
          "data": {
            "text/html": [
              "<div>\n",
              "<style scoped>\n",
              "    .dataframe tbody tr th:only-of-type {\n",
              "        vertical-align: middle;\n",
              "    }\n",
              "\n",
              "    .dataframe tbody tr th {\n",
              "        vertical-align: top;\n",
              "    }\n",
              "\n",
              "    .dataframe thead th {\n",
              "        text-align: right;\n",
              "    }\n",
              "</style>\n",
              "<table border=\"1\" class=\"dataframe\">\n",
              "  <thead>\n",
              "    <tr style=\"text-align: right;\">\n",
              "      <th></th>\n",
              "      <th>is_canceled</th>\n",
              "      <th>reservation_status</th>\n",
              "    </tr>\n",
              "  </thead>\n",
              "  <tbody>\n",
              "    <tr>\n",
              "      <th>0</th>\n",
              "      <td>0</td>\n",
              "      <td>Check-Out</td>\n",
              "    </tr>\n",
              "    <tr>\n",
              "      <th>1</th>\n",
              "      <td>0</td>\n",
              "      <td>Check-Out</td>\n",
              "    </tr>\n",
              "    <tr>\n",
              "      <th>2</th>\n",
              "      <td>0</td>\n",
              "      <td>Check-Out</td>\n",
              "    </tr>\n",
              "    <tr>\n",
              "      <th>3</th>\n",
              "      <td>0</td>\n",
              "      <td>Check-Out</td>\n",
              "    </tr>\n",
              "    <tr>\n",
              "      <th>4</th>\n",
              "      <td>0</td>\n",
              "      <td>Check-Out</td>\n",
              "    </tr>\n",
              "    <tr>\n",
              "      <th>...</th>\n",
              "      <td>...</td>\n",
              "      <td>...</td>\n",
              "    </tr>\n",
              "    <tr>\n",
              "      <th>145</th>\n",
              "      <td>0</td>\n",
              "      <td>Check-Out</td>\n",
              "    </tr>\n",
              "    <tr>\n",
              "      <th>146</th>\n",
              "      <td>0</td>\n",
              "      <td>Check-Out</td>\n",
              "    </tr>\n",
              "    <tr>\n",
              "      <th>147</th>\n",
              "      <td>0</td>\n",
              "      <td>Check-Out</td>\n",
              "    </tr>\n",
              "    <tr>\n",
              "      <th>148</th>\n",
              "      <td>1</td>\n",
              "      <td>Canceled</td>\n",
              "    </tr>\n",
              "    <tr>\n",
              "      <th>149</th>\n",
              "      <td>1</td>\n",
              "      <td>Canceled</td>\n",
              "    </tr>\n",
              "  </tbody>\n",
              "</table>\n",
              "<p>150 rows × 2 columns</p>\n",
              "</div>"
            ],
            "text/plain": [
              "     is_canceled reservation_status\n",
              "0              0          Check-Out\n",
              "1              0          Check-Out\n",
              "2              0          Check-Out\n",
              "3              0          Check-Out\n",
              "4              0          Check-Out\n",
              "..           ...                ...\n",
              "145            0          Check-Out\n",
              "146            0          Check-Out\n",
              "147            0          Check-Out\n",
              "148            1           Canceled\n",
              "149            1           Canceled\n",
              "\n",
              "[150 rows x 2 columns]"
            ]
          },
          "metadata": {
            "tags": []
          },
          "execution_count": 6
        }
      ]
    },
    {
      "cell_type": "code",
      "metadata": {
        "id": "Fl7-hAfbvhv2",
        "outputId": "97d7df2d-8706-4567-b7a2-03018985ec5b",
        "colab": {
          "base_uri": "https://localhost:8080/"
        }
      },
      "source": [
        "###Countries###\n",
        "df['country'].unique() "
      ],
      "execution_count": 7,
      "outputs": [
        {
          "output_type": "execute_result",
          "data": {
            "text/plain": [
              "array(['PRT', 'GBR', 'USA', 'ESP', 'IRL', 'FRA', nan, 'ROU', 'NOR', 'OMN',\n",
              "       'ARG', 'POL', 'DEU', 'BEL', 'CHE', 'CN', 'GRC', 'ITA', 'NLD',\n",
              "       'DNK', 'RUS', 'SWE', 'AUS', 'EST', 'CZE', 'BRA', 'FIN', 'MOZ',\n",
              "       'BWA', 'LUX', 'SVN', 'ALB', 'IND', 'CHN', 'MEX', 'MAR', 'UKR',\n",
              "       'SMR', 'LVA', 'PRI', 'SRB', 'CHL', 'AUT', 'BLR', 'LTU', 'TUR',\n",
              "       'ZAF', 'AGO', 'ISR', 'CYM', 'ZMB', 'CPV', 'ZWE', 'DZA', 'KOR',\n",
              "       'CRI', 'HUN', 'ARE', 'TUN', 'JAM', 'HRV', 'HKG', 'IRN', 'GEO',\n",
              "       'AND', 'GIB', 'URY', 'JEY', 'CAF', 'CYP', 'COL', 'GGY', 'KWT',\n",
              "       'NGA', 'MDV', 'VEN', 'SVK', 'FJI', 'KAZ', 'PAK', 'IDN', 'LBN',\n",
              "       'PHL', 'SEN', 'SYC', 'AZE', 'BHR', 'NZL', 'THA', 'DOM', 'MKD',\n",
              "       'MYS', 'ARM', 'JPN', 'LKA', 'CUB', 'CMR', 'BIH', 'MUS', 'COM',\n",
              "       'SUR', 'UGA', 'BGR', 'CIV', 'JOR', 'SYR', 'SGP', 'BDI', 'SAU',\n",
              "       'VNM', 'PLW', 'QAT', 'EGY', 'PER', 'MLT', 'MWI', 'ECU', 'MDG',\n",
              "       'ISL', 'UZB', 'NPL', 'BHS', 'MAC', 'TGO', 'TWN', 'DJI', 'STP',\n",
              "       'KNA', 'ETH', 'IRQ', 'HND', 'RWA', 'KHM', 'MCO', 'BGD', 'IMN',\n",
              "       'TJK', 'NIC', 'BEN', 'VGB', 'TZA', 'GAB', 'GHA', 'TMP', 'GLP',\n",
              "       'KEN', 'LIE', 'GNB', 'MNE', 'UMI', 'MYT', 'FRO', 'MMR', 'PAN',\n",
              "       'BFA', 'LBY', 'MLI', 'NAM', 'BOL', 'PRY', 'BRB', 'ABW', 'AIA',\n",
              "       'SLV', 'DMA', 'PYF', 'GUY', 'LCA', 'ATA', 'GTM', 'ASM', 'MRT',\n",
              "       'NCL', 'KIR', 'SDN', 'ATF', 'SLE', 'LAO'], dtype=object)"
            ]
          },
          "metadata": {
            "tags": []
          },
          "execution_count": 7
        }
      ]
    },
    {
      "cell_type": "code",
      "metadata": {
        "id": "CeiBdLT_6xod"
      },
      "source": [
        "#Adding total adults, children and babies as members for ease of analysis\n",
        "df['total_members'] = df['adults']+df['children']+df['babies']"
      ],
      "execution_count": 52,
      "outputs": []
    },
    {
      "cell_type": "code",
      "metadata": {
        "id": "frB9IwwrN5vX"
      },
      "source": [
        "#Adding total weekend nights and weekday nights as total nights for ease of analysis\n",
        "df['total_nights'] = df['stays_in_weekend_nights']+df['stays_in_week_nights']"
      ],
      "execution_count": 59,
      "outputs": []
    },
    {
      "cell_type": "code",
      "metadata": {
        "id": "05Yk1in96wd1",
        "outputId": "a662b6d2-b801-4147-a495-9353f250531f",
        "colab": {
          "base_uri": "https://localhost:8080/",
          "height": 213
        }
      },
      "source": [
        "df.head(3)"
      ],
      "execution_count": 60,
      "outputs": [
        {
          "output_type": "execute_result",
          "data": {
            "text/html": [
              "<div>\n",
              "<style scoped>\n",
              "    .dataframe tbody tr th:only-of-type {\n",
              "        vertical-align: middle;\n",
              "    }\n",
              "\n",
              "    .dataframe tbody tr th {\n",
              "        vertical-align: top;\n",
              "    }\n",
              "\n",
              "    .dataframe thead th {\n",
              "        text-align: right;\n",
              "    }\n",
              "</style>\n",
              "<table border=\"1\" class=\"dataframe\">\n",
              "  <thead>\n",
              "    <tr style=\"text-align: right;\">\n",
              "      <th></th>\n",
              "      <th>hotel</th>\n",
              "      <th>is_canceled</th>\n",
              "      <th>lead_time</th>\n",
              "      <th>arrival_date_year</th>\n",
              "      <th>arrival_date_month</th>\n",
              "      <th>arrival_date_week_number</th>\n",
              "      <th>arrival_date_day_of_month</th>\n",
              "      <th>stays_in_weekend_nights</th>\n",
              "      <th>stays_in_week_nights</th>\n",
              "      <th>adults</th>\n",
              "      <th>children</th>\n",
              "      <th>babies</th>\n",
              "      <th>meal</th>\n",
              "      <th>country</th>\n",
              "      <th>market_segment</th>\n",
              "      <th>distribution_channel</th>\n",
              "      <th>is_repeated_guest</th>\n",
              "      <th>previous_cancellations</th>\n",
              "      <th>previous_bookings_not_canceled</th>\n",
              "      <th>reserved_room_type</th>\n",
              "      <th>assigned_room_type</th>\n",
              "      <th>booking_changes</th>\n",
              "      <th>deposit_type</th>\n",
              "      <th>agent</th>\n",
              "      <th>company</th>\n",
              "      <th>days_in_waiting_list</th>\n",
              "      <th>customer_type</th>\n",
              "      <th>adr</th>\n",
              "      <th>required_car_parking_spaces</th>\n",
              "      <th>total_of_special_requests</th>\n",
              "      <th>reservation_status</th>\n",
              "      <th>reservation_status_date</th>\n",
              "      <th>total_members</th>\n",
              "      <th>total_nights</th>\n",
              "    </tr>\n",
              "  </thead>\n",
              "  <tbody>\n",
              "    <tr>\n",
              "      <th>0</th>\n",
              "      <td>Resort Hotel</td>\n",
              "      <td>0</td>\n",
              "      <td>342</td>\n",
              "      <td>2015</td>\n",
              "      <td>July</td>\n",
              "      <td>27</td>\n",
              "      <td>1</td>\n",
              "      <td>0</td>\n",
              "      <td>0</td>\n",
              "      <td>2</td>\n",
              "      <td>0.0</td>\n",
              "      <td>0</td>\n",
              "      <td>BB</td>\n",
              "      <td>PRT</td>\n",
              "      <td>Direct</td>\n",
              "      <td>Direct</td>\n",
              "      <td>0</td>\n",
              "      <td>0</td>\n",
              "      <td>0</td>\n",
              "      <td>C</td>\n",
              "      <td>C</td>\n",
              "      <td>3</td>\n",
              "      <td>No Deposit</td>\n",
              "      <td>NaN</td>\n",
              "      <td>NaN</td>\n",
              "      <td>0</td>\n",
              "      <td>Transient</td>\n",
              "      <td>0.0</td>\n",
              "      <td>0</td>\n",
              "      <td>0</td>\n",
              "      <td>Check-Out</td>\n",
              "      <td>2015-07-01</td>\n",
              "      <td>2.0</td>\n",
              "      <td>0</td>\n",
              "    </tr>\n",
              "    <tr>\n",
              "      <th>1</th>\n",
              "      <td>Resort Hotel</td>\n",
              "      <td>0</td>\n",
              "      <td>737</td>\n",
              "      <td>2015</td>\n",
              "      <td>July</td>\n",
              "      <td>27</td>\n",
              "      <td>1</td>\n",
              "      <td>0</td>\n",
              "      <td>0</td>\n",
              "      <td>2</td>\n",
              "      <td>0.0</td>\n",
              "      <td>0</td>\n",
              "      <td>BB</td>\n",
              "      <td>PRT</td>\n",
              "      <td>Direct</td>\n",
              "      <td>Direct</td>\n",
              "      <td>0</td>\n",
              "      <td>0</td>\n",
              "      <td>0</td>\n",
              "      <td>C</td>\n",
              "      <td>C</td>\n",
              "      <td>4</td>\n",
              "      <td>No Deposit</td>\n",
              "      <td>NaN</td>\n",
              "      <td>NaN</td>\n",
              "      <td>0</td>\n",
              "      <td>Transient</td>\n",
              "      <td>0.0</td>\n",
              "      <td>0</td>\n",
              "      <td>0</td>\n",
              "      <td>Check-Out</td>\n",
              "      <td>2015-07-01</td>\n",
              "      <td>2.0</td>\n",
              "      <td>0</td>\n",
              "    </tr>\n",
              "    <tr>\n",
              "      <th>2</th>\n",
              "      <td>Resort Hotel</td>\n",
              "      <td>0</td>\n",
              "      <td>7</td>\n",
              "      <td>2015</td>\n",
              "      <td>July</td>\n",
              "      <td>27</td>\n",
              "      <td>1</td>\n",
              "      <td>0</td>\n",
              "      <td>1</td>\n",
              "      <td>1</td>\n",
              "      <td>0.0</td>\n",
              "      <td>0</td>\n",
              "      <td>BB</td>\n",
              "      <td>GBR</td>\n",
              "      <td>Direct</td>\n",
              "      <td>Direct</td>\n",
              "      <td>0</td>\n",
              "      <td>0</td>\n",
              "      <td>0</td>\n",
              "      <td>A</td>\n",
              "      <td>C</td>\n",
              "      <td>0</td>\n",
              "      <td>No Deposit</td>\n",
              "      <td>NaN</td>\n",
              "      <td>NaN</td>\n",
              "      <td>0</td>\n",
              "      <td>Transient</td>\n",
              "      <td>75.0</td>\n",
              "      <td>0</td>\n",
              "      <td>0</td>\n",
              "      <td>Check-Out</td>\n",
              "      <td>2015-07-02</td>\n",
              "      <td>1.0</td>\n",
              "      <td>1</td>\n",
              "    </tr>\n",
              "  </tbody>\n",
              "</table>\n",
              "</div>"
            ],
            "text/plain": [
              "          hotel  is_canceled  ...  total_members  total_nights\n",
              "0  Resort Hotel            0  ...            2.0             0\n",
              "1  Resort Hotel            0  ...            2.0             0\n",
              "2  Resort Hotel            0  ...            1.0             1\n",
              "\n",
              "[3 rows x 34 columns]"
            ]
          },
          "metadata": {
            "tags": []
          },
          "execution_count": 60
        }
      ]
    },
    {
      "cell_type": "code",
      "metadata": {
        "id": "rnkSuqL8Niwl",
        "outputId": "3570f7e6-b2c1-49fe-94ff-78226febfe88",
        "colab": {
          "base_uri": "https://localhost:8080/",
          "height": 609
        }
      },
      "source": [
        "#Removing all cancelled bookings for ease of analysis\n",
        "no_cancel = df[df.is_canceled==0]\n",
        "no_cancel"
      ],
      "execution_count": 134,
      "outputs": [
        {
          "output_type": "execute_result",
          "data": {
            "text/html": [
              "<div>\n",
              "<style scoped>\n",
              "    .dataframe tbody tr th:only-of-type {\n",
              "        vertical-align: middle;\n",
              "    }\n",
              "\n",
              "    .dataframe tbody tr th {\n",
              "        vertical-align: top;\n",
              "    }\n",
              "\n",
              "    .dataframe thead th {\n",
              "        text-align: right;\n",
              "    }\n",
              "</style>\n",
              "<table border=\"1\" class=\"dataframe\">\n",
              "  <thead>\n",
              "    <tr style=\"text-align: right;\">\n",
              "      <th></th>\n",
              "      <th>hotel</th>\n",
              "      <th>is_canceled</th>\n",
              "      <th>lead_time</th>\n",
              "      <th>arrival_date_year</th>\n",
              "      <th>arrival_date_month</th>\n",
              "      <th>arrival_date_week_number</th>\n",
              "      <th>arrival_date_day_of_month</th>\n",
              "      <th>stays_in_weekend_nights</th>\n",
              "      <th>stays_in_week_nights</th>\n",
              "      <th>adults</th>\n",
              "      <th>children</th>\n",
              "      <th>babies</th>\n",
              "      <th>meal</th>\n",
              "      <th>country</th>\n",
              "      <th>market_segment</th>\n",
              "      <th>distribution_channel</th>\n",
              "      <th>is_repeated_guest</th>\n",
              "      <th>previous_cancellations</th>\n",
              "      <th>previous_bookings_not_canceled</th>\n",
              "      <th>reserved_room_type</th>\n",
              "      <th>assigned_room_type</th>\n",
              "      <th>booking_changes</th>\n",
              "      <th>deposit_type</th>\n",
              "      <th>agent</th>\n",
              "      <th>company</th>\n",
              "      <th>days_in_waiting_list</th>\n",
              "      <th>customer_type</th>\n",
              "      <th>adr</th>\n",
              "      <th>required_car_parking_spaces</th>\n",
              "      <th>total_of_special_requests</th>\n",
              "      <th>reservation_status</th>\n",
              "      <th>reservation_status_date</th>\n",
              "      <th>total_members</th>\n",
              "      <th>total_nights</th>\n",
              "    </tr>\n",
              "  </thead>\n",
              "  <tbody>\n",
              "    <tr>\n",
              "      <th>0</th>\n",
              "      <td>Resort Hotel</td>\n",
              "      <td>0</td>\n",
              "      <td>342</td>\n",
              "      <td>2015</td>\n",
              "      <td>July</td>\n",
              "      <td>27</td>\n",
              "      <td>1</td>\n",
              "      <td>0</td>\n",
              "      <td>0</td>\n",
              "      <td>2</td>\n",
              "      <td>0.0</td>\n",
              "      <td>0</td>\n",
              "      <td>BB</td>\n",
              "      <td>PRT</td>\n",
              "      <td>Direct</td>\n",
              "      <td>Direct</td>\n",
              "      <td>0</td>\n",
              "      <td>0</td>\n",
              "      <td>0</td>\n",
              "      <td>C</td>\n",
              "      <td>C</td>\n",
              "      <td>3</td>\n",
              "      <td>No Deposit</td>\n",
              "      <td>NaN</td>\n",
              "      <td>NaN</td>\n",
              "      <td>0</td>\n",
              "      <td>Transient</td>\n",
              "      <td>0.00</td>\n",
              "      <td>0</td>\n",
              "      <td>0</td>\n",
              "      <td>Check-Out</td>\n",
              "      <td>2015-07-01</td>\n",
              "      <td>2.0</td>\n",
              "      <td>0</td>\n",
              "    </tr>\n",
              "    <tr>\n",
              "      <th>1</th>\n",
              "      <td>Resort Hotel</td>\n",
              "      <td>0</td>\n",
              "      <td>737</td>\n",
              "      <td>2015</td>\n",
              "      <td>July</td>\n",
              "      <td>27</td>\n",
              "      <td>1</td>\n",
              "      <td>0</td>\n",
              "      <td>0</td>\n",
              "      <td>2</td>\n",
              "      <td>0.0</td>\n",
              "      <td>0</td>\n",
              "      <td>BB</td>\n",
              "      <td>PRT</td>\n",
              "      <td>Direct</td>\n",
              "      <td>Direct</td>\n",
              "      <td>0</td>\n",
              "      <td>0</td>\n",
              "      <td>0</td>\n",
              "      <td>C</td>\n",
              "      <td>C</td>\n",
              "      <td>4</td>\n",
              "      <td>No Deposit</td>\n",
              "      <td>NaN</td>\n",
              "      <td>NaN</td>\n",
              "      <td>0</td>\n",
              "      <td>Transient</td>\n",
              "      <td>0.00</td>\n",
              "      <td>0</td>\n",
              "      <td>0</td>\n",
              "      <td>Check-Out</td>\n",
              "      <td>2015-07-01</td>\n",
              "      <td>2.0</td>\n",
              "      <td>0</td>\n",
              "    </tr>\n",
              "    <tr>\n",
              "      <th>2</th>\n",
              "      <td>Resort Hotel</td>\n",
              "      <td>0</td>\n",
              "      <td>7</td>\n",
              "      <td>2015</td>\n",
              "      <td>July</td>\n",
              "      <td>27</td>\n",
              "      <td>1</td>\n",
              "      <td>0</td>\n",
              "      <td>1</td>\n",
              "      <td>1</td>\n",
              "      <td>0.0</td>\n",
              "      <td>0</td>\n",
              "      <td>BB</td>\n",
              "      <td>GBR</td>\n",
              "      <td>Direct</td>\n",
              "      <td>Direct</td>\n",
              "      <td>0</td>\n",
              "      <td>0</td>\n",
              "      <td>0</td>\n",
              "      <td>A</td>\n",
              "      <td>C</td>\n",
              "      <td>0</td>\n",
              "      <td>No Deposit</td>\n",
              "      <td>NaN</td>\n",
              "      <td>NaN</td>\n",
              "      <td>0</td>\n",
              "      <td>Transient</td>\n",
              "      <td>75.00</td>\n",
              "      <td>0</td>\n",
              "      <td>0</td>\n",
              "      <td>Check-Out</td>\n",
              "      <td>2015-07-02</td>\n",
              "      <td>1.0</td>\n",
              "      <td>1</td>\n",
              "    </tr>\n",
              "    <tr>\n",
              "      <th>3</th>\n",
              "      <td>Resort Hotel</td>\n",
              "      <td>0</td>\n",
              "      <td>13</td>\n",
              "      <td>2015</td>\n",
              "      <td>July</td>\n",
              "      <td>27</td>\n",
              "      <td>1</td>\n",
              "      <td>0</td>\n",
              "      <td>1</td>\n",
              "      <td>1</td>\n",
              "      <td>0.0</td>\n",
              "      <td>0</td>\n",
              "      <td>BB</td>\n",
              "      <td>GBR</td>\n",
              "      <td>Corporate</td>\n",
              "      <td>Corporate</td>\n",
              "      <td>0</td>\n",
              "      <td>0</td>\n",
              "      <td>0</td>\n",
              "      <td>A</td>\n",
              "      <td>A</td>\n",
              "      <td>0</td>\n",
              "      <td>No Deposit</td>\n",
              "      <td>304.0</td>\n",
              "      <td>NaN</td>\n",
              "      <td>0</td>\n",
              "      <td>Transient</td>\n",
              "      <td>75.00</td>\n",
              "      <td>0</td>\n",
              "      <td>0</td>\n",
              "      <td>Check-Out</td>\n",
              "      <td>2015-07-02</td>\n",
              "      <td>1.0</td>\n",
              "      <td>1</td>\n",
              "    </tr>\n",
              "    <tr>\n",
              "      <th>4</th>\n",
              "      <td>Resort Hotel</td>\n",
              "      <td>0</td>\n",
              "      <td>14</td>\n",
              "      <td>2015</td>\n",
              "      <td>July</td>\n",
              "      <td>27</td>\n",
              "      <td>1</td>\n",
              "      <td>0</td>\n",
              "      <td>2</td>\n",
              "      <td>2</td>\n",
              "      <td>0.0</td>\n",
              "      <td>0</td>\n",
              "      <td>BB</td>\n",
              "      <td>GBR</td>\n",
              "      <td>Online TA</td>\n",
              "      <td>TA/TO</td>\n",
              "      <td>0</td>\n",
              "      <td>0</td>\n",
              "      <td>0</td>\n",
              "      <td>A</td>\n",
              "      <td>A</td>\n",
              "      <td>0</td>\n",
              "      <td>No Deposit</td>\n",
              "      <td>240.0</td>\n",
              "      <td>NaN</td>\n",
              "      <td>0</td>\n",
              "      <td>Transient</td>\n",
              "      <td>98.00</td>\n",
              "      <td>0</td>\n",
              "      <td>1</td>\n",
              "      <td>Check-Out</td>\n",
              "      <td>2015-07-03</td>\n",
              "      <td>2.0</td>\n",
              "      <td>2</td>\n",
              "    </tr>\n",
              "    <tr>\n",
              "      <th>...</th>\n",
              "      <td>...</td>\n",
              "      <td>...</td>\n",
              "      <td>...</td>\n",
              "      <td>...</td>\n",
              "      <td>...</td>\n",
              "      <td>...</td>\n",
              "      <td>...</td>\n",
              "      <td>...</td>\n",
              "      <td>...</td>\n",
              "      <td>...</td>\n",
              "      <td>...</td>\n",
              "      <td>...</td>\n",
              "      <td>...</td>\n",
              "      <td>...</td>\n",
              "      <td>...</td>\n",
              "      <td>...</td>\n",
              "      <td>...</td>\n",
              "      <td>...</td>\n",
              "      <td>...</td>\n",
              "      <td>...</td>\n",
              "      <td>...</td>\n",
              "      <td>...</td>\n",
              "      <td>...</td>\n",
              "      <td>...</td>\n",
              "      <td>...</td>\n",
              "      <td>...</td>\n",
              "      <td>...</td>\n",
              "      <td>...</td>\n",
              "      <td>...</td>\n",
              "      <td>...</td>\n",
              "      <td>...</td>\n",
              "      <td>...</td>\n",
              "      <td>...</td>\n",
              "      <td>...</td>\n",
              "    </tr>\n",
              "    <tr>\n",
              "      <th>119385</th>\n",
              "      <td>City Hotel</td>\n",
              "      <td>0</td>\n",
              "      <td>23</td>\n",
              "      <td>2017</td>\n",
              "      <td>August</td>\n",
              "      <td>35</td>\n",
              "      <td>30</td>\n",
              "      <td>2</td>\n",
              "      <td>5</td>\n",
              "      <td>2</td>\n",
              "      <td>0.0</td>\n",
              "      <td>0</td>\n",
              "      <td>BB</td>\n",
              "      <td>BEL</td>\n",
              "      <td>Offline TA/TO</td>\n",
              "      <td>TA/TO</td>\n",
              "      <td>0</td>\n",
              "      <td>0</td>\n",
              "      <td>0</td>\n",
              "      <td>A</td>\n",
              "      <td>A</td>\n",
              "      <td>0</td>\n",
              "      <td>No Deposit</td>\n",
              "      <td>394.0</td>\n",
              "      <td>NaN</td>\n",
              "      <td>0</td>\n",
              "      <td>Transient</td>\n",
              "      <td>96.14</td>\n",
              "      <td>0</td>\n",
              "      <td>0</td>\n",
              "      <td>Check-Out</td>\n",
              "      <td>2017-09-06</td>\n",
              "      <td>2.0</td>\n",
              "      <td>7</td>\n",
              "    </tr>\n",
              "    <tr>\n",
              "      <th>119386</th>\n",
              "      <td>City Hotel</td>\n",
              "      <td>0</td>\n",
              "      <td>102</td>\n",
              "      <td>2017</td>\n",
              "      <td>August</td>\n",
              "      <td>35</td>\n",
              "      <td>31</td>\n",
              "      <td>2</td>\n",
              "      <td>5</td>\n",
              "      <td>3</td>\n",
              "      <td>0.0</td>\n",
              "      <td>0</td>\n",
              "      <td>BB</td>\n",
              "      <td>FRA</td>\n",
              "      <td>Online TA</td>\n",
              "      <td>TA/TO</td>\n",
              "      <td>0</td>\n",
              "      <td>0</td>\n",
              "      <td>0</td>\n",
              "      <td>E</td>\n",
              "      <td>E</td>\n",
              "      <td>0</td>\n",
              "      <td>No Deposit</td>\n",
              "      <td>9.0</td>\n",
              "      <td>NaN</td>\n",
              "      <td>0</td>\n",
              "      <td>Transient</td>\n",
              "      <td>225.43</td>\n",
              "      <td>0</td>\n",
              "      <td>2</td>\n",
              "      <td>Check-Out</td>\n",
              "      <td>2017-09-07</td>\n",
              "      <td>3.0</td>\n",
              "      <td>7</td>\n",
              "    </tr>\n",
              "    <tr>\n",
              "      <th>119387</th>\n",
              "      <td>City Hotel</td>\n",
              "      <td>0</td>\n",
              "      <td>34</td>\n",
              "      <td>2017</td>\n",
              "      <td>August</td>\n",
              "      <td>35</td>\n",
              "      <td>31</td>\n",
              "      <td>2</td>\n",
              "      <td>5</td>\n",
              "      <td>2</td>\n",
              "      <td>0.0</td>\n",
              "      <td>0</td>\n",
              "      <td>BB</td>\n",
              "      <td>DEU</td>\n",
              "      <td>Online TA</td>\n",
              "      <td>TA/TO</td>\n",
              "      <td>0</td>\n",
              "      <td>0</td>\n",
              "      <td>0</td>\n",
              "      <td>D</td>\n",
              "      <td>D</td>\n",
              "      <td>0</td>\n",
              "      <td>No Deposit</td>\n",
              "      <td>9.0</td>\n",
              "      <td>NaN</td>\n",
              "      <td>0</td>\n",
              "      <td>Transient</td>\n",
              "      <td>157.71</td>\n",
              "      <td>0</td>\n",
              "      <td>4</td>\n",
              "      <td>Check-Out</td>\n",
              "      <td>2017-09-07</td>\n",
              "      <td>2.0</td>\n",
              "      <td>7</td>\n",
              "    </tr>\n",
              "    <tr>\n",
              "      <th>119388</th>\n",
              "      <td>City Hotel</td>\n",
              "      <td>0</td>\n",
              "      <td>109</td>\n",
              "      <td>2017</td>\n",
              "      <td>August</td>\n",
              "      <td>35</td>\n",
              "      <td>31</td>\n",
              "      <td>2</td>\n",
              "      <td>5</td>\n",
              "      <td>2</td>\n",
              "      <td>0.0</td>\n",
              "      <td>0</td>\n",
              "      <td>BB</td>\n",
              "      <td>GBR</td>\n",
              "      <td>Online TA</td>\n",
              "      <td>TA/TO</td>\n",
              "      <td>0</td>\n",
              "      <td>0</td>\n",
              "      <td>0</td>\n",
              "      <td>A</td>\n",
              "      <td>A</td>\n",
              "      <td>0</td>\n",
              "      <td>No Deposit</td>\n",
              "      <td>89.0</td>\n",
              "      <td>NaN</td>\n",
              "      <td>0</td>\n",
              "      <td>Transient</td>\n",
              "      <td>104.40</td>\n",
              "      <td>0</td>\n",
              "      <td>0</td>\n",
              "      <td>Check-Out</td>\n",
              "      <td>2017-09-07</td>\n",
              "      <td>2.0</td>\n",
              "      <td>7</td>\n",
              "    </tr>\n",
              "    <tr>\n",
              "      <th>119389</th>\n",
              "      <td>City Hotel</td>\n",
              "      <td>0</td>\n",
              "      <td>205</td>\n",
              "      <td>2017</td>\n",
              "      <td>August</td>\n",
              "      <td>35</td>\n",
              "      <td>29</td>\n",
              "      <td>2</td>\n",
              "      <td>7</td>\n",
              "      <td>2</td>\n",
              "      <td>0.0</td>\n",
              "      <td>0</td>\n",
              "      <td>HB</td>\n",
              "      <td>DEU</td>\n",
              "      <td>Online TA</td>\n",
              "      <td>TA/TO</td>\n",
              "      <td>0</td>\n",
              "      <td>0</td>\n",
              "      <td>0</td>\n",
              "      <td>A</td>\n",
              "      <td>A</td>\n",
              "      <td>0</td>\n",
              "      <td>No Deposit</td>\n",
              "      <td>9.0</td>\n",
              "      <td>NaN</td>\n",
              "      <td>0</td>\n",
              "      <td>Transient</td>\n",
              "      <td>151.20</td>\n",
              "      <td>0</td>\n",
              "      <td>2</td>\n",
              "      <td>Check-Out</td>\n",
              "      <td>2017-09-07</td>\n",
              "      <td>2.0</td>\n",
              "      <td>9</td>\n",
              "    </tr>\n",
              "  </tbody>\n",
              "</table>\n",
              "<p>75166 rows × 34 columns</p>\n",
              "</div>"
            ],
            "text/plain": [
              "               hotel  is_canceled  ...  total_members  total_nights\n",
              "0       Resort Hotel            0  ...            2.0             0\n",
              "1       Resort Hotel            0  ...            2.0             0\n",
              "2       Resort Hotel            0  ...            1.0             1\n",
              "3       Resort Hotel            0  ...            1.0             1\n",
              "4       Resort Hotel            0  ...            2.0             2\n",
              "...              ...          ...  ...            ...           ...\n",
              "119385    City Hotel            0  ...            2.0             7\n",
              "119386    City Hotel            0  ...            3.0             7\n",
              "119387    City Hotel            0  ...            2.0             7\n",
              "119388    City Hotel            0  ...            2.0             7\n",
              "119389    City Hotel            0  ...            2.0             9\n",
              "\n",
              "[75166 rows x 34 columns]"
            ]
          },
          "metadata": {
            "tags": []
          },
          "execution_count": 134
        }
      ]
    },
    {
      "cell_type": "code",
      "metadata": {
        "id": "uXnKKQYkz9yv",
        "outputId": "40b8d084-3603-4eec-eed7-5f11bdb1a12e",
        "colab": {
          "base_uri": "https://localhost:8080/"
        }
      },
      "source": [
        "#Fill NaNS with the most repeated country\n",
        "df['country'].fillna(df['country'].mode())"
      ],
      "execution_count": 24,
      "outputs": [
        {
          "output_type": "execute_result",
          "data": {
            "text/plain": [
              "0         PRT\n",
              "1         PRT\n",
              "2         GBR\n",
              "3         GBR\n",
              "4         GBR\n",
              "         ... \n",
              "119385    BEL\n",
              "119386    FRA\n",
              "119387    DEU\n",
              "119388    GBR\n",
              "119389    DEU\n",
              "Name: country, Length: 119390, dtype: object"
            ]
          },
          "metadata": {
            "tags": []
          },
          "execution_count": 24
        }
      ]
    },
    {
      "cell_type": "code",
      "metadata": {
        "id": "zB3j1jwfviGQ",
        "outputId": "33580def-3d1b-4b1a-ee0e-ef8a6767517c",
        "colab": {
          "base_uri": "https://localhost:8080/"
        }
      },
      "source": [
        "##Types of meals##\n",
        "df['meal'].unique()  "
      ],
      "execution_count": 8,
      "outputs": [
        {
          "output_type": "execute_result",
          "data": {
            "text/plain": [
              "array(['BB', 'FB', 'HB', 'SC', 'Undefined'], dtype=object)"
            ]
          },
          "metadata": {
            "tags": []
          },
          "execution_count": 8
        }
      ]
    },
    {
      "cell_type": "code",
      "metadata": {
        "id": "a6Kw93epviVM",
        "outputId": "56029f3b-fb40-4c40-99d1-c4c3be4459af",
        "colab": {
          "base_uri": "https://localhost:8080/"
        }
      },
      "source": [
        "##Different market segments##\n",
        "df['market_segment'].unique()"
      ],
      "execution_count": 9,
      "outputs": [
        {
          "output_type": "execute_result",
          "data": {
            "text/plain": [
              "array(['Direct', 'Corporate', 'Online TA', 'Offline TA/TO',\n",
              "       'Complementary', 'Groups', 'Undefined', 'Aviation'], dtype=object)"
            ]
          },
          "metadata": {
            "tags": []
          },
          "execution_count": 9
        }
      ]
    },
    {
      "cell_type": "code",
      "metadata": {
        "id": "vyAsuSStwivd",
        "outputId": "e048cb25-33f0-4542-c841-450e871c2d97",
        "colab": {
          "base_uri": "https://localhost:8080/"
        }
      },
      "source": [
        "##Different distribution channels##\n",
        "df['distribution_channel'].unique()"
      ],
      "execution_count": 10,
      "outputs": [
        {
          "output_type": "execute_result",
          "data": {
            "text/plain": [
              "array(['Direct', 'Corporate', 'TA/TO', 'Undefined', 'GDS'], dtype=object)"
            ]
          },
          "metadata": {
            "tags": []
          },
          "execution_count": 10
        }
      ]
    },
    {
      "cell_type": "code",
      "metadata": {
        "id": "YyLQoRQ5wsHK",
        "outputId": "91c51fec-8511-42c5-912f-600baee07c5d",
        "colab": {
          "base_uri": "https://localhost:8080/"
        }
      },
      "source": [
        "##Values of repeated guests##\n",
        "df['is_repeated_guest'].unique()"
      ],
      "execution_count": 11,
      "outputs": [
        {
          "output_type": "execute_result",
          "data": {
            "text/plain": [
              "array([0, 1])"
            ]
          },
          "metadata": {
            "tags": []
          },
          "execution_count": 11
        }
      ]
    },
    {
      "cell_type": "code",
      "metadata": {
        "id": "BpzdPf2lwxf3",
        "outputId": "0b8f083a-7f94-4e7f-b868-414d9b8eb20f",
        "colab": {
          "base_uri": "https://localhost:8080/",
          "height": 549
        }
      },
      "source": [
        "df.head(10)"
      ],
      "execution_count": 44,
      "outputs": [
        {
          "output_type": "execute_result",
          "data": {
            "text/html": [
              "<div>\n",
              "<style scoped>\n",
              "    .dataframe tbody tr th:only-of-type {\n",
              "        vertical-align: middle;\n",
              "    }\n",
              "\n",
              "    .dataframe tbody tr th {\n",
              "        vertical-align: top;\n",
              "    }\n",
              "\n",
              "    .dataframe thead th {\n",
              "        text-align: right;\n",
              "    }\n",
              "</style>\n",
              "<table border=\"1\" class=\"dataframe\">\n",
              "  <thead>\n",
              "    <tr style=\"text-align: right;\">\n",
              "      <th></th>\n",
              "      <th>hotel</th>\n",
              "      <th>is_canceled</th>\n",
              "      <th>lead_time</th>\n",
              "      <th>arrival_date_year</th>\n",
              "      <th>arrival_date_month</th>\n",
              "      <th>arrival_date_week_number</th>\n",
              "      <th>arrival_date_day_of_month</th>\n",
              "      <th>stays_in_weekend_nights</th>\n",
              "      <th>stays_in_week_nights</th>\n",
              "      <th>adults</th>\n",
              "      <th>children</th>\n",
              "      <th>babies</th>\n",
              "      <th>meal</th>\n",
              "      <th>country</th>\n",
              "      <th>market_segment</th>\n",
              "      <th>distribution_channel</th>\n",
              "      <th>is_repeated_guest</th>\n",
              "      <th>previous_cancellations</th>\n",
              "      <th>previous_bookings_not_canceled</th>\n",
              "      <th>reserved_room_type</th>\n",
              "      <th>assigned_room_type</th>\n",
              "      <th>booking_changes</th>\n",
              "      <th>deposit_type</th>\n",
              "      <th>agent</th>\n",
              "      <th>company</th>\n",
              "      <th>days_in_waiting_list</th>\n",
              "      <th>customer_type</th>\n",
              "      <th>adr</th>\n",
              "      <th>required_car_parking_spaces</th>\n",
              "      <th>total_of_special_requests</th>\n",
              "      <th>reservation_status</th>\n",
              "      <th>reservation_status_date</th>\n",
              "    </tr>\n",
              "  </thead>\n",
              "  <tbody>\n",
              "    <tr>\n",
              "      <th>0</th>\n",
              "      <td>Resort Hotel</td>\n",
              "      <td>0</td>\n",
              "      <td>342</td>\n",
              "      <td>2015</td>\n",
              "      <td>July</td>\n",
              "      <td>27</td>\n",
              "      <td>1</td>\n",
              "      <td>0</td>\n",
              "      <td>0</td>\n",
              "      <td>2</td>\n",
              "      <td>0.0</td>\n",
              "      <td>0</td>\n",
              "      <td>BB</td>\n",
              "      <td>PRT</td>\n",
              "      <td>Direct</td>\n",
              "      <td>Direct</td>\n",
              "      <td>0</td>\n",
              "      <td>0</td>\n",
              "      <td>0</td>\n",
              "      <td>C</td>\n",
              "      <td>C</td>\n",
              "      <td>3</td>\n",
              "      <td>No Deposit</td>\n",
              "      <td>NaN</td>\n",
              "      <td>NaN</td>\n",
              "      <td>0</td>\n",
              "      <td>Transient</td>\n",
              "      <td>0.0</td>\n",
              "      <td>0</td>\n",
              "      <td>0</td>\n",
              "      <td>Check-Out</td>\n",
              "      <td>2015-07-01</td>\n",
              "    </tr>\n",
              "    <tr>\n",
              "      <th>1</th>\n",
              "      <td>Resort Hotel</td>\n",
              "      <td>0</td>\n",
              "      <td>737</td>\n",
              "      <td>2015</td>\n",
              "      <td>July</td>\n",
              "      <td>27</td>\n",
              "      <td>1</td>\n",
              "      <td>0</td>\n",
              "      <td>0</td>\n",
              "      <td>2</td>\n",
              "      <td>0.0</td>\n",
              "      <td>0</td>\n",
              "      <td>BB</td>\n",
              "      <td>PRT</td>\n",
              "      <td>Direct</td>\n",
              "      <td>Direct</td>\n",
              "      <td>0</td>\n",
              "      <td>0</td>\n",
              "      <td>0</td>\n",
              "      <td>C</td>\n",
              "      <td>C</td>\n",
              "      <td>4</td>\n",
              "      <td>No Deposit</td>\n",
              "      <td>NaN</td>\n",
              "      <td>NaN</td>\n",
              "      <td>0</td>\n",
              "      <td>Transient</td>\n",
              "      <td>0.0</td>\n",
              "      <td>0</td>\n",
              "      <td>0</td>\n",
              "      <td>Check-Out</td>\n",
              "      <td>2015-07-01</td>\n",
              "    </tr>\n",
              "    <tr>\n",
              "      <th>2</th>\n",
              "      <td>Resort Hotel</td>\n",
              "      <td>0</td>\n",
              "      <td>7</td>\n",
              "      <td>2015</td>\n",
              "      <td>July</td>\n",
              "      <td>27</td>\n",
              "      <td>1</td>\n",
              "      <td>0</td>\n",
              "      <td>1</td>\n",
              "      <td>1</td>\n",
              "      <td>0.0</td>\n",
              "      <td>0</td>\n",
              "      <td>BB</td>\n",
              "      <td>GBR</td>\n",
              "      <td>Direct</td>\n",
              "      <td>Direct</td>\n",
              "      <td>0</td>\n",
              "      <td>0</td>\n",
              "      <td>0</td>\n",
              "      <td>A</td>\n",
              "      <td>C</td>\n",
              "      <td>0</td>\n",
              "      <td>No Deposit</td>\n",
              "      <td>NaN</td>\n",
              "      <td>NaN</td>\n",
              "      <td>0</td>\n",
              "      <td>Transient</td>\n",
              "      <td>75.0</td>\n",
              "      <td>0</td>\n",
              "      <td>0</td>\n",
              "      <td>Check-Out</td>\n",
              "      <td>2015-07-02</td>\n",
              "    </tr>\n",
              "    <tr>\n",
              "      <th>3</th>\n",
              "      <td>Resort Hotel</td>\n",
              "      <td>0</td>\n",
              "      <td>13</td>\n",
              "      <td>2015</td>\n",
              "      <td>July</td>\n",
              "      <td>27</td>\n",
              "      <td>1</td>\n",
              "      <td>0</td>\n",
              "      <td>1</td>\n",
              "      <td>1</td>\n",
              "      <td>0.0</td>\n",
              "      <td>0</td>\n",
              "      <td>BB</td>\n",
              "      <td>GBR</td>\n",
              "      <td>Corporate</td>\n",
              "      <td>Corporate</td>\n",
              "      <td>0</td>\n",
              "      <td>0</td>\n",
              "      <td>0</td>\n",
              "      <td>A</td>\n",
              "      <td>A</td>\n",
              "      <td>0</td>\n",
              "      <td>No Deposit</td>\n",
              "      <td>304.0</td>\n",
              "      <td>NaN</td>\n",
              "      <td>0</td>\n",
              "      <td>Transient</td>\n",
              "      <td>75.0</td>\n",
              "      <td>0</td>\n",
              "      <td>0</td>\n",
              "      <td>Check-Out</td>\n",
              "      <td>2015-07-02</td>\n",
              "    </tr>\n",
              "    <tr>\n",
              "      <th>4</th>\n",
              "      <td>Resort Hotel</td>\n",
              "      <td>0</td>\n",
              "      <td>14</td>\n",
              "      <td>2015</td>\n",
              "      <td>July</td>\n",
              "      <td>27</td>\n",
              "      <td>1</td>\n",
              "      <td>0</td>\n",
              "      <td>2</td>\n",
              "      <td>2</td>\n",
              "      <td>0.0</td>\n",
              "      <td>0</td>\n",
              "      <td>BB</td>\n",
              "      <td>GBR</td>\n",
              "      <td>Online TA</td>\n",
              "      <td>TA/TO</td>\n",
              "      <td>0</td>\n",
              "      <td>0</td>\n",
              "      <td>0</td>\n",
              "      <td>A</td>\n",
              "      <td>A</td>\n",
              "      <td>0</td>\n",
              "      <td>No Deposit</td>\n",
              "      <td>240.0</td>\n",
              "      <td>NaN</td>\n",
              "      <td>0</td>\n",
              "      <td>Transient</td>\n",
              "      <td>98.0</td>\n",
              "      <td>0</td>\n",
              "      <td>1</td>\n",
              "      <td>Check-Out</td>\n",
              "      <td>2015-07-03</td>\n",
              "    </tr>\n",
              "    <tr>\n",
              "      <th>5</th>\n",
              "      <td>Resort Hotel</td>\n",
              "      <td>0</td>\n",
              "      <td>14</td>\n",
              "      <td>2015</td>\n",
              "      <td>July</td>\n",
              "      <td>27</td>\n",
              "      <td>1</td>\n",
              "      <td>0</td>\n",
              "      <td>2</td>\n",
              "      <td>2</td>\n",
              "      <td>0.0</td>\n",
              "      <td>0</td>\n",
              "      <td>BB</td>\n",
              "      <td>GBR</td>\n",
              "      <td>Online TA</td>\n",
              "      <td>TA/TO</td>\n",
              "      <td>0</td>\n",
              "      <td>0</td>\n",
              "      <td>0</td>\n",
              "      <td>A</td>\n",
              "      <td>A</td>\n",
              "      <td>0</td>\n",
              "      <td>No Deposit</td>\n",
              "      <td>240.0</td>\n",
              "      <td>NaN</td>\n",
              "      <td>0</td>\n",
              "      <td>Transient</td>\n",
              "      <td>98.0</td>\n",
              "      <td>0</td>\n",
              "      <td>1</td>\n",
              "      <td>Check-Out</td>\n",
              "      <td>2015-07-03</td>\n",
              "    </tr>\n",
              "    <tr>\n",
              "      <th>6</th>\n",
              "      <td>Resort Hotel</td>\n",
              "      <td>0</td>\n",
              "      <td>0</td>\n",
              "      <td>2015</td>\n",
              "      <td>July</td>\n",
              "      <td>27</td>\n",
              "      <td>1</td>\n",
              "      <td>0</td>\n",
              "      <td>2</td>\n",
              "      <td>2</td>\n",
              "      <td>0.0</td>\n",
              "      <td>0</td>\n",
              "      <td>BB</td>\n",
              "      <td>PRT</td>\n",
              "      <td>Direct</td>\n",
              "      <td>Direct</td>\n",
              "      <td>0</td>\n",
              "      <td>0</td>\n",
              "      <td>0</td>\n",
              "      <td>C</td>\n",
              "      <td>C</td>\n",
              "      <td>0</td>\n",
              "      <td>No Deposit</td>\n",
              "      <td>NaN</td>\n",
              "      <td>NaN</td>\n",
              "      <td>0</td>\n",
              "      <td>Transient</td>\n",
              "      <td>107.0</td>\n",
              "      <td>0</td>\n",
              "      <td>0</td>\n",
              "      <td>Check-Out</td>\n",
              "      <td>2015-07-03</td>\n",
              "    </tr>\n",
              "    <tr>\n",
              "      <th>7</th>\n",
              "      <td>Resort Hotel</td>\n",
              "      <td>0</td>\n",
              "      <td>9</td>\n",
              "      <td>2015</td>\n",
              "      <td>July</td>\n",
              "      <td>27</td>\n",
              "      <td>1</td>\n",
              "      <td>0</td>\n",
              "      <td>2</td>\n",
              "      <td>2</td>\n",
              "      <td>0.0</td>\n",
              "      <td>0</td>\n",
              "      <td>FB</td>\n",
              "      <td>PRT</td>\n",
              "      <td>Direct</td>\n",
              "      <td>Direct</td>\n",
              "      <td>0</td>\n",
              "      <td>0</td>\n",
              "      <td>0</td>\n",
              "      <td>C</td>\n",
              "      <td>C</td>\n",
              "      <td>0</td>\n",
              "      <td>No Deposit</td>\n",
              "      <td>303.0</td>\n",
              "      <td>NaN</td>\n",
              "      <td>0</td>\n",
              "      <td>Transient</td>\n",
              "      <td>103.0</td>\n",
              "      <td>0</td>\n",
              "      <td>1</td>\n",
              "      <td>Check-Out</td>\n",
              "      <td>2015-07-03</td>\n",
              "    </tr>\n",
              "    <tr>\n",
              "      <th>8</th>\n",
              "      <td>Resort Hotel</td>\n",
              "      <td>1</td>\n",
              "      <td>85</td>\n",
              "      <td>2015</td>\n",
              "      <td>July</td>\n",
              "      <td>27</td>\n",
              "      <td>1</td>\n",
              "      <td>0</td>\n",
              "      <td>3</td>\n",
              "      <td>2</td>\n",
              "      <td>0.0</td>\n",
              "      <td>0</td>\n",
              "      <td>BB</td>\n",
              "      <td>PRT</td>\n",
              "      <td>Online TA</td>\n",
              "      <td>TA/TO</td>\n",
              "      <td>0</td>\n",
              "      <td>0</td>\n",
              "      <td>0</td>\n",
              "      <td>A</td>\n",
              "      <td>A</td>\n",
              "      <td>0</td>\n",
              "      <td>No Deposit</td>\n",
              "      <td>240.0</td>\n",
              "      <td>NaN</td>\n",
              "      <td>0</td>\n",
              "      <td>Transient</td>\n",
              "      <td>82.0</td>\n",
              "      <td>0</td>\n",
              "      <td>1</td>\n",
              "      <td>Canceled</td>\n",
              "      <td>2015-05-06</td>\n",
              "    </tr>\n",
              "    <tr>\n",
              "      <th>9</th>\n",
              "      <td>Resort Hotel</td>\n",
              "      <td>1</td>\n",
              "      <td>75</td>\n",
              "      <td>2015</td>\n",
              "      <td>July</td>\n",
              "      <td>27</td>\n",
              "      <td>1</td>\n",
              "      <td>0</td>\n",
              "      <td>3</td>\n",
              "      <td>2</td>\n",
              "      <td>0.0</td>\n",
              "      <td>0</td>\n",
              "      <td>HB</td>\n",
              "      <td>PRT</td>\n",
              "      <td>Offline TA/TO</td>\n",
              "      <td>TA/TO</td>\n",
              "      <td>0</td>\n",
              "      <td>0</td>\n",
              "      <td>0</td>\n",
              "      <td>D</td>\n",
              "      <td>D</td>\n",
              "      <td>0</td>\n",
              "      <td>No Deposit</td>\n",
              "      <td>15.0</td>\n",
              "      <td>NaN</td>\n",
              "      <td>0</td>\n",
              "      <td>Transient</td>\n",
              "      <td>105.5</td>\n",
              "      <td>0</td>\n",
              "      <td>0</td>\n",
              "      <td>Canceled</td>\n",
              "      <td>2015-04-22</td>\n",
              "    </tr>\n",
              "  </tbody>\n",
              "</table>\n",
              "</div>"
            ],
            "text/plain": [
              "          hotel  is_canceled  ...  reservation_status  reservation_status_date\n",
              "0  Resort Hotel            0  ...           Check-Out               2015-07-01\n",
              "1  Resort Hotel            0  ...           Check-Out               2015-07-01\n",
              "2  Resort Hotel            0  ...           Check-Out               2015-07-02\n",
              "3  Resort Hotel            0  ...           Check-Out               2015-07-02\n",
              "4  Resort Hotel            0  ...           Check-Out               2015-07-03\n",
              "5  Resort Hotel            0  ...           Check-Out               2015-07-03\n",
              "6  Resort Hotel            0  ...           Check-Out               2015-07-03\n",
              "7  Resort Hotel            0  ...           Check-Out               2015-07-03\n",
              "8  Resort Hotel            1  ...            Canceled               2015-05-06\n",
              "9  Resort Hotel            1  ...            Canceled               2015-04-22\n",
              "\n",
              "[10 rows x 32 columns]"
            ]
          },
          "metadata": {
            "tags": []
          },
          "execution_count": 44
        }
      ]
    },
    {
      "cell_type": "code",
      "metadata": {
        "id": "iDWN4r77wzNI",
        "outputId": "747000c9-eb95-4e1c-8587-ea2aa94b66c8",
        "colab": {
          "base_uri": "https://localhost:8080/"
        }
      },
      "source": [
        "##Different types of rooms##\n",
        "df['assigned_room_type'].unique()"
      ],
      "execution_count": 13,
      "outputs": [
        {
          "output_type": "execute_result",
          "data": {
            "text/plain": [
              "array(['C', 'A', 'D', 'E', 'G', 'F', 'I', 'B', 'H', 'P', 'L', 'K'],\n",
              "      dtype=object)"
            ]
          },
          "metadata": {
            "tags": []
          },
          "execution_count": 13
        }
      ]
    },
    {
      "cell_type": "code",
      "metadata": {
        "id": "ZYGVhsx90N2u",
        "outputId": "3b7fbc74-09f8-42e8-c079-cef45bf4002d",
        "colab": {
          "base_uri": "https://localhost:8080/",
          "height": 419
        }
      },
      "source": [
        "###Checking for relation between ADR and room types###\n",
        "df[['reserved_room_type','assigned_room_type','adr']] "
      ],
      "execution_count": 14,
      "outputs": [
        {
          "output_type": "execute_result",
          "data": {
            "text/html": [
              "<div>\n",
              "<style scoped>\n",
              "    .dataframe tbody tr th:only-of-type {\n",
              "        vertical-align: middle;\n",
              "    }\n",
              "\n",
              "    .dataframe tbody tr th {\n",
              "        vertical-align: top;\n",
              "    }\n",
              "\n",
              "    .dataframe thead th {\n",
              "        text-align: right;\n",
              "    }\n",
              "</style>\n",
              "<table border=\"1\" class=\"dataframe\">\n",
              "  <thead>\n",
              "    <tr style=\"text-align: right;\">\n",
              "      <th></th>\n",
              "      <th>reserved_room_type</th>\n",
              "      <th>assigned_room_type</th>\n",
              "      <th>adr</th>\n",
              "    </tr>\n",
              "  </thead>\n",
              "  <tbody>\n",
              "    <tr>\n",
              "      <th>0</th>\n",
              "      <td>C</td>\n",
              "      <td>C</td>\n",
              "      <td>0.00</td>\n",
              "    </tr>\n",
              "    <tr>\n",
              "      <th>1</th>\n",
              "      <td>C</td>\n",
              "      <td>C</td>\n",
              "      <td>0.00</td>\n",
              "    </tr>\n",
              "    <tr>\n",
              "      <th>2</th>\n",
              "      <td>A</td>\n",
              "      <td>C</td>\n",
              "      <td>75.00</td>\n",
              "    </tr>\n",
              "    <tr>\n",
              "      <th>3</th>\n",
              "      <td>A</td>\n",
              "      <td>A</td>\n",
              "      <td>75.00</td>\n",
              "    </tr>\n",
              "    <tr>\n",
              "      <th>4</th>\n",
              "      <td>A</td>\n",
              "      <td>A</td>\n",
              "      <td>98.00</td>\n",
              "    </tr>\n",
              "    <tr>\n",
              "      <th>...</th>\n",
              "      <td>...</td>\n",
              "      <td>...</td>\n",
              "      <td>...</td>\n",
              "    </tr>\n",
              "    <tr>\n",
              "      <th>119385</th>\n",
              "      <td>A</td>\n",
              "      <td>A</td>\n",
              "      <td>96.14</td>\n",
              "    </tr>\n",
              "    <tr>\n",
              "      <th>119386</th>\n",
              "      <td>E</td>\n",
              "      <td>E</td>\n",
              "      <td>225.43</td>\n",
              "    </tr>\n",
              "    <tr>\n",
              "      <th>119387</th>\n",
              "      <td>D</td>\n",
              "      <td>D</td>\n",
              "      <td>157.71</td>\n",
              "    </tr>\n",
              "    <tr>\n",
              "      <th>119388</th>\n",
              "      <td>A</td>\n",
              "      <td>A</td>\n",
              "      <td>104.40</td>\n",
              "    </tr>\n",
              "    <tr>\n",
              "      <th>119389</th>\n",
              "      <td>A</td>\n",
              "      <td>A</td>\n",
              "      <td>151.20</td>\n",
              "    </tr>\n",
              "  </tbody>\n",
              "</table>\n",
              "<p>119390 rows × 3 columns</p>\n",
              "</div>"
            ],
            "text/plain": [
              "       reserved_room_type assigned_room_type     adr\n",
              "0                       C                  C    0.00\n",
              "1                       C                  C    0.00\n",
              "2                       A                  C   75.00\n",
              "3                       A                  A   75.00\n",
              "4                       A                  A   98.00\n",
              "...                   ...                ...     ...\n",
              "119385                  A                  A   96.14\n",
              "119386                  E                  E  225.43\n",
              "119387                  D                  D  157.71\n",
              "119388                  A                  A  104.40\n",
              "119389                  A                  A  151.20\n",
              "\n",
              "[119390 rows x 3 columns]"
            ]
          },
          "metadata": {
            "tags": []
          },
          "execution_count": 14
        }
      ]
    },
    {
      "cell_type": "code",
      "metadata": {
        "id": "BxXeIlZx0OVM",
        "outputId": "89b2dc26-cb72-4ef2-af7d-a0f1b83ccc48",
        "colab": {
          "base_uri": "https://localhost:8080/",
          "height": 419
        }
      },
      "source": [
        "###Checking for relation between agents and companies####\n",
        "df[['agent','company','market_segment']]"
      ],
      "execution_count": 15,
      "outputs": [
        {
          "output_type": "execute_result",
          "data": {
            "text/html": [
              "<div>\n",
              "<style scoped>\n",
              "    .dataframe tbody tr th:only-of-type {\n",
              "        vertical-align: middle;\n",
              "    }\n",
              "\n",
              "    .dataframe tbody tr th {\n",
              "        vertical-align: top;\n",
              "    }\n",
              "\n",
              "    .dataframe thead th {\n",
              "        text-align: right;\n",
              "    }\n",
              "</style>\n",
              "<table border=\"1\" class=\"dataframe\">\n",
              "  <thead>\n",
              "    <tr style=\"text-align: right;\">\n",
              "      <th></th>\n",
              "      <th>agent</th>\n",
              "      <th>company</th>\n",
              "      <th>market_segment</th>\n",
              "    </tr>\n",
              "  </thead>\n",
              "  <tbody>\n",
              "    <tr>\n",
              "      <th>0</th>\n",
              "      <td>NaN</td>\n",
              "      <td>NaN</td>\n",
              "      <td>Direct</td>\n",
              "    </tr>\n",
              "    <tr>\n",
              "      <th>1</th>\n",
              "      <td>NaN</td>\n",
              "      <td>NaN</td>\n",
              "      <td>Direct</td>\n",
              "    </tr>\n",
              "    <tr>\n",
              "      <th>2</th>\n",
              "      <td>NaN</td>\n",
              "      <td>NaN</td>\n",
              "      <td>Direct</td>\n",
              "    </tr>\n",
              "    <tr>\n",
              "      <th>3</th>\n",
              "      <td>304.0</td>\n",
              "      <td>NaN</td>\n",
              "      <td>Corporate</td>\n",
              "    </tr>\n",
              "    <tr>\n",
              "      <th>4</th>\n",
              "      <td>240.0</td>\n",
              "      <td>NaN</td>\n",
              "      <td>Online TA</td>\n",
              "    </tr>\n",
              "    <tr>\n",
              "      <th>...</th>\n",
              "      <td>...</td>\n",
              "      <td>...</td>\n",
              "      <td>...</td>\n",
              "    </tr>\n",
              "    <tr>\n",
              "      <th>119385</th>\n",
              "      <td>394.0</td>\n",
              "      <td>NaN</td>\n",
              "      <td>Offline TA/TO</td>\n",
              "    </tr>\n",
              "    <tr>\n",
              "      <th>119386</th>\n",
              "      <td>9.0</td>\n",
              "      <td>NaN</td>\n",
              "      <td>Online TA</td>\n",
              "    </tr>\n",
              "    <tr>\n",
              "      <th>119387</th>\n",
              "      <td>9.0</td>\n",
              "      <td>NaN</td>\n",
              "      <td>Online TA</td>\n",
              "    </tr>\n",
              "    <tr>\n",
              "      <th>119388</th>\n",
              "      <td>89.0</td>\n",
              "      <td>NaN</td>\n",
              "      <td>Online TA</td>\n",
              "    </tr>\n",
              "    <tr>\n",
              "      <th>119389</th>\n",
              "      <td>9.0</td>\n",
              "      <td>NaN</td>\n",
              "      <td>Online TA</td>\n",
              "    </tr>\n",
              "  </tbody>\n",
              "</table>\n",
              "<p>119390 rows × 3 columns</p>\n",
              "</div>"
            ],
            "text/plain": [
              "        agent  company market_segment\n",
              "0         NaN      NaN         Direct\n",
              "1         NaN      NaN         Direct\n",
              "2         NaN      NaN         Direct\n",
              "3       304.0      NaN      Corporate\n",
              "4       240.0      NaN      Online TA\n",
              "...       ...      ...            ...\n",
              "119385  394.0      NaN  Offline TA/TO\n",
              "119386    9.0      NaN      Online TA\n",
              "119387    9.0      NaN      Online TA\n",
              "119388   89.0      NaN      Online TA\n",
              "119389    9.0      NaN      Online TA\n",
              "\n",
              "[119390 rows x 3 columns]"
            ]
          },
          "metadata": {
            "tags": []
          },
          "execution_count": 15
        }
      ]
    },
    {
      "cell_type": "code",
      "metadata": {
        "id": "2iYetcVj0Oen",
        "outputId": "46e7c222-38c3-4cb0-a674-dbd93c2977d5",
        "colab": {
          "base_uri": "https://localhost:8080/",
          "height": 419
        }
      },
      "source": [
        "###Checking for relation between kids and special requests####\n",
        "df[['babies','children','total_of_special_requests']]  "
      ],
      "execution_count": 16,
      "outputs": [
        {
          "output_type": "execute_result",
          "data": {
            "text/html": [
              "<div>\n",
              "<style scoped>\n",
              "    .dataframe tbody tr th:only-of-type {\n",
              "        vertical-align: middle;\n",
              "    }\n",
              "\n",
              "    .dataframe tbody tr th {\n",
              "        vertical-align: top;\n",
              "    }\n",
              "\n",
              "    .dataframe thead th {\n",
              "        text-align: right;\n",
              "    }\n",
              "</style>\n",
              "<table border=\"1\" class=\"dataframe\">\n",
              "  <thead>\n",
              "    <tr style=\"text-align: right;\">\n",
              "      <th></th>\n",
              "      <th>babies</th>\n",
              "      <th>children</th>\n",
              "      <th>total_of_special_requests</th>\n",
              "    </tr>\n",
              "  </thead>\n",
              "  <tbody>\n",
              "    <tr>\n",
              "      <th>0</th>\n",
              "      <td>0</td>\n",
              "      <td>0.0</td>\n",
              "      <td>0</td>\n",
              "    </tr>\n",
              "    <tr>\n",
              "      <th>1</th>\n",
              "      <td>0</td>\n",
              "      <td>0.0</td>\n",
              "      <td>0</td>\n",
              "    </tr>\n",
              "    <tr>\n",
              "      <th>2</th>\n",
              "      <td>0</td>\n",
              "      <td>0.0</td>\n",
              "      <td>0</td>\n",
              "    </tr>\n",
              "    <tr>\n",
              "      <th>3</th>\n",
              "      <td>0</td>\n",
              "      <td>0.0</td>\n",
              "      <td>0</td>\n",
              "    </tr>\n",
              "    <tr>\n",
              "      <th>4</th>\n",
              "      <td>0</td>\n",
              "      <td>0.0</td>\n",
              "      <td>1</td>\n",
              "    </tr>\n",
              "    <tr>\n",
              "      <th>...</th>\n",
              "      <td>...</td>\n",
              "      <td>...</td>\n",
              "      <td>...</td>\n",
              "    </tr>\n",
              "    <tr>\n",
              "      <th>119385</th>\n",
              "      <td>0</td>\n",
              "      <td>0.0</td>\n",
              "      <td>0</td>\n",
              "    </tr>\n",
              "    <tr>\n",
              "      <th>119386</th>\n",
              "      <td>0</td>\n",
              "      <td>0.0</td>\n",
              "      <td>2</td>\n",
              "    </tr>\n",
              "    <tr>\n",
              "      <th>119387</th>\n",
              "      <td>0</td>\n",
              "      <td>0.0</td>\n",
              "      <td>4</td>\n",
              "    </tr>\n",
              "    <tr>\n",
              "      <th>119388</th>\n",
              "      <td>0</td>\n",
              "      <td>0.0</td>\n",
              "      <td>0</td>\n",
              "    </tr>\n",
              "    <tr>\n",
              "      <th>119389</th>\n",
              "      <td>0</td>\n",
              "      <td>0.0</td>\n",
              "      <td>2</td>\n",
              "    </tr>\n",
              "  </tbody>\n",
              "</table>\n",
              "<p>119390 rows × 3 columns</p>\n",
              "</div>"
            ],
            "text/plain": [
              "        babies  children  total_of_special_requests\n",
              "0            0       0.0                          0\n",
              "1            0       0.0                          0\n",
              "2            0       0.0                          0\n",
              "3            0       0.0                          0\n",
              "4            0       0.0                          1\n",
              "...        ...       ...                        ...\n",
              "119385       0       0.0                          0\n",
              "119386       0       0.0                          2\n",
              "119387       0       0.0                          4\n",
              "119388       0       0.0                          0\n",
              "119389       0       0.0                          2\n",
              "\n",
              "[119390 rows x 3 columns]"
            ]
          },
          "metadata": {
            "tags": []
          },
          "execution_count": 16
        }
      ]
    },
    {
      "cell_type": "code",
      "metadata": {
        "id": "ac1zNopj0OoF",
        "outputId": "406a1952-1053-4781-9513-82a347a5bd28",
        "colab": {
          "base_uri": "https://localhost:8080/"
        }
      },
      "source": [
        "df.iloc[119387]"
      ],
      "execution_count": 17,
      "outputs": [
        {
          "output_type": "execute_result",
          "data": {
            "text/plain": [
              "hotel                             City Hotel\n",
              "is_canceled                                0\n",
              "lead_time                                 34\n",
              "arrival_date_year                       2017\n",
              "arrival_date_month                    August\n",
              "arrival_date_week_number                  35\n",
              "arrival_date_day_of_month                 31\n",
              "stays_in_weekend_nights                    2\n",
              "stays_in_week_nights                       5\n",
              "adults                                     2\n",
              "children                                   0\n",
              "babies                                     0\n",
              "meal                                      BB\n",
              "country                                  DEU\n",
              "market_segment                     Online TA\n",
              "distribution_channel                   TA/TO\n",
              "is_repeated_guest                          0\n",
              "previous_cancellations                     0\n",
              "previous_bookings_not_canceled             0\n",
              "reserved_room_type                         D\n",
              "assigned_room_type                         D\n",
              "booking_changes                            0\n",
              "deposit_type                      No Deposit\n",
              "agent                                      9\n",
              "company                                  NaN\n",
              "days_in_waiting_list                       0\n",
              "customer_type                      Transient\n",
              "adr                                   157.71\n",
              "required_car_parking_spaces                0\n",
              "total_of_special_requests                  4\n",
              "reservation_status                 Check-Out\n",
              "reservation_status_date           2017-09-07\n",
              "Name: 119387, dtype: object"
            ]
          },
          "metadata": {
            "tags": []
          },
          "execution_count": 17
        }
      ]
    },
    {
      "cell_type": "code",
      "metadata": {
        "id": "nWoyFHmVxT6n",
        "outputId": "8134c8dc-daef-4afc-cece-869e5ad84122",
        "colab": {
          "base_uri": "https://localhost:8080/"
        }
      },
      "source": [
        "###Checking for null values in the dataframe###\n",
        "df.isnull().sum().sort_values(ascending=False)"
      ],
      "execution_count": 18,
      "outputs": [
        {
          "output_type": "execute_result",
          "data": {
            "text/plain": [
              "company                           112593\n",
              "agent                              16340\n",
              "country                              488\n",
              "children                               4\n",
              "lead_time                              0\n",
              "arrival_date_year                      0\n",
              "arrival_date_month                     0\n",
              "arrival_date_week_number               0\n",
              "is_canceled                            0\n",
              "market_segment                         0\n",
              "arrival_date_day_of_month              0\n",
              "stays_in_weekend_nights                0\n",
              "stays_in_week_nights                   0\n",
              "adults                                 0\n",
              "babies                                 0\n",
              "meal                                   0\n",
              "reservation_status_date                0\n",
              "distribution_channel                   0\n",
              "reservation_status                     0\n",
              "is_repeated_guest                      0\n",
              "previous_cancellations                 0\n",
              "previous_bookings_not_canceled         0\n",
              "reserved_room_type                     0\n",
              "assigned_room_type                     0\n",
              "booking_changes                        0\n",
              "deposit_type                           0\n",
              "days_in_waiting_list                   0\n",
              "customer_type                          0\n",
              "adr                                    0\n",
              "required_car_parking_spaces            0\n",
              "total_of_special_requests              0\n",
              "hotel                                  0\n",
              "dtype: int64"
            ]
          },
          "metadata": {
            "tags": []
          },
          "execution_count": 18
        }
      ]
    },
    {
      "cell_type": "code",
      "metadata": {
        "id": "xpLGCzBRxXlb"
      },
      "source": [
        "#Removal of null values#\n",
        "new_df=df.dropna(subset=['children', 'adults','babies'])\n",
        "new_df1=new_df[new_df.is_canceled==0]"
      ],
      "execution_count": 140,
      "outputs": []
    },
    {
      "cell_type": "code",
      "metadata": {
        "id": "y757_0oqyZI1",
        "outputId": "374b6835-3fa3-49ef-cbd7-7723d23bedd7",
        "colab": {
          "base_uri": "https://localhost:8080/",
          "height": 180
        }
      },
      "source": [
        "#Company has the highest null values. To be removed\n",
        "new_df(drop(['company'],axis=1))"
      ],
      "execution_count": 73,
      "outputs": [
        {
          "output_type": "error",
          "ename": "NameError",
          "evalue": "ignored",
          "traceback": [
            "\u001b[0;31m---------------------------------------------------------------------------\u001b[0m",
            "\u001b[0;31mNameError\u001b[0m                                 Traceback (most recent call last)",
            "\u001b[0;32m<ipython-input-73-ed2504b9300e>\u001b[0m in \u001b[0;36m<module>\u001b[0;34m()\u001b[0m\n\u001b[1;32m      1\u001b[0m \u001b[0;31m#Company has the highest null values. To be removed\u001b[0m\u001b[0;34m\u001b[0m\u001b[0;34m\u001b[0m\u001b[0;34m\u001b[0m\u001b[0m\n\u001b[0;32m----> 2\u001b[0;31m \u001b[0mnew_df\u001b[0m\u001b[0;34m(\u001b[0m\u001b[0mdrop\u001b[0m\u001b[0;34m(\u001b[0m\u001b[0;34m[\u001b[0m\u001b[0;34m'company'\u001b[0m\u001b[0;34m]\u001b[0m\u001b[0;34m,\u001b[0m\u001b[0maxis\u001b[0m\u001b[0;34m=\u001b[0m\u001b[0;36m1\u001b[0m\u001b[0;34m)\u001b[0m\u001b[0;34m)\u001b[0m\u001b[0;34m\u001b[0m\u001b[0;34m\u001b[0m\u001b[0m\n\u001b[0m",
            "\u001b[0;31mNameError\u001b[0m: name 'drop' is not defined"
          ]
        }
      ]
    },
    {
      "cell_type": "code",
      "metadata": {
        "id": "fcInPNuazUiX"
      },
      "source": [
        ""
      ],
      "execution_count": null,
      "outputs": []
    },
    {
      "cell_type": "markdown",
      "metadata": {
        "id": "KoJI9B9nxadL"
      },
      "source": [
        "1. How many bookings were cancelled? and cancellation factor over the years?"
      ]
    },
    {
      "cell_type": "code",
      "metadata": {
        "id": "dRrHDLwfBwzp",
        "outputId": "2fdf1ded-b8bf-45bc-aae0-6760afee563a",
        "colab": {
          "base_uri": "https://localhost:8080/"
        }
      },
      "source": [
        "##Hotel cancellation over two years##\n",
        "grouped=new_df.groupby('arrival_date_year')\n",
        "total_cancelled=grouped['is_canceled'].agg(np.count_nonzero)\n",
        "\n",
        "total_number_of_bookings=grouped['is_canceled'].count()\n",
        "#Total bookings\n",
        "total_number_of_bookings"
      ],
      "execution_count": 33,
      "outputs": [
        {
          "output_type": "execute_result",
          "data": {
            "text/plain": [
              "arrival_date_year\n",
              "2015    21992\n",
              "2016    56707\n",
              "2017    40687\n",
              "Name: is_canceled, dtype: int64"
            ]
          },
          "metadata": {
            "tags": []
          },
          "execution_count": 33
        }
      ]
    },
    {
      "cell_type": "code",
      "metadata": {
        "id": "4HtuV04C3JmB",
        "outputId": "6e4b75b2-246d-4e64-adaf-632d217554fe",
        "colab": {
          "base_uri": "https://localhost:8080/"
        }
      },
      "source": [
        "total_cancelled\n",
        "#Total cancellations"
      ],
      "execution_count": 35,
      "outputs": [
        {
          "output_type": "execute_result",
          "data": {
            "text/plain": [
              "arrival_date_year\n",
              "2015     8138\n",
              "2016    20337\n",
              "2017    15745\n",
              "Name: is_canceled, dtype: int64"
            ]
          },
          "metadata": {
            "tags": []
          },
          "execution_count": 35
        }
      ]
    },
    {
      "cell_type": "code",
      "metadata": {
        "id": "L0ce3MOA_Bx8",
        "outputId": "ec63d29a-5464-438d-cc6e-f1cc948f9e65",
        "colab": {
          "base_uri": "https://localhost:8080/"
        }
      },
      "source": [
        "new_df['arrival_date_year'].unique()"
      ],
      "execution_count": null,
      "outputs": [
        {
          "output_type": "execute_result",
          "data": {
            "text/plain": [
              "array([2015, 2016, 2017])"
            ]
          },
          "metadata": {
            "tags": []
          },
          "execution_count": 39
        }
      ]
    },
    {
      "cell_type": "code",
      "metadata": {
        "id": "YQzXoObtGZtN"
      },
      "source": [
        "sns.set_context('paper')"
      ],
      "execution_count": null,
      "outputs": []
    },
    {
      "cell_type": "code",
      "metadata": {
        "id": "8YDZG2c4G5tH"
      },
      "source": [
        "yr_percent_df = (new_df['arrival_date_year'].value_counts(normalize=True).mul(100).reset_index()).rename(columns ={'index':'Year','arrival_date_year':'booking_percent'})"
      ],
      "execution_count": null,
      "outputs": []
    },
    {
      "cell_type": "code",
      "metadata": {
        "id": "qyyI324FHvyR",
        "outputId": "4e79c2fa-b619-4f88-db51-6dc6419f2dcc",
        "colab": {
          "base_uri": "https://localhost:8080/",
          "height": 142
        }
      },
      "source": [
        "yr_percent_df"
      ],
      "execution_count": null,
      "outputs": [
        {
          "output_type": "execute_result",
          "data": {
            "text/html": [
              "<div>\n",
              "<style scoped>\n",
              "    .dataframe tbody tr th:only-of-type {\n",
              "        vertical-align: middle;\n",
              "    }\n",
              "\n",
              "    .dataframe tbody tr th {\n",
              "        vertical-align: top;\n",
              "    }\n",
              "\n",
              "    .dataframe thead th {\n",
              "        text-align: right;\n",
              "    }\n",
              "</style>\n",
              "<table border=\"1\" class=\"dataframe\">\n",
              "  <thead>\n",
              "    <tr style=\"text-align: right;\">\n",
              "      <th></th>\n",
              "      <th>Year</th>\n",
              "      <th>booking_percent</th>\n",
              "    </tr>\n",
              "  </thead>\n",
              "  <tbody>\n",
              "    <tr>\n",
              "      <th>0</th>\n",
              "      <td>2016</td>\n",
              "      <td>47.498869</td>\n",
              "    </tr>\n",
              "    <tr>\n",
              "      <th>1</th>\n",
              "      <td>2017</td>\n",
              "      <td>34.080210</td>\n",
              "    </tr>\n",
              "    <tr>\n",
              "      <th>2</th>\n",
              "      <td>2015</td>\n",
              "      <td>18.420920</td>\n",
              "    </tr>\n",
              "  </tbody>\n",
              "</table>\n",
              "</div>"
            ],
            "text/plain": [
              "   Year  booking_percent\n",
              "0  2016        47.498869\n",
              "1  2017        34.080210\n",
              "2  2015        18.420920"
            ]
          },
          "metadata": {
            "tags": []
          },
          "execution_count": 53
        }
      ]
    },
    {
      "cell_type": "code",
      "metadata": {
        "id": "W-10w-WsIhGs",
        "outputId": "0e382c7e-8eaf-4270-91fe-fcc7511c0b01",
        "colab": {
          "base_uri": "https://localhost:8080/"
        }
      },
      "source": [
        "new_df.corr().loc['children','total_of_special_requests']"
      ],
      "execution_count": null,
      "outputs": [
        {
          "output_type": "execute_result",
          "data": {
            "text/plain": [
              "0.08174482206809368"
            ]
          },
          "metadata": {
            "tags": []
          },
          "execution_count": 57
        }
      ]
    },
    {
      "cell_type": "code",
      "metadata": {
        "id": "SBpCIF_OP_D4",
        "outputId": "90c57b4c-361a-41a6-c31d-aa6d5567cd6a",
        "colab": {
          "base_uri": "https://localhost:8080/",
          "height": 285
        }
      },
      "source": [
        "ax = sns.barplot(x=\"Year\", y=\"booking_percent\", data=yr_percent_df)"
      ],
      "execution_count": null,
      "outputs": [
        {
          "output_type": "display_data",
          "data": {
            "image/png": "[encoded data removed]",
            "text/plain": [
              "<Figure size 432x288 with 1 Axes>"
            ]
          },
          "metadata": {
            "tags": []
          }
        }
      ]
    },
    {
      "cell_type": "code",
      "metadata": {
        "id": "uGGerShNQinS",
        "outputId": "bb99ed8f-cf4c-4e74-b549-6cfeafe1111c",
        "colab": {
          "base_uri": "https://localhost:8080/"
        }
      },
      "source": [
        "cancel_correlation = df.corr()[\"is_canceled\"]\n",
        "cancel_correlation"
      ],
      "execution_count": 37,
      "outputs": [
        {
          "output_type": "execute_result",
          "data": {
            "text/plain": [
              "is_canceled                       1.000000\n",
              "lead_time                         0.293123\n",
              "arrival_date_year                 0.016660\n",
              "arrival_date_week_number          0.008148\n",
              "arrival_date_day_of_month        -0.006130\n",
              "stays_in_weekend_nights          -0.001791\n",
              "stays_in_week_nights              0.024765\n",
              "adults                            0.060017\n",
              "children                          0.005048\n",
              "babies                           -0.032491\n",
              "is_repeated_guest                -0.084793\n",
              "previous_cancellations            0.110133\n",
              "previous_bookings_not_canceled   -0.057358\n",
              "booking_changes                  -0.144381\n",
              "agent                            -0.083114\n",
              "company                          -0.020642\n",
              "days_in_waiting_list              0.054186\n",
              "adr                               0.047557\n",
              "required_car_parking_spaces      -0.195498\n",
              "total_of_special_requests        -0.234658\n",
              "Name: is_canceled, dtype: float64"
            ]
          },
          "metadata": {
            "tags": []
          },
          "execution_count": 37
        }
      ]
    },
    {
      "cell_type": "markdown",
      "metadata": {
        "id": "PesC1CwfQLw1"
      },
      "source": [
        "3. Correlation between no. of children and special request"
      ]
    },
    {
      "cell_type": "code",
      "metadata": {
        "id": "SXDlILg5QlAb",
        "outputId": "3848a4dd-d2c5-4440-a575-93c95311fbd4",
        "colab": {
          "base_uri": "https://localhost:8080/"
        }
      },
      "source": [
        "new_df.corr().loc['children','total_of_special_requests']"
      ],
      "execution_count": null,
      "outputs": [
        {
          "output_type": "execute_result",
          "data": {
            "text/plain": [
              "0.08174482206809368"
            ]
          },
          "metadata": {
            "tags": []
          },
          "execution_count": 70
        }
      ]
    },
    {
      "cell_type": "code",
      "metadata": {
        "id": "jhpu3mNyIN11",
        "outputId": "9752fc3f-82f3-4a9a-d90c-67f23fd71f9c",
        "colab": {
          "base_uri": "https://localhost:8080/",
          "height": 399
        }
      },
      "source": [
        "sns.relplot(x=\"children\", y=\"total_of_special_requests\", data=new_df)"
      ],
      "execution_count": null,
      "outputs": [
        {
          "output_type": "execute_result",
          "data": {
            "text/plain": [
              "<seaborn.axisgrid.FacetGrid at 0x7fcab7cf48d0>"
            ]
          },
          "metadata": {
            "tags": []
          },
          "execution_count": 56
        },
        {
          "output_type": "display_data",
          "data": {
            "image/png": "[encoded data removed]",
            "text/plain": [
              "<Figure size 360x360 with 1 Axes>"
            ]
          },
          "metadata": {
            "tags": []
          }
        }
      ]
    },
    {
      "cell_type": "code",
      "metadata": {
        "id": "HWgP0uP_Qd0E"
      },
      "source": [
        ""
      ],
      "execution_count": null,
      "outputs": []
    },
    {
      "cell_type": "markdown",
      "metadata": {
        "id": "s4KWWspNQX-3"
      },
      "source": [
        "# 4. From which country most guests are coming?"
      ]
    },
    {
      "cell_type": "code",
      "metadata": {
        "id": "GBe2pFLONeR4",
        "outputId": "144d707c-4ce7-413b-b427-9a72178ab3a1",
        "colab": {
          "base_uri": "https://localhost:8080/",
          "height": 359
        }
      },
      "source": [
        "top10_countries = new_df[new_df['is_canceled']==0]['country'].value_counts()[0:10]\n",
        "top10_countries_new = top10_countries.reset_index().rename(columns = {'index':'country','country':'number_of_bookings'})\n",
        "top10_countries_new"
      ],
      "execution_count": null,
      "outputs": [
        {
          "output_type": "execute_result",
          "data": {
            "text/html": [
              "<div>\n",
              "<style scoped>\n",
              "    .dataframe tbody tr th:only-of-type {\n",
              "        vertical-align: middle;\n",
              "    }\n",
              "\n",
              "    .dataframe tbody tr th {\n",
              "        vertical-align: top;\n",
              "    }\n",
              "\n",
              "    .dataframe thead th {\n",
              "        text-align: right;\n",
              "    }\n",
              "</style>\n",
              "<table border=\"1\" class=\"dataframe\">\n",
              "  <thead>\n",
              "    <tr style=\"text-align: right;\">\n",
              "      <th></th>\n",
              "      <th>country</th>\n",
              "      <th>number_of_bookings</th>\n",
              "    </tr>\n",
              "  </thead>\n",
              "  <tbody>\n",
              "    <tr>\n",
              "      <th>0</th>\n",
              "      <td>PRT</td>\n",
              "      <td>21071</td>\n",
              "    </tr>\n",
              "    <tr>\n",
              "      <th>1</th>\n",
              "      <td>GBR</td>\n",
              "      <td>9676</td>\n",
              "    </tr>\n",
              "    <tr>\n",
              "      <th>2</th>\n",
              "      <td>FRA</td>\n",
              "      <td>8481</td>\n",
              "    </tr>\n",
              "    <tr>\n",
              "      <th>3</th>\n",
              "      <td>ESP</td>\n",
              "      <td>6391</td>\n",
              "    </tr>\n",
              "    <tr>\n",
              "      <th>4</th>\n",
              "      <td>DEU</td>\n",
              "      <td>6069</td>\n",
              "    </tr>\n",
              "    <tr>\n",
              "      <th>5</th>\n",
              "      <td>IRL</td>\n",
              "      <td>2543</td>\n",
              "    </tr>\n",
              "    <tr>\n",
              "      <th>6</th>\n",
              "      <td>ITA</td>\n",
              "      <td>2433</td>\n",
              "    </tr>\n",
              "    <tr>\n",
              "      <th>7</th>\n",
              "      <td>BEL</td>\n",
              "      <td>1868</td>\n",
              "    </tr>\n",
              "    <tr>\n",
              "      <th>8</th>\n",
              "      <td>NLD</td>\n",
              "      <td>1717</td>\n",
              "    </tr>\n",
              "    <tr>\n",
              "      <th>9</th>\n",
              "      <td>USA</td>\n",
              "      <td>1596</td>\n",
              "    </tr>\n",
              "  </tbody>\n",
              "</table>\n",
              "</div>"
            ],
            "text/plain": [
              "  country  number_of_bookings\n",
              "0     PRT               21071\n",
              "1     GBR                9676\n",
              "2     FRA                8481\n",
              "3     ESP                6391\n",
              "4     DEU                6069\n",
              "5     IRL                2543\n",
              "6     ITA                2433\n",
              "7     BEL                1868\n",
              "8     NLD                1717\n",
              "9     USA                1596"
            ]
          },
          "metadata": {
            "tags": []
          },
          "execution_count": 66
        }
      ]
    },
    {
      "cell_type": "code",
      "metadata": {
        "id": "yfF7nnr9OHvB",
        "outputId": "a67cfe05-a054-4682-d9c6-e9336374c640",
        "colab": {
          "base_uri": "https://localhost:8080/",
          "height": 611
        }
      },
      "source": [
        "plt.figure(figsize=(10,10))\n",
        "ax = sns.barplot(x=\"country\", y=\"number_of_bookings\", data=top10_countries_new)"
      ],
      "execution_count": null,
      "outputs": [
        {
          "output_type": "display_data",
          "data": {
            "image/png": "[encoded data removed]",
            "text/plain": [
              "<Figure size 720x720 with 1 Axes>"
            ]
          },
          "metadata": {
            "tags": []
          }
        }
      ]
    },
    {
      "cell_type": "code",
      "metadata": {
        "id": "DGFqxzYiQplo"
      },
      "source": [
        ""
      ],
      "execution_count": null,
      "outputs": []
    },
    {
      "cell_type": "markdown",
      "metadata": {
        "id": "3vgpvdNfQqh-"
      },
      "source": [
        "5. Months with least traffic and break ##Grouped bar##"
      ]
    },
    {
      "cell_type": "code",
      "metadata": {
        "id": "qYXAdGX_RBtM",
        "outputId": "25809d29-5da8-42cc-e01e-0465e295c218",
        "colab": {
          "base_uri": "https://localhost:8080/",
          "height": 359
        }
      },
      "source": [
        "month_df = new_df[new_df['is_canceled']==0]['arrival_date_month'].value_counts()[0:10].reset_index().rename(columns = {'index':'month','arrival_date_month':'number_of_bookings'})\n",
        "month_df"
      ],
      "execution_count": null,
      "outputs": [
        {
          "output_type": "execute_result",
          "data": {
            "text/html": [
              "<div>\n",
              "<style scoped>\n",
              "    .dataframe tbody tr th:only-of-type {\n",
              "        vertical-align: middle;\n",
              "    }\n",
              "\n",
              "    .dataframe tbody tr th {\n",
              "        vertical-align: top;\n",
              "    }\n",
              "\n",
              "    .dataframe thead th {\n",
              "        text-align: right;\n",
              "    }\n",
              "</style>\n",
              "<table border=\"1\" class=\"dataframe\">\n",
              "  <thead>\n",
              "    <tr style=\"text-align: right;\">\n",
              "      <th></th>\n",
              "      <th>month</th>\n",
              "      <th>number_of_bookings</th>\n",
              "    </tr>\n",
              "  </thead>\n",
              "  <tbody>\n",
              "    <tr>\n",
              "      <th>0</th>\n",
              "      <td>August</td>\n",
              "      <td>8638</td>\n",
              "    </tr>\n",
              "    <tr>\n",
              "      <th>1</th>\n",
              "      <td>July</td>\n",
              "      <td>7919</td>\n",
              "    </tr>\n",
              "    <tr>\n",
              "      <th>2</th>\n",
              "      <td>May</td>\n",
              "      <td>7114</td>\n",
              "    </tr>\n",
              "    <tr>\n",
              "      <th>3</th>\n",
              "      <td>October</td>\n",
              "      <td>6914</td>\n",
              "    </tr>\n",
              "    <tr>\n",
              "      <th>4</th>\n",
              "      <td>March</td>\n",
              "      <td>6645</td>\n",
              "    </tr>\n",
              "    <tr>\n",
              "      <th>5</th>\n",
              "      <td>April</td>\n",
              "      <td>6565</td>\n",
              "    </tr>\n",
              "    <tr>\n",
              "      <th>6</th>\n",
              "      <td>June</td>\n",
              "      <td>6404</td>\n",
              "    </tr>\n",
              "    <tr>\n",
              "      <th>7</th>\n",
              "      <td>September</td>\n",
              "      <td>6392</td>\n",
              "    </tr>\n",
              "    <tr>\n",
              "      <th>8</th>\n",
              "      <td>February</td>\n",
              "      <td>5372</td>\n",
              "    </tr>\n",
              "    <tr>\n",
              "      <th>9</th>\n",
              "      <td>November</td>\n",
              "      <td>4672</td>\n",
              "    </tr>\n",
              "  </tbody>\n",
              "</table>\n",
              "</div>"
            ],
            "text/plain": [
              "       month  number_of_bookings\n",
              "0     August                8638\n",
              "1       July                7919\n",
              "2        May                7114\n",
              "3    October                6914\n",
              "4      March                6645\n",
              "5      April                6565\n",
              "6       June                6404\n",
              "7  September                6392\n",
              "8   February                5372\n",
              "9   November                4672"
            ]
          },
          "metadata": {
            "tags": []
          },
          "execution_count": 74
        }
      ]
    },
    {
      "cell_type": "code",
      "metadata": {
        "id": "c8d3e7qQSt8d",
        "outputId": "f29c7a12-14cb-4974-f54a-2d323f64f955",
        "colab": {
          "base_uri": "https://localhost:8080/",
          "height": 611
        }
      },
      "source": [
        "plt.figure(figsize=(10,10))\n",
        "ax = sns.barplot(x=\"month\", y=\"number_of_bookings\", data = month_df)"
      ],
      "execution_count": null,
      "outputs": [
        {
          "output_type": "display_data",
          "data": {
            "image/png": "[encoded data removed]",
            "text/plain": [
              "<Figure size 720x720 with 1 Axes>"
            ]
          },
          "metadata": {
            "tags": []
          }
        }
      ]
    },
    {
      "cell_type": "code",
      "metadata": {
        "id": "F0xAHrhxXlNo",
        "outputId": "b6572cfa-32fa-48e6-be9e-6a426bf52711",
        "colab": {
          "base_uri": "https://localhost:8080/",
          "height": 452
        }
      },
      "source": [
        "month_df_hotel_type = new_df[new_df['is_canceled']==0].groupby(['arrival_date_month','hotel'])['hotel'].count().unstack()\n",
        "month_df_hotel_type"
      ],
      "execution_count": 72,
      "outputs": [
        {
          "output_type": "execute_result",
          "data": {
            "text/html": [
              "<div>\n",
              "<style scoped>\n",
              "    .dataframe tbody tr th:only-of-type {\n",
              "        vertical-align: middle;\n",
              "    }\n",
              "\n",
              "    .dataframe tbody tr th {\n",
              "        vertical-align: top;\n",
              "    }\n",
              "\n",
              "    .dataframe thead th {\n",
              "        text-align: right;\n",
              "    }\n",
              "</style>\n",
              "<table border=\"1\" class=\"dataframe\">\n",
              "  <thead>\n",
              "    <tr style=\"text-align: right;\">\n",
              "      <th>hotel</th>\n",
              "      <th>City Hotel</th>\n",
              "      <th>Resort Hotel</th>\n",
              "    </tr>\n",
              "    <tr>\n",
              "      <th>arrival_date_month</th>\n",
              "      <th></th>\n",
              "      <th></th>\n",
              "    </tr>\n",
              "  </thead>\n",
              "  <tbody>\n",
              "    <tr>\n",
              "      <th>April</th>\n",
              "      <td>4015</td>\n",
              "      <td>2550</td>\n",
              "    </tr>\n",
              "    <tr>\n",
              "      <th>August</th>\n",
              "      <td>5381</td>\n",
              "      <td>3257</td>\n",
              "    </tr>\n",
              "    <tr>\n",
              "      <th>December</th>\n",
              "      <td>2392</td>\n",
              "      <td>2017</td>\n",
              "    </tr>\n",
              "    <tr>\n",
              "      <th>February</th>\n",
              "      <td>3064</td>\n",
              "      <td>2308</td>\n",
              "    </tr>\n",
              "    <tr>\n",
              "      <th>January</th>\n",
              "      <td>2254</td>\n",
              "      <td>1868</td>\n",
              "    </tr>\n",
              "    <tr>\n",
              "      <th>July</th>\n",
              "      <td>4782</td>\n",
              "      <td>3137</td>\n",
              "    </tr>\n",
              "    <tr>\n",
              "      <th>June</th>\n",
              "      <td>4366</td>\n",
              "      <td>2038</td>\n",
              "    </tr>\n",
              "    <tr>\n",
              "      <th>March</th>\n",
              "      <td>4072</td>\n",
              "      <td>2573</td>\n",
              "    </tr>\n",
              "    <tr>\n",
              "      <th>May</th>\n",
              "      <td>4579</td>\n",
              "      <td>2535</td>\n",
              "    </tr>\n",
              "    <tr>\n",
              "      <th>November</th>\n",
              "      <td>2696</td>\n",
              "      <td>1976</td>\n",
              "    </tr>\n",
              "    <tr>\n",
              "      <th>October</th>\n",
              "      <td>4337</td>\n",
              "      <td>2577</td>\n",
              "    </tr>\n",
              "    <tr>\n",
              "      <th>September</th>\n",
              "      <td>4290</td>\n",
              "      <td>2102</td>\n",
              "    </tr>\n",
              "  </tbody>\n",
              "</table>\n",
              "</div>"
            ],
            "text/plain": [
              "hotel               City Hotel  Resort Hotel\n",
              "arrival_date_month                          \n",
              "April                     4015          2550\n",
              "August                    5381          3257\n",
              "December                  2392          2017\n",
              "February                  3064          2308\n",
              "January                   2254          1868\n",
              "July                      4782          3137\n",
              "June                      4366          2038\n",
              "March                     4072          2573\n",
              "May                       4579          2535\n",
              "November                  2696          1976\n",
              "October                   4337          2577\n",
              "September                 4290          2102"
            ]
          },
          "metadata": {
            "tags": []
          },
          "execution_count": 72
        }
      ]
    },
    {
      "cell_type": "code",
      "metadata": {
        "id": "sfUb7vkPX1Uz",
        "outputId": "77afae48-ae31-45d9-a208-19ae72665888",
        "colab": {
          "base_uri": "https://localhost:8080/",
          "height": 651
        }
      },
      "source": [
        "ax = month_df_hotel_type.plot.bar(figsize = (10,10),fontsize = 10)"
      ],
      "execution_count": 74,
      "outputs": [
        {
          "output_type": "display_data",
          "data": {
            "image/png": "[encoded data removed]",
            "text/plain": [
              "<Figure size 720x720 with 1 Axes>"
            ]
          },
          "metadata": {
            "tags": [],
            "needs_background": "light"
          }
        }
      ]
    },
    {
      "cell_type": "code",
      "metadata": {
        "id": "G_9hvUegJIga",
        "outputId": "17cc0ddc-2ea7-4a7d-ff09-b0fe0a4a3bb0",
        "colab": {
          "base_uri": "https://localhost:8080/",
          "height": 393
        }
      },
      "source": [
        "#Distribution of ADR to check for outliers ##Remove cancelled##\n",
        "plt.figure(figsize=(10,5))\n",
        "ax = sns.distplot(new_df['adr'])\n"
      ],
      "execution_count": null,
      "outputs": [
        {
          "output_type": "stream",
          "text": [
            "/usr/local/lib/python3.6/dist-packages/seaborn/distributions.py:2551: FutureWarning: `distplot` is a deprecated function and will be removed in a future version. Please adapt your code to use either `displot` (a figure-level function with similar flexibility) or `histplot` (an axes-level function for histograms).\n",
            "  warnings.warn(msg, FutureWarning)\n"
          ],
          "name": "stderr"
        },
        {
          "output_type": "display_data",
          "data": {
            "image/png": "[encoded data removed]",
            "text/plain": [
              "<Figure size 720x360 with 1 Axes>"
            ]
          },
          "metadata": {
            "tags": []
          }
        }
      ]
    },
    {
      "cell_type": "code",
      "metadata": {
        "id": "TnL3DkFFKNwO"
      },
      "source": [
        "#Calculate IQR and remove the outlier\n",
        "# Computing IQR\n",
        "Q1 = new_df['adr'].quantile(0.25)\n",
        "Q3 = new_df['adr'].quantile(0.75)\n",
        "IQR = Q3 - Q1\n",
        "lower_limit=Q1-(1.5*IQR)\n",
        "higher_limit=Q3+(1.5*IQR)\n",
        "new_df2=new_df[new_df.adr<=higher_limit]\n"
      ],
      "execution_count": null,
      "outputs": []
    },
    {
      "cell_type": "code",
      "metadata": {
        "id": "Izka-lkLOUAs",
        "outputId": "23adaff7-c02d-4f0f-cf3f-13974fa62b6e",
        "colab": {
          "base_uri": "https://localhost:8080/"
        }
      },
      "source": [
        "higher_limit"
      ],
      "execution_count": null,
      "outputs": [
        {
          "output_type": "execute_result",
          "data": {
            "text/plain": [
              "211.065"
            ]
          },
          "metadata": {
            "tags": []
          },
          "execution_count": 73
        }
      ]
    },
    {
      "cell_type": "code",
      "metadata": {
        "id": "a5alY0p5NbsA",
        "outputId": "f3ea7f8c-715e-4249-fb38-4e26f84dba44",
        "colab": {
          "base_uri": "https://localhost:8080/",
          "height": 393
        }
      },
      "source": [
        "plt.figure(figsize=(10,5))\n",
        "ax = sns.distplot(new_df2['adr'])"
      ],
      "execution_count": null,
      "outputs": [
        {
          "output_type": "stream",
          "text": [
            "/usr/local/lib/python3.6/dist-packages/seaborn/distributions.py:2551: FutureWarning: `distplot` is a deprecated function and will be removed in a future version. Please adapt your code to use either `displot` (a figure-level function with similar flexibility) or `histplot` (an axes-level function for histograms).\n",
            "  warnings.warn(msg, FutureWarning)\n"
          ],
          "name": "stderr"
        },
        {
          "output_type": "display_data",
          "data": {
            "image/png": "[encoded data removed]",
            "text/plain": [
              "<Figure size 720x360 with 1 Axes>"
            ]
          },
          "metadata": {
            "tags": []
          }
        }
      ]
    },
    {
      "cell_type": "markdown",
      "metadata": {
        "id": "YeE3tmRmPDw0"
      },
      "source": [
        "Most booked accomodation type\n"
      ]
    },
    {
      "cell_type": "code",
      "metadata": {
        "id": "rTN1EZGxPIRS",
        "outputId": "f2100954-fb10-4e90-c957-33bd3dd9883c",
        "colab": {
          "base_uri": "https://localhost:8080/"
        }
      },
      "source": [
        "type(grouped)"
      ],
      "execution_count": null,
      "outputs": [
        {
          "output_type": "execute_result",
          "data": {
            "text/plain": [
              "pandas.core.groupby.generic.DataFrameGroupBy"
            ]
          },
          "metadata": {
            "tags": []
          },
          "execution_count": 75
        }
      ]
    },
    {
      "cell_type": "code",
      "metadata": {
        "id": "Ie3mKnjuPoGa",
        "outputId": "d098b057-4e3e-41f7-df22-6b7b15ae91e1",
        "colab": {
          "base_uri": "https://localhost:8080/"
        }
      },
      "source": [
        "\n",
        "grouped_acc=new_df.groupby('reserved_room_type')\n",
        "for acc, acc_df in grouped_acc:\n",
        "  print(acc_df)\n",
        "\n",
        "\n"
      ],
      "execution_count": null,
      "outputs": [
        {
          "output_type": "stream",
          "text": [
            "               hotel  is_canceled  ...  reservation_status  reservation_status_date\n",
            "2       Resort Hotel            0  ...           Check-Out               2015-07-02\n",
            "3       Resort Hotel            0  ...           Check-Out               2015-07-02\n",
            "4       Resort Hotel            0  ...           Check-Out               2015-07-03\n",
            "5       Resort Hotel            0  ...           Check-Out               2015-07-03\n",
            "8       Resort Hotel            1  ...            Canceled               2015-05-06\n",
            "...              ...          ...  ...                 ...                      ...\n",
            "119383    City Hotel            0  ...           Check-Out               2017-09-06\n",
            "119384    City Hotel            0  ...           Check-Out               2017-09-06\n",
            "119385    City Hotel            0  ...           Check-Out               2017-09-06\n",
            "119388    City Hotel            0  ...           Check-Out               2017-09-07\n",
            "119389    City Hotel            0  ...           Check-Out               2017-09-07\n",
            "\n",
            "[85994 rows x 32 columns]\n",
            "               hotel  is_canceled  ...  reservation_status  reservation_status_date\n",
            "15796   Resort Hotel            0  ...           Check-Out               2015-08-02\n",
            "35668   Resort Hotel            0  ...           Check-Out               2017-04-29\n",
            "35893   Resort Hotel            0  ...           Check-Out               2017-05-04\n",
            "40110     City Hotel            1  ...            Canceled               2015-07-07\n",
            "40111     City Hotel            1  ...            Canceled               2015-07-07\n",
            "...              ...          ...  ...                 ...                      ...\n",
            "118795    City Hotel            0  ...           Check-Out               2017-08-26\n",
            "119042    City Hotel            0  ...           Check-Out               2017-08-28\n",
            "119044    City Hotel            0  ...           Check-Out               2017-08-28\n",
            "119059    City Hotel            0  ...           Check-Out               2017-08-29\n",
            "119060    City Hotel            0  ...           Check-Out               2017-08-29\n",
            "\n",
            "[1114 rows x 32 columns]\n",
            "               hotel  is_canceled  ...  reservation_status  reservation_status_date\n",
            "0       Resort Hotel            0  ...           Check-Out               2015-07-01\n",
            "1       Resort Hotel            0  ...           Check-Out               2015-07-01\n",
            "6       Resort Hotel            0  ...           Check-Out               2015-07-03\n",
            "7       Resort Hotel            0  ...           Check-Out               2015-07-03\n",
            "55      Resort Hotel            0  ...           Check-Out               2015-07-03\n",
            "...              ...          ...  ...                 ...                      ...\n",
            "99431     City Hotel            0  ...           Check-Out               2016-10-13\n",
            "99432     City Hotel            0  ...           Check-Out               2016-10-15\n",
            "101137    City Hotel            0  ...           Check-Out               2016-11-07\n",
            "111027    City Hotel            0  ...           Check-Out               2017-05-05\n",
            "119278    City Hotel            0  ...           Check-Out               2017-09-01\n",
            "\n",
            "[932 rows x 32 columns]\n",
            "               hotel  is_canceled  ...  reservation_status  reservation_status_date\n",
            "9       Resort Hotel            1  ...            Canceled               2015-04-22\n",
            "11      Resort Hotel            0  ...           Check-Out               2015-07-05\n",
            "12      Resort Hotel            0  ...           Check-Out               2015-07-05\n",
            "15      Resort Hotel            0  ...           Check-Out               2015-07-05\n",
            "23      Resort Hotel            0  ...           Check-Out               2015-07-07\n",
            "...              ...          ...  ...                 ...                      ...\n",
            "119361    City Hotel            0  ...           Check-Out               2017-09-04\n",
            "119363    City Hotel            0  ...           Check-Out               2017-09-04\n",
            "119364    City Hotel            0  ...           Check-Out               2017-09-04\n",
            "119379    City Hotel            0  ...           Check-Out               2017-09-04\n",
            "119387    City Hotel            0  ...           Check-Out               2017-09-07\n",
            "\n",
            "[19201 rows x 32 columns]\n",
            "               hotel  is_canceled  ...  reservation_status  reservation_status_date\n",
            "10      Resort Hotel            1  ...            Canceled               2015-06-23\n",
            "14      Resort Hotel            0  ...           Check-Out               2015-07-05\n",
            "16      Resort Hotel            0  ...           Check-Out               2015-07-05\n",
            "27      Resort Hotel            1  ...            Canceled               2015-05-11\n",
            "32      Resort Hotel            1  ...            Canceled               2015-05-29\n",
            "...              ...          ...  ...                 ...                      ...\n",
            "119314    City Hotel            0  ...           Check-Out               2017-09-03\n",
            "119315    City Hotel            0  ...           Check-Out               2017-09-03\n",
            "119316    City Hotel            0  ...           Check-Out               2017-09-03\n",
            "119376    City Hotel            0  ...           Check-Out               2017-09-04\n",
            "119386    City Hotel            0  ...           Check-Out               2017-09-07\n",
            "\n",
            "[6535 rows x 32 columns]\n",
            "               hotel  is_canceled  ...  reservation_status  reservation_status_date\n",
            "20      Resort Hotel            0  ...           Check-Out               2015-07-06\n",
            "42      Resort Hotel            0  ...           Check-Out               2015-07-07\n",
            "62      Resort Hotel            0  ...           Check-Out               2015-07-05\n",
            "86      Resort Hotel            0  ...           Check-Out               2015-07-17\n",
            "96      Resort Hotel            1  ...            Canceled               2015-05-13\n",
            "...              ...          ...  ...                 ...                      ...\n",
            "119223    City Hotel            0  ...           Check-Out               2017-09-01\n",
            "119247    City Hotel            0  ...           Check-Out               2017-09-01\n",
            "119251    City Hotel            0  ...           Check-Out               2017-09-01\n",
            "119293    City Hotel            0  ...           Check-Out               2017-09-02\n",
            "119319    City Hotel            0  ...           Check-Out               2017-09-03\n",
            "\n",
            "[2897 rows x 32 columns]\n",
            "               hotel  is_canceled  ...  reservation_status  reservation_status_date\n",
            "13      Resort Hotel            0  ...           Check-Out               2015-07-05\n",
            "19      Resort Hotel            0  ...           Check-Out               2015-07-05\n",
            "40      Resort Hotel            1  ...            Canceled               2015-05-18\n",
            "45      Resort Hotel            1  ...            Canceled               2015-06-02\n",
            "58      Resort Hotel            0  ...           Check-Out               2015-07-03\n",
            "...              ...          ...  ...                 ...                      ...\n",
            "119070    City Hotel            0  ...           Check-Out               2017-08-30\n",
            "119126    City Hotel            0  ...           Check-Out               2017-08-30\n",
            "119151    City Hotel            0  ...           Check-Out               2017-08-30\n",
            "119365    City Hotel            0  ...           Check-Out               2017-09-04\n",
            "119382    City Hotel            0  ...           Check-Out               2017-09-05\n",
            "\n",
            "[2094 rows x 32 columns]\n",
            "              hotel  is_canceled  ...  reservation_status  reservation_status_date\n",
            "54     Resort Hotel            0  ...           Check-Out               2015-07-03\n",
            "56     Resort Hotel            0  ...           Check-Out               2015-07-03\n",
            "105    Resort Hotel            1  ...            Canceled               2015-06-09\n",
            "119    Resort Hotel            0  ...           Check-Out               2015-07-05\n",
            "125    Resort Hotel            0  ...           Check-Out               2015-07-05\n",
            "...             ...          ...  ...                 ...                      ...\n",
            "39741  Resort Hotel            0  ...           Check-Out               2017-08-27\n",
            "39761  Resort Hotel            0  ...           Check-Out               2017-08-28\n",
            "39808  Resort Hotel            0  ...           Check-Out               2017-08-29\n",
            "39931  Resort Hotel            0  ...           Check-Out               2017-09-02\n",
            "39960  Resort Hotel            0  ...           Check-Out               2017-09-03\n",
            "\n",
            "[601 rows x 32 columns]\n",
            "              hotel  is_canceled  ...  reservation_status  reservation_status_date\n",
            "354    Resort Hotel            0  ...           Check-Out               2015-07-15\n",
            "504    Resort Hotel            1  ...            Canceled               2015-07-17\n",
            "911    Resort Hotel            0  ...           Check-Out               2015-08-06\n",
            "14381  Resort Hotel            1  ...            Canceled               2015-07-17\n",
            "14570  Resort Hotel            0  ...           Check-Out               2015-07-10\n",
            "15855  Resort Hotel            0  ...           Check-Out               2015-08-05\n",
            "\n",
            "[6 rows x 32 columns]\n",
            "              hotel  is_canceled  ...  reservation_status  reservation_status_date\n",
            "4127   Resort Hotel            1  ...            Canceled               2016-02-15\n",
            "9376   Resort Hotel            1  ...            Canceled               2016-11-21\n",
            "60651    City Hotel            1  ...            Canceled               2016-11-17\n",
            "61244    City Hotel            1  ...            Canceled               2016-12-06\n",
            "61245    City Hotel            1  ...            Canceled               2016-12-06\n",
            "61249    City Hotel            1  ...            Canceled               2016-12-06\n",
            "65907    City Hotel            1  ...            Canceled               2017-04-10\n",
            "65908    City Hotel            1  ...            Canceled               2017-04-10\n",
            "65909    City Hotel            1  ...            Canceled               2017-04-10\n",
            "65910    City Hotel            1  ...            Canceled               2017-04-10\n",
            "72967    City Hotel            1  ...            Canceled               2017-08-11\n",
            "72968    City Hotel            1  ...            Canceled               2017-08-11\n",
            "\n",
            "[12 rows x 32 columns]\n"
          ],
          "name": "stdout"
        }
      ]
    },
    {
      "cell_type": "code",
      "metadata": {
        "id": "1hufCASQUbYJ",
        "outputId": "a0d29562-c25f-41a1-f7e1-461387fbb9e5",
        "colab": {
          "base_uri": "https://localhost:8080/"
        }
      },
      "source": [
        "grouped_acc_count=grouped_acc['reserved_room_type'].count()\n",
        "grouped_acc_count\n",
        "\n",
        "\n"
      ],
      "execution_count": null,
      "outputs": [
        {
          "output_type": "execute_result",
          "data": {
            "text/plain": [
              "reserved_room_type\n",
              "A    85994\n",
              "B     1114\n",
              "C      932\n",
              "D    19201\n",
              "E     6535\n",
              "F     2897\n",
              "G     2094\n",
              "H      601\n",
              "L        6\n",
              "P       12\n",
              "Name: reserved_room_type, dtype: int64"
            ]
          },
          "metadata": {
            "tags": []
          },
          "execution_count": 86
        }
      ]
    },
    {
      "cell_type": "code",
      "metadata": {
        "id": "LZAsiC1BYd_z",
        "outputId": "1ff1ea8d-889b-4593-9dfe-f6fdef8e7d36",
        "colab": {
          "base_uri": "https://localhost:8080/"
        }
      },
      "source": [
        "##Most booked accomodation type (version 2)\n",
        "ind = new_df[new_df['is_canceled']==0][(new_df['adults']==1) & (new_df['children'] == 0) & (new_df['babies'] == 0)]\n",
        "coup = new_df[new_df['is_canceled']==0][(new_df['adults']==2) & (new_df['children'] == 0) & (new_df['babies'] == 0)]\n",
        "fam = new_df[new_df['is_canceled']==0][(new_df['adults'] )+ (new_df['children']) + (new_df['babies'] ) > 2]"
      ],
      "execution_count": 96,
      "outputs": [
        {
          "output_type": "stream",
          "text": [
            "/usr/local/lib/python3.6/dist-packages/ipykernel_launcher.py:2: UserWarning: Boolean Series key will be reindexed to match DataFrame index.\n",
            "  \n",
            "/usr/local/lib/python3.6/dist-packages/ipykernel_launcher.py:3: UserWarning: Boolean Series key will be reindexed to match DataFrame index.\n",
            "  This is separate from the ipykernel package so we can avoid doing imports until\n",
            "/usr/local/lib/python3.6/dist-packages/ipykernel_launcher.py:4: UserWarning: Boolean Series key will be reindexed to match DataFrame index.\n",
            "  after removing the cwd from sys.path.\n"
          ],
          "name": "stderr"
        }
      ]
    },
    {
      "cell_type": "code",
      "metadata": {
        "id": "9JMmSbkHZI54"
      },
      "source": [
        "total_count = new_df[(new_df['is_canceled']==0)].shape[0]"
      ],
      "execution_count": 97,
      "outputs": []
    },
    {
      "cell_type": "code",
      "metadata": {
        "id": "KCvwy_JoZC6A",
        "outputId": "37fe28d6-003f-4b1f-9c86-53282025d3de",
        "colab": {
          "base_uri": "https://localhost:8080/"
        }
      },
      "source": [
        "percentage = [round(len(item)/total_count * 100) for item in [ind,coup,fam]]\n",
        "percentage"
      ],
      "execution_count": 98,
      "outputs": [
        {
          "output_type": "execute_result",
          "data": {
            "text/plain": [
              "[21, 65, 13]"
            ]
          },
          "metadata": {
            "tags": []
          },
          "execution_count": 98
        }
      ]
    },
    {
      "cell_type": "code",
      "metadata": {
        "id": "GxHhYet0ZVaK"
      },
      "source": [
        "types_of_acc = ['individual','couple','family']"
      ],
      "execution_count": 99,
      "outputs": []
    },
    {
      "cell_type": "code",
      "metadata": {
        "id": "lk7YCENtZZ-K",
        "outputId": "3d7f2639-988d-402f-8318-544d84580aad",
        "colab": {
          "base_uri": "https://localhost:8080/"
        }
      },
      "source": [
        "dict(zip(types_of_acc,percentage))"
      ],
      "execution_count": 100,
      "outputs": [
        {
          "output_type": "execute_result",
          "data": {
            "text/plain": [
              "{'couple': 65, 'family': 13, 'individual': 21}"
            ]
          },
          "metadata": {
            "tags": []
          },
          "execution_count": 100
        }
      ]
    },
    {
      "cell_type": "code",
      "metadata": {
        "id": "4aUXvMu6aK0W"
      },
      "source": [
        "acc = pd.DataFrame({'types_of_acc':types_of_accomodation,'percentage':percentage})\n"
      ],
      "execution_count": null,
      "outputs": []
    },
    {
      "cell_type": "code",
      "metadata": {
        "id": "MvSbVkPwZwLF",
        "outputId": "a1b02023-e2be-4c69-c5b5-b837a56cf4a0",
        "colab": {
          "base_uri": "https://localhost:8080/",
          "height": 472
        }
      },
      "source": [
        "family.groupby('arrival_date_month').count()"
      ],
      "execution_count": 102,
      "outputs": [
        {
          "output_type": "execute_result",
          "data": {
            "text/html": [
              "<div>\n",
              "<style scoped>\n",
              "    .dataframe tbody tr th:only-of-type {\n",
              "        vertical-align: middle;\n",
              "    }\n",
              "\n",
              "    .dataframe tbody tr th {\n",
              "        vertical-align: top;\n",
              "    }\n",
              "\n",
              "    .dataframe thead th {\n",
              "        text-align: right;\n",
              "    }\n",
              "</style>\n",
              "<table border=\"1\" class=\"dataframe\">\n",
              "  <thead>\n",
              "    <tr style=\"text-align: right;\">\n",
              "      <th></th>\n",
              "      <th>hotel</th>\n",
              "      <th>is_canceled</th>\n",
              "      <th>lead_time</th>\n",
              "      <th>arrival_date_year</th>\n",
              "      <th>arrival_date_week_number</th>\n",
              "      <th>arrival_date_day_of_month</th>\n",
              "      <th>stays_in_weekend_nights</th>\n",
              "      <th>stays_in_week_nights</th>\n",
              "      <th>adults</th>\n",
              "      <th>children</th>\n",
              "      <th>babies</th>\n",
              "      <th>meal</th>\n",
              "      <th>country</th>\n",
              "      <th>market_segment</th>\n",
              "      <th>distribution_channel</th>\n",
              "      <th>is_repeated_guest</th>\n",
              "      <th>previous_cancellations</th>\n",
              "      <th>previous_bookings_not_canceled</th>\n",
              "      <th>reserved_room_type</th>\n",
              "      <th>assigned_room_type</th>\n",
              "      <th>booking_changes</th>\n",
              "      <th>deposit_type</th>\n",
              "      <th>agent</th>\n",
              "      <th>company</th>\n",
              "      <th>days_in_waiting_list</th>\n",
              "      <th>customer_type</th>\n",
              "      <th>adr</th>\n",
              "      <th>required_car_parking_spaces</th>\n",
              "      <th>total_of_special_requests</th>\n",
              "      <th>reservation_status</th>\n",
              "      <th>reservation_status_date</th>\n",
              "    </tr>\n",
              "    <tr>\n",
              "      <th>arrival_date_month</th>\n",
              "      <th></th>\n",
              "      <th></th>\n",
              "      <th></th>\n",
              "      <th></th>\n",
              "      <th></th>\n",
              "      <th></th>\n",
              "      <th></th>\n",
              "      <th></th>\n",
              "      <th></th>\n",
              "      <th></th>\n",
              "      <th></th>\n",
              "      <th></th>\n",
              "      <th></th>\n",
              "      <th></th>\n",
              "      <th></th>\n",
              "      <th></th>\n",
              "      <th></th>\n",
              "      <th></th>\n",
              "      <th></th>\n",
              "      <th></th>\n",
              "      <th></th>\n",
              "      <th></th>\n",
              "      <th></th>\n",
              "      <th></th>\n",
              "      <th></th>\n",
              "      <th></th>\n",
              "      <th></th>\n",
              "      <th></th>\n",
              "      <th></th>\n",
              "      <th></th>\n",
              "      <th></th>\n",
              "    </tr>\n",
              "  </thead>\n",
              "  <tbody>\n",
              "    <tr>\n",
              "      <th>April</th>\n",
              "      <td>807</td>\n",
              "      <td>807</td>\n",
              "      <td>807</td>\n",
              "      <td>807</td>\n",
              "      <td>807</td>\n",
              "      <td>807</td>\n",
              "      <td>807</td>\n",
              "      <td>807</td>\n",
              "      <td>807</td>\n",
              "      <td>807</td>\n",
              "      <td>807</td>\n",
              "      <td>807</td>\n",
              "      <td>806</td>\n",
              "      <td>807</td>\n",
              "      <td>807</td>\n",
              "      <td>807</td>\n",
              "      <td>807</td>\n",
              "      <td>807</td>\n",
              "      <td>807</td>\n",
              "      <td>807</td>\n",
              "      <td>807</td>\n",
              "      <td>807</td>\n",
              "      <td>737</td>\n",
              "      <td>17</td>\n",
              "      <td>807</td>\n",
              "      <td>807</td>\n",
              "      <td>807</td>\n",
              "      <td>807</td>\n",
              "      <td>807</td>\n",
              "      <td>807</td>\n",
              "      <td>807</td>\n",
              "    </tr>\n",
              "    <tr>\n",
              "      <th>August</th>\n",
              "      <td>2102</td>\n",
              "      <td>2102</td>\n",
              "      <td>2102</td>\n",
              "      <td>2102</td>\n",
              "      <td>2102</td>\n",
              "      <td>2102</td>\n",
              "      <td>2102</td>\n",
              "      <td>2102</td>\n",
              "      <td>2102</td>\n",
              "      <td>2102</td>\n",
              "      <td>2102</td>\n",
              "      <td>2102</td>\n",
              "      <td>2096</td>\n",
              "      <td>2102</td>\n",
              "      <td>2102</td>\n",
              "      <td>2102</td>\n",
              "      <td>2102</td>\n",
              "      <td>2102</td>\n",
              "      <td>2102</td>\n",
              "      <td>2102</td>\n",
              "      <td>2102</td>\n",
              "      <td>2102</td>\n",
              "      <td>1860</td>\n",
              "      <td>11</td>\n",
              "      <td>2102</td>\n",
              "      <td>2102</td>\n",
              "      <td>2102</td>\n",
              "      <td>2102</td>\n",
              "      <td>2102</td>\n",
              "      <td>2102</td>\n",
              "      <td>2102</td>\n",
              "    </tr>\n",
              "    <tr>\n",
              "      <th>December</th>\n",
              "      <td>534</td>\n",
              "      <td>534</td>\n",
              "      <td>534</td>\n",
              "      <td>534</td>\n",
              "      <td>534</td>\n",
              "      <td>534</td>\n",
              "      <td>534</td>\n",
              "      <td>534</td>\n",
              "      <td>534</td>\n",
              "      <td>534</td>\n",
              "      <td>534</td>\n",
              "      <td>534</td>\n",
              "      <td>532</td>\n",
              "      <td>534</td>\n",
              "      <td>534</td>\n",
              "      <td>534</td>\n",
              "      <td>534</td>\n",
              "      <td>534</td>\n",
              "      <td>534</td>\n",
              "      <td>534</td>\n",
              "      <td>534</td>\n",
              "      <td>534</td>\n",
              "      <td>459</td>\n",
              "      <td>8</td>\n",
              "      <td>534</td>\n",
              "      <td>534</td>\n",
              "      <td>534</td>\n",
              "      <td>534</td>\n",
              "      <td>534</td>\n",
              "      <td>534</td>\n",
              "      <td>534</td>\n",
              "    </tr>\n",
              "    <tr>\n",
              "      <th>February</th>\n",
              "      <td>628</td>\n",
              "      <td>628</td>\n",
              "      <td>628</td>\n",
              "      <td>628</td>\n",
              "      <td>628</td>\n",
              "      <td>628</td>\n",
              "      <td>628</td>\n",
              "      <td>628</td>\n",
              "      <td>628</td>\n",
              "      <td>628</td>\n",
              "      <td>628</td>\n",
              "      <td>628</td>\n",
              "      <td>626</td>\n",
              "      <td>628</td>\n",
              "      <td>628</td>\n",
              "      <td>628</td>\n",
              "      <td>628</td>\n",
              "      <td>628</td>\n",
              "      <td>628</td>\n",
              "      <td>628</td>\n",
              "      <td>628</td>\n",
              "      <td>628</td>\n",
              "      <td>564</td>\n",
              "      <td>15</td>\n",
              "      <td>628</td>\n",
              "      <td>628</td>\n",
              "      <td>628</td>\n",
              "      <td>628</td>\n",
              "      <td>628</td>\n",
              "      <td>628</td>\n",
              "      <td>628</td>\n",
              "    </tr>\n",
              "    <tr>\n",
              "      <th>January</th>\n",
              "      <td>331</td>\n",
              "      <td>331</td>\n",
              "      <td>331</td>\n",
              "      <td>331</td>\n",
              "      <td>331</td>\n",
              "      <td>331</td>\n",
              "      <td>331</td>\n",
              "      <td>331</td>\n",
              "      <td>331</td>\n",
              "      <td>331</td>\n",
              "      <td>331</td>\n",
              "      <td>331</td>\n",
              "      <td>331</td>\n",
              "      <td>331</td>\n",
              "      <td>331</td>\n",
              "      <td>331</td>\n",
              "      <td>331</td>\n",
              "      <td>331</td>\n",
              "      <td>331</td>\n",
              "      <td>331</td>\n",
              "      <td>331</td>\n",
              "      <td>331</td>\n",
              "      <td>282</td>\n",
              "      <td>4</td>\n",
              "      <td>331</td>\n",
              "      <td>331</td>\n",
              "      <td>331</td>\n",
              "      <td>331</td>\n",
              "      <td>331</td>\n",
              "      <td>331</td>\n",
              "      <td>331</td>\n",
              "    </tr>\n",
              "    <tr>\n",
              "      <th>July</th>\n",
              "      <td>1844</td>\n",
              "      <td>1844</td>\n",
              "      <td>1844</td>\n",
              "      <td>1844</td>\n",
              "      <td>1844</td>\n",
              "      <td>1844</td>\n",
              "      <td>1844</td>\n",
              "      <td>1844</td>\n",
              "      <td>1844</td>\n",
              "      <td>1844</td>\n",
              "      <td>1844</td>\n",
              "      <td>1844</td>\n",
              "      <td>1841</td>\n",
              "      <td>1844</td>\n",
              "      <td>1844</td>\n",
              "      <td>1844</td>\n",
              "      <td>1844</td>\n",
              "      <td>1844</td>\n",
              "      <td>1844</td>\n",
              "      <td>1844</td>\n",
              "      <td>1844</td>\n",
              "      <td>1844</td>\n",
              "      <td>1701</td>\n",
              "      <td>5</td>\n",
              "      <td>1844</td>\n",
              "      <td>1844</td>\n",
              "      <td>1844</td>\n",
              "      <td>1844</td>\n",
              "      <td>1844</td>\n",
              "      <td>1844</td>\n",
              "      <td>1844</td>\n",
              "    </tr>\n",
              "    <tr>\n",
              "      <th>June</th>\n",
              "      <td>737</td>\n",
              "      <td>737</td>\n",
              "      <td>737</td>\n",
              "      <td>737</td>\n",
              "      <td>737</td>\n",
              "      <td>737</td>\n",
              "      <td>737</td>\n",
              "      <td>737</td>\n",
              "      <td>737</td>\n",
              "      <td>737</td>\n",
              "      <td>737</td>\n",
              "      <td>737</td>\n",
              "      <td>737</td>\n",
              "      <td>737</td>\n",
              "      <td>737</td>\n",
              "      <td>737</td>\n",
              "      <td>737</td>\n",
              "      <td>737</td>\n",
              "      <td>737</td>\n",
              "      <td>737</td>\n",
              "      <td>737</td>\n",
              "      <td>737</td>\n",
              "      <td>682</td>\n",
              "      <td>7</td>\n",
              "      <td>737</td>\n",
              "      <td>737</td>\n",
              "      <td>737</td>\n",
              "      <td>737</td>\n",
              "      <td>737</td>\n",
              "      <td>737</td>\n",
              "      <td>737</td>\n",
              "    </tr>\n",
              "    <tr>\n",
              "      <th>March</th>\n",
              "      <td>607</td>\n",
              "      <td>607</td>\n",
              "      <td>607</td>\n",
              "      <td>607</td>\n",
              "      <td>607</td>\n",
              "      <td>607</td>\n",
              "      <td>607</td>\n",
              "      <td>607</td>\n",
              "      <td>607</td>\n",
              "      <td>607</td>\n",
              "      <td>607</td>\n",
              "      <td>607</td>\n",
              "      <td>607</td>\n",
              "      <td>607</td>\n",
              "      <td>607</td>\n",
              "      <td>607</td>\n",
              "      <td>607</td>\n",
              "      <td>607</td>\n",
              "      <td>607</td>\n",
              "      <td>607</td>\n",
              "      <td>607</td>\n",
              "      <td>607</td>\n",
              "      <td>545</td>\n",
              "      <td>11</td>\n",
              "      <td>607</td>\n",
              "      <td>607</td>\n",
              "      <td>607</td>\n",
              "      <td>607</td>\n",
              "      <td>607</td>\n",
              "      <td>607</td>\n",
              "      <td>607</td>\n",
              "    </tr>\n",
              "    <tr>\n",
              "      <th>May</th>\n",
              "      <td>614</td>\n",
              "      <td>614</td>\n",
              "      <td>614</td>\n",
              "      <td>614</td>\n",
              "      <td>614</td>\n",
              "      <td>614</td>\n",
              "      <td>614</td>\n",
              "      <td>614</td>\n",
              "      <td>614</td>\n",
              "      <td>614</td>\n",
              "      <td>614</td>\n",
              "      <td>614</td>\n",
              "      <td>614</td>\n",
              "      <td>614</td>\n",
              "      <td>614</td>\n",
              "      <td>614</td>\n",
              "      <td>614</td>\n",
              "      <td>614</td>\n",
              "      <td>614</td>\n",
              "      <td>614</td>\n",
              "      <td>614</td>\n",
              "      <td>614</td>\n",
              "      <td>559</td>\n",
              "      <td>14</td>\n",
              "      <td>614</td>\n",
              "      <td>614</td>\n",
              "      <td>614</td>\n",
              "      <td>614</td>\n",
              "      <td>614</td>\n",
              "      <td>614</td>\n",
              "      <td>614</td>\n",
              "    </tr>\n",
              "    <tr>\n",
              "      <th>November</th>\n",
              "      <td>250</td>\n",
              "      <td>250</td>\n",
              "      <td>250</td>\n",
              "      <td>250</td>\n",
              "      <td>250</td>\n",
              "      <td>250</td>\n",
              "      <td>250</td>\n",
              "      <td>250</td>\n",
              "      <td>250</td>\n",
              "      <td>250</td>\n",
              "      <td>250</td>\n",
              "      <td>250</td>\n",
              "      <td>249</td>\n",
              "      <td>250</td>\n",
              "      <td>250</td>\n",
              "      <td>250</td>\n",
              "      <td>250</td>\n",
              "      <td>250</td>\n",
              "      <td>250</td>\n",
              "      <td>250</td>\n",
              "      <td>250</td>\n",
              "      <td>250</td>\n",
              "      <td>205</td>\n",
              "      <td>18</td>\n",
              "      <td>250</td>\n",
              "      <td>250</td>\n",
              "      <td>250</td>\n",
              "      <td>250</td>\n",
              "      <td>250</td>\n",
              "      <td>250</td>\n",
              "      <td>250</td>\n",
              "    </tr>\n",
              "    <tr>\n",
              "      <th>October</th>\n",
              "      <td>556</td>\n",
              "      <td>556</td>\n",
              "      <td>556</td>\n",
              "      <td>556</td>\n",
              "      <td>556</td>\n",
              "      <td>556</td>\n",
              "      <td>556</td>\n",
              "      <td>556</td>\n",
              "      <td>556</td>\n",
              "      <td>556</td>\n",
              "      <td>556</td>\n",
              "      <td>556</td>\n",
              "      <td>556</td>\n",
              "      <td>556</td>\n",
              "      <td>556</td>\n",
              "      <td>556</td>\n",
              "      <td>556</td>\n",
              "      <td>556</td>\n",
              "      <td>556</td>\n",
              "      <td>556</td>\n",
              "      <td>556</td>\n",
              "      <td>556</td>\n",
              "      <td>477</td>\n",
              "      <td>20</td>\n",
              "      <td>556</td>\n",
              "      <td>556</td>\n",
              "      <td>556</td>\n",
              "      <td>556</td>\n",
              "      <td>556</td>\n",
              "      <td>556</td>\n",
              "      <td>556</td>\n",
              "    </tr>\n",
              "    <tr>\n",
              "      <th>September</th>\n",
              "      <td>496</td>\n",
              "      <td>496</td>\n",
              "      <td>496</td>\n",
              "      <td>496</td>\n",
              "      <td>496</td>\n",
              "      <td>496</td>\n",
              "      <td>496</td>\n",
              "      <td>496</td>\n",
              "      <td>496</td>\n",
              "      <td>496</td>\n",
              "      <td>496</td>\n",
              "      <td>496</td>\n",
              "      <td>493</td>\n",
              "      <td>496</td>\n",
              "      <td>496</td>\n",
              "      <td>496</td>\n",
              "      <td>496</td>\n",
              "      <td>496</td>\n",
              "      <td>496</td>\n",
              "      <td>496</td>\n",
              "      <td>496</td>\n",
              "      <td>496</td>\n",
              "      <td>444</td>\n",
              "      <td>3</td>\n",
              "      <td>496</td>\n",
              "      <td>496</td>\n",
              "      <td>496</td>\n",
              "      <td>496</td>\n",
              "      <td>496</td>\n",
              "      <td>496</td>\n",
              "      <td>496</td>\n",
              "    </tr>\n",
              "  </tbody>\n",
              "</table>\n",
              "</div>"
            ],
            "text/plain": [
              "                    hotel  ...  reservation_status_date\n",
              "arrival_date_month         ...                         \n",
              "April                 807  ...                      807\n",
              "August               2102  ...                     2102\n",
              "December              534  ...                      534\n",
              "February              628  ...                      628\n",
              "January               331  ...                      331\n",
              "July                 1844  ...                     1844\n",
              "June                  737  ...                      737\n",
              "March                 607  ...                      607\n",
              "May                   614  ...                      614\n",
              "November              250  ...                      250\n",
              "October               556  ...                      556\n",
              "September             496  ...                      496\n",
              "\n",
              "[12 rows x 31 columns]"
            ]
          },
          "metadata": {
            "tags": []
          },
          "execution_count": 102
        }
      ]
    },
    {
      "cell_type": "code",
      "metadata": {
        "id": "nC1I2psiadLA",
        "outputId": "56da6853-bbe2-48c8-daad-9fef27b2bb00",
        "colab": {
          "base_uri": "https://localhost:8080/",
          "height": 335
        }
      },
      "source": [
        "plt.figure(figsize=(10,5))                                                             # groupby on basis of type of hotels\n",
        "ax = sns.barplot(x=\"types_of_acc\", y=\"percentage\", data = acc)"
      ],
      "execution_count": 105,
      "outputs": [
        {
          "output_type": "display_data",
          "data": {
            "image/png": "[encoded data removed]",
            "text/plain": [
              "<Figure size 720x360 with 1 Axes>"
            ]
          },
          "metadata": {
            "tags": [],
            "needs_background": "light"
          }
        }
      ]
    },
    {
      "cell_type": "code",
      "metadata": {
        "id": "Q9iy6F7X0hA9",
        "outputId": "2f23981a-3cbb-44e5-b877-f65e9142578b",
        "colab": {
          "base_uri": "https://localhost:8080/",
          "height": 383
        }
      },
      "source": [
        "#Does parking have an impact on bookings for resort hotels?\n",
        "new_df.groupby(['hotel'])['required_car_parking_spaces'].sum().plot.pie(radius = 2)\n",
        "plt.show()\n"
      ],
      "execution_count": 30,
      "outputs": [
        {
          "output_type": "display_data",
          "data": {
            "image/png": "[encoded data removed]",
            "text/plain": [
              "<Figure size 432x288 with 1 Axes>"
            ]
          },
          "metadata": {
            "tags": []
          }
        }
      ]
    },
    {
      "cell_type": "code",
      "metadata": {
        "id": "9GEfWXOO4IJL",
        "outputId": "29836276-b225-49e7-a264-7fe1def0667b",
        "colab": {
          "base_uri": "https://localhost:8080/",
          "height": 173
        }
      },
      "source": [
        "#Impact of deposit type on cancellation #####Check how to add condition####\n",
        "deposit_cancel = df.groupby(\"deposit_type\")[\"is_canceled\"].describe()\n",
        "deposit_cancel\n"
      ],
      "execution_count": 47,
      "outputs": [
        {
          "output_type": "execute_result",
          "data": {
            "text/html": [
              "<div>\n",
              "<style scoped>\n",
              "    .dataframe tbody tr th:only-of-type {\n",
              "        vertical-align: middle;\n",
              "    }\n",
              "\n",
              "    .dataframe tbody tr th {\n",
              "        vertical-align: top;\n",
              "    }\n",
              "\n",
              "    .dataframe thead th {\n",
              "        text-align: right;\n",
              "    }\n",
              "</style>\n",
              "<table border=\"1\" class=\"dataframe\">\n",
              "  <thead>\n",
              "    <tr style=\"text-align: right;\">\n",
              "      <th></th>\n",
              "      <th>count</th>\n",
              "      <th>mean</th>\n",
              "      <th>std</th>\n",
              "      <th>min</th>\n",
              "      <th>25%</th>\n",
              "      <th>50%</th>\n",
              "      <th>75%</th>\n",
              "      <th>max</th>\n",
              "    </tr>\n",
              "    <tr>\n",
              "      <th>deposit_type</th>\n",
              "      <th></th>\n",
              "      <th></th>\n",
              "      <th></th>\n",
              "      <th></th>\n",
              "      <th></th>\n",
              "      <th></th>\n",
              "      <th></th>\n",
              "      <th></th>\n",
              "    </tr>\n",
              "  </thead>\n",
              "  <tbody>\n",
              "    <tr>\n",
              "      <th>No Deposit</th>\n",
              "      <td>104641.0</td>\n",
              "      <td>0.283770</td>\n",
              "      <td>0.450829</td>\n",
              "      <td>0.0</td>\n",
              "      <td>0.0</td>\n",
              "      <td>0.0</td>\n",
              "      <td>1.0</td>\n",
              "      <td>1.0</td>\n",
              "    </tr>\n",
              "    <tr>\n",
              "      <th>Non Refund</th>\n",
              "      <td>14587.0</td>\n",
              "      <td>0.993624</td>\n",
              "      <td>0.079595</td>\n",
              "      <td>0.0</td>\n",
              "      <td>1.0</td>\n",
              "      <td>1.0</td>\n",
              "      <td>1.0</td>\n",
              "      <td>1.0</td>\n",
              "    </tr>\n",
              "    <tr>\n",
              "      <th>Refundable</th>\n",
              "      <td>162.0</td>\n",
              "      <td>0.222222</td>\n",
              "      <td>0.417029</td>\n",
              "      <td>0.0</td>\n",
              "      <td>0.0</td>\n",
              "      <td>0.0</td>\n",
              "      <td>0.0</td>\n",
              "      <td>1.0</td>\n",
              "    </tr>\n",
              "  </tbody>\n",
              "</table>\n",
              "</div>"
            ],
            "text/plain": [
              "                 count      mean       std  min  25%  50%  75%  max\n",
              "deposit_type                                                       \n",
              "No Deposit    104641.0  0.283770  0.450829  0.0  0.0  0.0  1.0  1.0\n",
              "Non Refund     14587.0  0.993624  0.079595  0.0  1.0  1.0  1.0  1.0\n",
              "Refundable       162.0  0.222222  0.417029  0.0  0.0  0.0  0.0  1.0"
            ]
          },
          "metadata": {
            "tags": []
          },
          "execution_count": 47
        }
      ]
    },
    {
      "cell_type": "code",
      "metadata": {
        "id": "mK1Qnp1a4X9r",
        "outputId": "fd6aec86-7eef-4374-f876-c7c553610e24",
        "colab": {
          "base_uri": "https://localhost:8080/",
          "height": 621
        }
      },
      "source": [
        "#show figure:\n",
        "plt.figure(figsize=(10, 10))\n",
        "sns.barplot(x=deposit_cancel.index, y=deposit_cancel[\"mean\"] * 100)\n",
        "plt.title(\"Impact of deposit_type on cancellation\")\n",
        "plt.xlabel(\"Deposit type\")\n",
        "plt.ylabel(\"Cancelations [%]\")\n",
        "plt.show()"
      ],
      "execution_count": 48,
      "outputs": [
        {
          "output_type": "display_data",
          "data": {
            "image/png": "[encoded data removed]",
            "text/plain": [
              "<Figure size 720x720 with 1 Axes>"
            ]
          },
          "metadata": {
            "tags": [],
            "needs_background": "light"
          }
        }
      ]
    },
    {
      "cell_type": "code",
      "metadata": {
        "id": "JlHnCuOMO5IJ",
        "outputId": "5081e841-f698-4132-f182-d597a36fef22",
        "colab": {
          "base_uri": "https://localhost:8080/"
        }
      },
      "source": [
        "segmentwise_breakup=new_df.market_segment.value_counts(normalize=True)*100\n",
        "segmentwise_breakup"
      ],
      "execution_count": 66,
      "outputs": [
        {
          "output_type": "execute_result",
          "data": {
            "text/plain": [
              "Online TA        47.305379\n",
              "Offline TA/TO    20.286298\n",
              "Groups           16.594073\n",
              "Direct           10.558189\n",
              "Corporate         4.435193\n",
              "Complementary     0.622351\n",
              "Aviation          0.198516\n",
              "Name: market_segment, dtype: float64"
            ]
          },
          "metadata": {
            "tags": []
          },
          "execution_count": 66
        }
      ]
    },
    {
      "cell_type": "code",
      "metadata": {
        "id": "C6OUXFbqPvaY",
        "outputId": "74696375-6484-4e4f-ab0a-1f4b6d8720a1",
        "colab": {
          "base_uri": "https://localhost:8080/",
          "height": 422
        }
      },
      "source": [
        "plt.figure(figsize=(12,6))\n",
        "sns.barplot(x='arrival_date_year', y='lead_time',hue='is_canceled', data= new_df, palette='Purples')\n",
        "plt.title('Arriving year, Leadtime and Cancelations')"
      ],
      "execution_count": 70,
      "outputs": [
        {
          "output_type": "execute_result",
          "data": {
            "text/plain": [
              "Text(0.5, 1.0, 'Arriving year, Leadtime and Cancelations')"
            ]
          },
          "metadata": {
            "tags": []
          },
          "execution_count": 70
        },
        {
          "output_type": "display_data",
          "data": {
            "image/png": "[encoded data removed]",
            "text/plain": [
              "<Figure size 864x432 with 1 Axes>"
            ]
          },
          "metadata": {
            "tags": [],
            "needs_background": "light"
          }
        }
      ]
    },
    {
      "cell_type": "code",
      "metadata": {
        "id": "68TthieTP2Mg",
        "outputId": "f1c22ca3-088d-4cf9-95fd-1aab32dfc150",
        "colab": {
          "base_uri": "https://localhost:8080/",
          "height": 213
        }
      },
      "source": [
        "new_df.head(3)\n"
      ],
      "execution_count": 67,
      "outputs": [
        {
          "output_type": "execute_result",
          "data": {
            "text/html": [
              "<div>\n",
              "<style scoped>\n",
              "    .dataframe tbody tr th:only-of-type {\n",
              "        vertical-align: middle;\n",
              "    }\n",
              "\n",
              "    .dataframe tbody tr th {\n",
              "        vertical-align: top;\n",
              "    }\n",
              "\n",
              "    .dataframe thead th {\n",
              "        text-align: right;\n",
              "    }\n",
              "</style>\n",
              "<table border=\"1\" class=\"dataframe\">\n",
              "  <thead>\n",
              "    <tr style=\"text-align: right;\">\n",
              "      <th></th>\n",
              "      <th>hotel</th>\n",
              "      <th>is_canceled</th>\n",
              "      <th>lead_time</th>\n",
              "      <th>arrival_date_year</th>\n",
              "      <th>arrival_date_month</th>\n",
              "      <th>arrival_date_week_number</th>\n",
              "      <th>arrival_date_day_of_month</th>\n",
              "      <th>stays_in_weekend_nights</th>\n",
              "      <th>stays_in_week_nights</th>\n",
              "      <th>adults</th>\n",
              "      <th>children</th>\n",
              "      <th>babies</th>\n",
              "      <th>meal</th>\n",
              "      <th>country</th>\n",
              "      <th>market_segment</th>\n",
              "      <th>distribution_channel</th>\n",
              "      <th>is_repeated_guest</th>\n",
              "      <th>previous_cancellations</th>\n",
              "      <th>previous_bookings_not_canceled</th>\n",
              "      <th>reserved_room_type</th>\n",
              "      <th>assigned_room_type</th>\n",
              "      <th>booking_changes</th>\n",
              "      <th>deposit_type</th>\n",
              "      <th>agent</th>\n",
              "      <th>company</th>\n",
              "      <th>days_in_waiting_list</th>\n",
              "      <th>customer_type</th>\n",
              "      <th>adr</th>\n",
              "      <th>required_car_parking_spaces</th>\n",
              "      <th>total_of_special_requests</th>\n",
              "      <th>reservation_status</th>\n",
              "      <th>reservation_status_date</th>\n",
              "    </tr>\n",
              "  </thead>\n",
              "  <tbody>\n",
              "    <tr>\n",
              "      <th>0</th>\n",
              "      <td>Resort Hotel</td>\n",
              "      <td>0</td>\n",
              "      <td>342</td>\n",
              "      <td>2015</td>\n",
              "      <td>July</td>\n",
              "      <td>27</td>\n",
              "      <td>1</td>\n",
              "      <td>0</td>\n",
              "      <td>0</td>\n",
              "      <td>2</td>\n",
              "      <td>0.0</td>\n",
              "      <td>0</td>\n",
              "      <td>BB</td>\n",
              "      <td>PRT</td>\n",
              "      <td>Direct</td>\n",
              "      <td>Direct</td>\n",
              "      <td>0</td>\n",
              "      <td>0</td>\n",
              "      <td>0</td>\n",
              "      <td>C</td>\n",
              "      <td>C</td>\n",
              "      <td>3</td>\n",
              "      <td>No Deposit</td>\n",
              "      <td>NaN</td>\n",
              "      <td>NaN</td>\n",
              "      <td>0</td>\n",
              "      <td>Transient</td>\n",
              "      <td>0.0</td>\n",
              "      <td>0</td>\n",
              "      <td>0</td>\n",
              "      <td>Check-Out</td>\n",
              "      <td>2015-07-01</td>\n",
              "    </tr>\n",
              "    <tr>\n",
              "      <th>1</th>\n",
              "      <td>Resort Hotel</td>\n",
              "      <td>0</td>\n",
              "      <td>737</td>\n",
              "      <td>2015</td>\n",
              "      <td>July</td>\n",
              "      <td>27</td>\n",
              "      <td>1</td>\n",
              "      <td>0</td>\n",
              "      <td>0</td>\n",
              "      <td>2</td>\n",
              "      <td>0.0</td>\n",
              "      <td>0</td>\n",
              "      <td>BB</td>\n",
              "      <td>PRT</td>\n",
              "      <td>Direct</td>\n",
              "      <td>Direct</td>\n",
              "      <td>0</td>\n",
              "      <td>0</td>\n",
              "      <td>0</td>\n",
              "      <td>C</td>\n",
              "      <td>C</td>\n",
              "      <td>4</td>\n",
              "      <td>No Deposit</td>\n",
              "      <td>NaN</td>\n",
              "      <td>NaN</td>\n",
              "      <td>0</td>\n",
              "      <td>Transient</td>\n",
              "      <td>0.0</td>\n",
              "      <td>0</td>\n",
              "      <td>0</td>\n",
              "      <td>Check-Out</td>\n",
              "      <td>2015-07-01</td>\n",
              "    </tr>\n",
              "    <tr>\n",
              "      <th>2</th>\n",
              "      <td>Resort Hotel</td>\n",
              "      <td>0</td>\n",
              "      <td>7</td>\n",
              "      <td>2015</td>\n",
              "      <td>July</td>\n",
              "      <td>27</td>\n",
              "      <td>1</td>\n",
              "      <td>0</td>\n",
              "      <td>1</td>\n",
              "      <td>1</td>\n",
              "      <td>0.0</td>\n",
              "      <td>0</td>\n",
              "      <td>BB</td>\n",
              "      <td>GBR</td>\n",
              "      <td>Direct</td>\n",
              "      <td>Direct</td>\n",
              "      <td>0</td>\n",
              "      <td>0</td>\n",
              "      <td>0</td>\n",
              "      <td>A</td>\n",
              "      <td>C</td>\n",
              "      <td>0</td>\n",
              "      <td>No Deposit</td>\n",
              "      <td>NaN</td>\n",
              "      <td>NaN</td>\n",
              "      <td>0</td>\n",
              "      <td>Transient</td>\n",
              "      <td>75.0</td>\n",
              "      <td>0</td>\n",
              "      <td>0</td>\n",
              "      <td>Check-Out</td>\n",
              "      <td>2015-07-02</td>\n",
              "    </tr>\n",
              "  </tbody>\n",
              "</table>\n",
              "</div>"
            ],
            "text/plain": [
              "          hotel  is_canceled  ...  reservation_status  reservation_status_date\n",
              "0  Resort Hotel            0  ...           Check-Out               2015-07-01\n",
              "1  Resort Hotel            0  ...           Check-Out               2015-07-01\n",
              "2  Resort Hotel            0  ...           Check-Out               2015-07-02\n",
              "\n",
              "[3 rows x 32 columns]"
            ]
          },
          "metadata": {
            "tags": []
          },
          "execution_count": 67
        }
      ]
    },
    {
      "cell_type": "code",
      "metadata": {
        "id": "fyiR5iYma8IJ",
        "outputId": "74609d49-83c6-45dc-fee0-9db202af421e",
        "colab": {
          "base_uri": "https://localhost:8080/",
          "height": 419
        }
      },
      "source": [
        "#How much do guests pay for a room per night?\n",
        "ppp_df = no_cancel[['hotel','adults','children','assigned_room_type','arrival_date_month','arrival_date_year','adr']]\n",
        "ppp_df"
      ],
      "execution_count": 135,
      "outputs": [
        {
          "output_type": "execute_result",
          "data": {
            "text/html": [
              "<div>\n",
              "<style scoped>\n",
              "    .dataframe tbody tr th:only-of-type {\n",
              "        vertical-align: middle;\n",
              "    }\n",
              "\n",
              "    .dataframe tbody tr th {\n",
              "        vertical-align: top;\n",
              "    }\n",
              "\n",
              "    .dataframe thead th {\n",
              "        text-align: right;\n",
              "    }\n",
              "</style>\n",
              "<table border=\"1\" class=\"dataframe\">\n",
              "  <thead>\n",
              "    <tr style=\"text-align: right;\">\n",
              "      <th></th>\n",
              "      <th>hotel</th>\n",
              "      <th>adults</th>\n",
              "      <th>children</th>\n",
              "      <th>assigned_room_type</th>\n",
              "      <th>arrival_date_month</th>\n",
              "      <th>arrival_date_year</th>\n",
              "      <th>adr</th>\n",
              "    </tr>\n",
              "  </thead>\n",
              "  <tbody>\n",
              "    <tr>\n",
              "      <th>0</th>\n",
              "      <td>Resort Hotel</td>\n",
              "      <td>2</td>\n",
              "      <td>0.0</td>\n",
              "      <td>C</td>\n",
              "      <td>July</td>\n",
              "      <td>2015</td>\n",
              "      <td>0.00</td>\n",
              "    </tr>\n",
              "    <tr>\n",
              "      <th>1</th>\n",
              "      <td>Resort Hotel</td>\n",
              "      <td>2</td>\n",
              "      <td>0.0</td>\n",
              "      <td>C</td>\n",
              "      <td>July</td>\n",
              "      <td>2015</td>\n",
              "      <td>0.00</td>\n",
              "    </tr>\n",
              "    <tr>\n",
              "      <th>2</th>\n",
              "      <td>Resort Hotel</td>\n",
              "      <td>1</td>\n",
              "      <td>0.0</td>\n",
              "      <td>C</td>\n",
              "      <td>July</td>\n",
              "      <td>2015</td>\n",
              "      <td>75.00</td>\n",
              "    </tr>\n",
              "    <tr>\n",
              "      <th>3</th>\n",
              "      <td>Resort Hotel</td>\n",
              "      <td>1</td>\n",
              "      <td>0.0</td>\n",
              "      <td>A</td>\n",
              "      <td>July</td>\n",
              "      <td>2015</td>\n",
              "      <td>75.00</td>\n",
              "    </tr>\n",
              "    <tr>\n",
              "      <th>4</th>\n",
              "      <td>Resort Hotel</td>\n",
              "      <td>2</td>\n",
              "      <td>0.0</td>\n",
              "      <td>A</td>\n",
              "      <td>July</td>\n",
              "      <td>2015</td>\n",
              "      <td>98.00</td>\n",
              "    </tr>\n",
              "    <tr>\n",
              "      <th>...</th>\n",
              "      <td>...</td>\n",
              "      <td>...</td>\n",
              "      <td>...</td>\n",
              "      <td>...</td>\n",
              "      <td>...</td>\n",
              "      <td>...</td>\n",
              "      <td>...</td>\n",
              "    </tr>\n",
              "    <tr>\n",
              "      <th>119385</th>\n",
              "      <td>City Hotel</td>\n",
              "      <td>2</td>\n",
              "      <td>0.0</td>\n",
              "      <td>A</td>\n",
              "      <td>August</td>\n",
              "      <td>2017</td>\n",
              "      <td>96.14</td>\n",
              "    </tr>\n",
              "    <tr>\n",
              "      <th>119386</th>\n",
              "      <td>City Hotel</td>\n",
              "      <td>3</td>\n",
              "      <td>0.0</td>\n",
              "      <td>E</td>\n",
              "      <td>August</td>\n",
              "      <td>2017</td>\n",
              "      <td>225.43</td>\n",
              "    </tr>\n",
              "    <tr>\n",
              "      <th>119387</th>\n",
              "      <td>City Hotel</td>\n",
              "      <td>2</td>\n",
              "      <td>0.0</td>\n",
              "      <td>D</td>\n",
              "      <td>August</td>\n",
              "      <td>2017</td>\n",
              "      <td>157.71</td>\n",
              "    </tr>\n",
              "    <tr>\n",
              "      <th>119388</th>\n",
              "      <td>City Hotel</td>\n",
              "      <td>2</td>\n",
              "      <td>0.0</td>\n",
              "      <td>A</td>\n",
              "      <td>August</td>\n",
              "      <td>2017</td>\n",
              "      <td>104.40</td>\n",
              "    </tr>\n",
              "    <tr>\n",
              "      <th>119389</th>\n",
              "      <td>City Hotel</td>\n",
              "      <td>2</td>\n",
              "      <td>0.0</td>\n",
              "      <td>A</td>\n",
              "      <td>August</td>\n",
              "      <td>2017</td>\n",
              "      <td>151.20</td>\n",
              "    </tr>\n",
              "  </tbody>\n",
              "</table>\n",
              "<p>75166 rows × 7 columns</p>\n",
              "</div>"
            ],
            "text/plain": [
              "               hotel  adults  ...  arrival_date_year     adr\n",
              "0       Resort Hotel       2  ...               2015    0.00\n",
              "1       Resort Hotel       2  ...               2015    0.00\n",
              "2       Resort Hotel       1  ...               2015   75.00\n",
              "3       Resort Hotel       1  ...               2015   75.00\n",
              "4       Resort Hotel       2  ...               2015   98.00\n",
              "...              ...     ...  ...                ...     ...\n",
              "119385    City Hotel       2  ...               2017   96.14\n",
              "119386    City Hotel       3  ...               2017  225.43\n",
              "119387    City Hotel       2  ...               2017  157.71\n",
              "119388    City Hotel       2  ...               2017  104.40\n",
              "119389    City Hotel       2  ...               2017  151.20\n",
              "\n",
              "[75166 rows x 7 columns]"
            ]
          },
          "metadata": {
            "tags": []
          },
          "execution_count": 135
        }
      ]
    },
    {
      "cell_type": "code",
      "metadata": {
        "id": "620vZ2F8cGAB",
        "outputId": "65e55b37-be34-4288-d4b4-f98c07b9fcef",
        "colab": {
          "base_uri": "https://localhost:8080/"
        }
      },
      "source": [
        "new_df1['adr_per_person'] = new_df1['adr']/(new_df1['adults'] + new_df1['children'])"
      ],
      "execution_count": 141,
      "outputs": [
        {
          "output_type": "stream",
          "text": [
            "/usr/local/lib/python3.6/dist-packages/ipykernel_launcher.py:1: SettingWithCopyWarning: \n",
            "A value is trying to be set on a copy of a slice from a DataFrame.\n",
            "Try using .loc[row_indexer,col_indexer] = value instead\n",
            "\n",
            "See the caveats in the documentation: https://pandas.pydata.org/pandas-docs/stable/user_guide/indexing.html#returning-a-view-versus-a-copy\n",
            "  \"\"\"Entry point for launching an IPython kernel.\n"
          ],
          "name": "stderr"
        }
      ]
    },
    {
      "cell_type": "code",
      "metadata": {
        "id": "4AmupyaeceFQ",
        "outputId": "4dbb389c-5133-4df6-e0a8-230ea3ebdf3d",
        "colab": {
          "base_uri": "https://localhost:8080/",
          "height": 213
        }
      },
      "source": [
        "new_df1.head(3)"
      ],
      "execution_count": 142,
      "outputs": [
        {
          "output_type": "execute_result",
          "data": {
            "text/html": [
              "<div>\n",
              "<style scoped>\n",
              "    .dataframe tbody tr th:only-of-type {\n",
              "        vertical-align: middle;\n",
              "    }\n",
              "\n",
              "    .dataframe tbody tr th {\n",
              "        vertical-align: top;\n",
              "    }\n",
              "\n",
              "    .dataframe thead th {\n",
              "        text-align: right;\n",
              "    }\n",
              "</style>\n",
              "<table border=\"1\" class=\"dataframe\">\n",
              "  <thead>\n",
              "    <tr style=\"text-align: right;\">\n",
              "      <th></th>\n",
              "      <th>hotel</th>\n",
              "      <th>is_canceled</th>\n",
              "      <th>lead_time</th>\n",
              "      <th>arrival_date_year</th>\n",
              "      <th>arrival_date_month</th>\n",
              "      <th>arrival_date_week_number</th>\n",
              "      <th>arrival_date_day_of_month</th>\n",
              "      <th>stays_in_weekend_nights</th>\n",
              "      <th>stays_in_week_nights</th>\n",
              "      <th>adults</th>\n",
              "      <th>children</th>\n",
              "      <th>babies</th>\n",
              "      <th>meal</th>\n",
              "      <th>country</th>\n",
              "      <th>market_segment</th>\n",
              "      <th>distribution_channel</th>\n",
              "      <th>is_repeated_guest</th>\n",
              "      <th>previous_cancellations</th>\n",
              "      <th>previous_bookings_not_canceled</th>\n",
              "      <th>reserved_room_type</th>\n",
              "      <th>assigned_room_type</th>\n",
              "      <th>booking_changes</th>\n",
              "      <th>deposit_type</th>\n",
              "      <th>agent</th>\n",
              "      <th>company</th>\n",
              "      <th>days_in_waiting_list</th>\n",
              "      <th>customer_type</th>\n",
              "      <th>adr</th>\n",
              "      <th>required_car_parking_spaces</th>\n",
              "      <th>total_of_special_requests</th>\n",
              "      <th>reservation_status</th>\n",
              "      <th>reservation_status_date</th>\n",
              "      <th>total_members</th>\n",
              "      <th>total_nights</th>\n",
              "      <th>adr_per_person</th>\n",
              "    </tr>\n",
              "  </thead>\n",
              "  <tbody>\n",
              "    <tr>\n",
              "      <th>0</th>\n",
              "      <td>Resort Hotel</td>\n",
              "      <td>0</td>\n",
              "      <td>342</td>\n",
              "      <td>2015</td>\n",
              "      <td>July</td>\n",
              "      <td>27</td>\n",
              "      <td>1</td>\n",
              "      <td>0</td>\n",
              "      <td>0</td>\n",
              "      <td>2</td>\n",
              "      <td>0.0</td>\n",
              "      <td>0</td>\n",
              "      <td>BB</td>\n",
              "      <td>PRT</td>\n",
              "      <td>Direct</td>\n",
              "      <td>Direct</td>\n",
              "      <td>0</td>\n",
              "      <td>0</td>\n",
              "      <td>0</td>\n",
              "      <td>C</td>\n",
              "      <td>C</td>\n",
              "      <td>3</td>\n",
              "      <td>No Deposit</td>\n",
              "      <td>NaN</td>\n",
              "      <td>NaN</td>\n",
              "      <td>0</td>\n",
              "      <td>Transient</td>\n",
              "      <td>0.0</td>\n",
              "      <td>0</td>\n",
              "      <td>0</td>\n",
              "      <td>Check-Out</td>\n",
              "      <td>2015-07-01</td>\n",
              "      <td>2.0</td>\n",
              "      <td>0</td>\n",
              "      <td>0.0</td>\n",
              "    </tr>\n",
              "    <tr>\n",
              "      <th>1</th>\n",
              "      <td>Resort Hotel</td>\n",
              "      <td>0</td>\n",
              "      <td>737</td>\n",
              "      <td>2015</td>\n",
              "      <td>July</td>\n",
              "      <td>27</td>\n",
              "      <td>1</td>\n",
              "      <td>0</td>\n",
              "      <td>0</td>\n",
              "      <td>2</td>\n",
              "      <td>0.0</td>\n",
              "      <td>0</td>\n",
              "      <td>BB</td>\n",
              "      <td>PRT</td>\n",
              "      <td>Direct</td>\n",
              "      <td>Direct</td>\n",
              "      <td>0</td>\n",
              "      <td>0</td>\n",
              "      <td>0</td>\n",
              "      <td>C</td>\n",
              "      <td>C</td>\n",
              "      <td>4</td>\n",
              "      <td>No Deposit</td>\n",
              "      <td>NaN</td>\n",
              "      <td>NaN</td>\n",
              "      <td>0</td>\n",
              "      <td>Transient</td>\n",
              "      <td>0.0</td>\n",
              "      <td>0</td>\n",
              "      <td>0</td>\n",
              "      <td>Check-Out</td>\n",
              "      <td>2015-07-01</td>\n",
              "      <td>2.0</td>\n",
              "      <td>0</td>\n",
              "      <td>0.0</td>\n",
              "    </tr>\n",
              "    <tr>\n",
              "      <th>2</th>\n",
              "      <td>Resort Hotel</td>\n",
              "      <td>0</td>\n",
              "      <td>7</td>\n",
              "      <td>2015</td>\n",
              "      <td>July</td>\n",
              "      <td>27</td>\n",
              "      <td>1</td>\n",
              "      <td>0</td>\n",
              "      <td>1</td>\n",
              "      <td>1</td>\n",
              "      <td>0.0</td>\n",
              "      <td>0</td>\n",
              "      <td>BB</td>\n",
              "      <td>GBR</td>\n",
              "      <td>Direct</td>\n",
              "      <td>Direct</td>\n",
              "      <td>0</td>\n",
              "      <td>0</td>\n",
              "      <td>0</td>\n",
              "      <td>A</td>\n",
              "      <td>C</td>\n",
              "      <td>0</td>\n",
              "      <td>No Deposit</td>\n",
              "      <td>NaN</td>\n",
              "      <td>NaN</td>\n",
              "      <td>0</td>\n",
              "      <td>Transient</td>\n",
              "      <td>75.0</td>\n",
              "      <td>0</td>\n",
              "      <td>0</td>\n",
              "      <td>Check-Out</td>\n",
              "      <td>2015-07-02</td>\n",
              "      <td>1.0</td>\n",
              "      <td>1</td>\n",
              "      <td>75.0</td>\n",
              "    </tr>\n",
              "  </tbody>\n",
              "</table>\n",
              "</div>"
            ],
            "text/plain": [
              "          hotel  is_canceled  ...  total_nights  adr_per_person\n",
              "0  Resort Hotel            0  ...             0             0.0\n",
              "1  Resort Hotel            0  ...             0             0.0\n",
              "2  Resort Hotel            0  ...             1            75.0\n",
              "\n",
              "[3 rows x 35 columns]"
            ]
          },
          "metadata": {
            "tags": []
          },
          "execution_count": 142
        }
      ]
    },
    {
      "cell_type": "code",
      "metadata": {
        "id": "-XDT7wrYbxfC",
        "outputId": "64fe2096-b48d-451c-d9e3-bc19f65347c9",
        "colab": {
          "base_uri": "https://localhost:8080/",
          "height": 162
        }
      },
      "source": [
        "new_df.groupby(['hotel','assigned_room_type'])['adr_per_person'].mean().unstack()"
      ],
      "execution_count": 123,
      "outputs": [
        {
          "output_type": "execute_result",
          "data": {
            "text/html": [
              "<div>\n",
              "<style scoped>\n",
              "    .dataframe tbody tr th:only-of-type {\n",
              "        vertical-align: middle;\n",
              "    }\n",
              "\n",
              "    .dataframe tbody tr th {\n",
              "        vertical-align: top;\n",
              "    }\n",
              "\n",
              "    .dataframe thead th {\n",
              "        text-align: right;\n",
              "    }\n",
              "</style>\n",
              "<table border=\"1\" class=\"dataframe\">\n",
              "  <thead>\n",
              "    <tr style=\"text-align: right;\">\n",
              "      <th>assigned_room_type</th>\n",
              "      <th>A</th>\n",
              "      <th>B</th>\n",
              "      <th>C</th>\n",
              "      <th>D</th>\n",
              "      <th>E</th>\n",
              "      <th>F</th>\n",
              "      <th>G</th>\n",
              "      <th>H</th>\n",
              "      <th>I</th>\n",
              "      <th>K</th>\n",
              "      <th>L</th>\n",
              "      <th>P</th>\n",
              "    </tr>\n",
              "    <tr>\n",
              "      <th>hotel</th>\n",
              "      <th></th>\n",
              "      <th></th>\n",
              "      <th></th>\n",
              "      <th></th>\n",
              "      <th></th>\n",
              "      <th></th>\n",
              "      <th></th>\n",
              "      <th></th>\n",
              "      <th></th>\n",
              "      <th></th>\n",
              "      <th></th>\n",
              "      <th></th>\n",
              "    </tr>\n",
              "  </thead>\n",
              "  <tbody>\n",
              "    <tr>\n",
              "      <th>City Hotel</th>\n",
              "      <td>inf</td>\n",
              "      <td>54.024902</td>\n",
              "      <td>64.229898</td>\n",
              "      <td>61.265604</td>\n",
              "      <td>74.004251</td>\n",
              "      <td>58.547557</td>\n",
              "      <td>inf</td>\n",
              "      <td>NaN</td>\n",
              "      <td>NaN</td>\n",
              "      <td>inf</td>\n",
              "      <td>NaN</td>\n",
              "      <td>NaN</td>\n",
              "    </tr>\n",
              "    <tr>\n",
              "      <th>Resort Hotel</th>\n",
              "      <td>46.278719</td>\n",
              "      <td>57.454708</td>\n",
              "      <td>46.676145</td>\n",
              "      <td>inf</td>\n",
              "      <td>56.869915</td>\n",
              "      <td>62.240974</td>\n",
              "      <td>54.705142</td>\n",
              "      <td>52.349578</td>\n",
              "      <td>45.952233</td>\n",
              "      <td>NaN</td>\n",
              "      <td>4.0</td>\n",
              "      <td>NaN</td>\n",
              "    </tr>\n",
              "  </tbody>\n",
              "</table>\n",
              "</div>"
            ],
            "text/plain": [
              "assigned_room_type          A          B          C  ...    K    L   P\n",
              "hotel                                                ...              \n",
              "City Hotel                inf  54.024902  64.229898  ...  inf  NaN NaN\n",
              "Resort Hotel        46.278719  57.454708  46.676145  ...  NaN  4.0 NaN\n",
              "\n",
              "[2 rows x 12 columns]"
            ]
          },
          "metadata": {
            "tags": []
          },
          "execution_count": 123
        }
      ]
    },
    {
      "cell_type": "code",
      "metadata": {
        "id": "i5ooA-leP5Bc"
      },
      "source": [
        ""
      ],
      "execution_count": null,
      "outputs": []
    },
    {
      "cell_type": "code",
      "metadata": {
        "id": "zo49qt3efaFa",
        "outputId": "33a1c521-40dc-4602-e29c-3985f4b70ae3",
        "colab": {
          "base_uri": "https://localhost:8080/"
        }
      },
      "source": [
        "#Month have the highest number of cancelations\n",
        "new_df[new_df['is_canceled'] == 1]['arrival_date_month'].value_counts()"
      ],
      "execution_count": 145,
      "outputs": [
        {
          "output_type": "execute_result",
          "data": {
            "text/plain": [
              "August       5235\n",
              "July         4742\n",
              "May          4677\n",
              "June         4535\n",
              "April        4524\n",
              "October      4246\n",
              "September    4116\n",
              "March        3149\n",
              "February     2696\n",
              "December     2371\n",
              "November     2122\n",
              "January      1807\n",
              "Name: arrival_date_month, dtype: int64"
            ]
          },
          "metadata": {
            "tags": []
          },
          "execution_count": 145
        }
      ]
    },
    {
      "cell_type": "code",
      "metadata": {
        "id": "gnUslL0Yfgd7",
        "outputId": "613da212-c965-4be5-a124-82c3dbd33006",
        "colab": {
          "base_uri": "https://localhost:8080/",
          "height": 938
        }
      },
      "source": [
        "plt.figure(figsize = (20,20))\n",
        "ax = sns.countplot(x = 'arrival_date_month',hue = 'hotel', data = new_df[new_df['is_canceled'] == 1])\n",
        "ax.set_ylabel('number_of_cancelation')"
      ],
      "execution_count": 148,
      "outputs": [
        {
          "output_type": "execute_result",
          "data": {
            "text/plain": [
              "Text(0, 0.5, 'number_of_cancelation')"
            ]
          },
          "metadata": {
            "tags": []
          },
          "execution_count": 148
        },
        {
          "output_type": "display_data",
          "data": {
            "image/png": "[encoded data removed]",
            "text/plain": [
              "<Figure size 1440x1440 with 1 Axes>"
            ]
          },
          "metadata": {
            "tags": [],
            "needs_background": "light"
          }
        }
      ]
    }
  ]
}